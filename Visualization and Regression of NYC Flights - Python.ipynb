{
 "cells": [
  {
   "cell_type": "markdown",
   "metadata": {
    "ein.tags": "worksheet-0",
    "slideshow": {
     "slide_type": "-"
    }
   },
   "source": [
    "## Overview: \n",
    "\n",
    "In this project, you will perform a basic exploratory analysis on an example dataset, bringing to bear all of your new skills in data manipulation and visualization. You will be required to submit well commented python code, documenting all code used in this problem set, along with a write up answering all questions below. Use figures as appropriate to support your answers, and when required by the problem.\n",
    "Always comment your results, preferably in a separate markdown cell.\n"
   ]
  },
  {
   "cell_type": "code",
   "execution_count": 2,
   "metadata": {},
   "outputs": [
    {
     "name": "stdout",
     "output_type": "stream",
     "text": [
      "IPython version:       7.4.0 (need at least 1.0)\n",
      "Numpy version:        1.16.2 (need at least 1.7.1)\n",
      "SciPy version:         1.2.1 (need at least 0.12.0)\n",
      "Pandas version:       0.24.2 (need at least 0.11.0)\n",
      "Mapltolib version:     3.0.3 (need at least 1.2.1)\n",
      "Scikit-Learn version: 0.20.3 (need at least 0.13.1)\n"
     ]
    }
   ],
   "source": [
    "#IPython is what you are using now to run the notebook\n",
    "import IPython\n",
    "print( \"IPython version:      %6.6s (need at least 1.0)\" % IPython.__version__)\n",
    "\n",
    "# Numpy is a library for working with arrays and matrices\n",
    "import numpy as np\n",
    "print( \"Numpy version:        %6.6s (need at least 1.7.1)\" % np.__version__)\n",
    "\n",
    "# SciPy implements many different numerical algorithms\n",
    "import scipy as sp\n",
    "print( \"SciPy version:        %6.6s (need at least 0.12.0)\" % sp.__version__)\n",
    "\n",
    "# Pandas makes working with data tables easier\n",
    "import pandas as pd\n",
    "print( \"Pandas version:       %6.6s (need at least 0.11.0)\" % pd.__version__)\n",
    "\n",
    "# Module for plotting\n",
    "import matplotlib.pyplot as plt  \n",
    "from pylab import *\n",
    "print( \"Mapltolib version:    %6.6s (need at least 1.2.1)\" %\n",
    "       matplotlib.__version__)\n",
    "%matplotlib inline\n",
    "# necessary for in-line graphics\n",
    "\n",
    "# SciKit Learn implements several Machine Learning algorithms\n",
    "import sklearn\n",
    "print( \"Scikit-Learn version: %6.6s (need at least 0.13.1)\" %\n",
    "       sklearn.__version__)\n",
    "import os\n",
    "# for certain system-related functions"
   ]
  },
  {
   "cell_type": "markdown",
   "metadata": {
    "ein.tags": "worksheet-0",
    "slideshow": {
     "slide_type": "-"
    }
   },
   "source": [
    "## Preliminaries\n",
    "\n",
    "You should also make sure the following libraries load correctly.\n",
    "Below are a few basic data description tasks already done for you. "
   ]
  },
  {
   "cell_type": "code",
   "execution_count": 3,
   "metadata": {
    "autoscroll": false,
    "ein.tags": "worksheet-0",
    "slideshow": {
     "slide_type": "-"
    }
   },
   "outputs": [],
   "source": [
    "## Let's read the data and print some summary information\n",
    "## adjust the path for your file system!\n",
    "## you can find the path like this:\n",
    "path = os.getcwd()\n",
    "#print(path)\n",
    "flights_df= pd.read_csv('flights.csv.bz2')"
   ]
  },
  {
   "cell_type": "code",
   "execution_count": 4,
   "metadata": {
    "autoscroll": false,
    "ein.tags": "worksheet-0",
    "slideshow": {
     "slide_type": "-"
    }
   },
   "outputs": [
    {
     "name": "stdout",
     "output_type": "stream",
     "text": [
      "(336776, 17)\n",
      "Index(['Unnamed: 0', 'year', 'month', 'day', 'dep_time', 'dep_delay',\n",
      "       'arr_time', 'arr_delay', 'carrier', 'tailnum', 'flight', 'origin',\n",
      "       'dest', 'air_time', 'distance', 'hour', 'minute'],\n",
      "      dtype='object')\n",
      "Unnamed: 0      int64\n",
      "year            int64\n",
      "month           int64\n",
      "day             int64\n",
      "dep_time      float64\n",
      "dep_delay     float64\n",
      "arr_time      float64\n",
      "arr_delay     float64\n",
      "carrier        object\n",
      "tailnum        object\n",
      "flight          int64\n",
      "origin         object\n",
      "dest           object\n",
      "air_time      float64\n",
      "distance        int64\n",
      "hour          float64\n",
      "minute        float64\n",
      "dtype: object\n"
     ]
    }
   ],
   "source": [
    "## Extract some basic information about the data like number of rows,\n",
    "## columns, column names, data types\n",
    "print(flights_df.shape)\n",
    "print(flights_df.columns)\n",
    "print(flights_df.dtypes)"
   ]
  },
  {
   "cell_type": "code",
   "execution_count": 5,
   "metadata": {
    "autoscroll": false,
    "ein.tags": "worksheet-0",
    "slideshow": {
     "slide_type": "-"
    }
   },
   "outputs": [
    {
     "name": "stdout",
     "output_type": "stream",
     "text": [
      "head\n",
      "\n"
     ]
    },
    {
     "data": {
      "text/html": [
       "<div>\n",
       "<style scoped>\n",
       "    .dataframe tbody tr th:only-of-type {\n",
       "        vertical-align: middle;\n",
       "    }\n",
       "\n",
       "    .dataframe tbody tr th {\n",
       "        vertical-align: top;\n",
       "    }\n",
       "\n",
       "    .dataframe thead th {\n",
       "        text-align: right;\n",
       "    }\n",
       "</style>\n",
       "<table border=\"1\" class=\"dataframe\">\n",
       "  <thead>\n",
       "    <tr style=\"text-align: right;\">\n",
       "      <th></th>\n",
       "      <th>Unnamed: 0</th>\n",
       "      <th>year</th>\n",
       "      <th>month</th>\n",
       "      <th>day</th>\n",
       "      <th>dep_time</th>\n",
       "      <th>dep_delay</th>\n",
       "      <th>arr_time</th>\n",
       "      <th>arr_delay</th>\n",
       "      <th>carrier</th>\n",
       "      <th>tailnum</th>\n",
       "      <th>flight</th>\n",
       "      <th>origin</th>\n",
       "      <th>dest</th>\n",
       "      <th>air_time</th>\n",
       "      <th>distance</th>\n",
       "      <th>hour</th>\n",
       "      <th>minute</th>\n",
       "    </tr>\n",
       "  </thead>\n",
       "  <tbody>\n",
       "    <tr>\n",
       "      <th>0</th>\n",
       "      <td>1</td>\n",
       "      <td>2013</td>\n",
       "      <td>1</td>\n",
       "      <td>1</td>\n",
       "      <td>517.0</td>\n",
       "      <td>2.0</td>\n",
       "      <td>830.0</td>\n",
       "      <td>11.0</td>\n",
       "      <td>UA</td>\n",
       "      <td>N14228</td>\n",
       "      <td>1545</td>\n",
       "      <td>EWR</td>\n",
       "      <td>IAH</td>\n",
       "      <td>227.0</td>\n",
       "      <td>1400</td>\n",
       "      <td>5.0</td>\n",
       "      <td>17.0</td>\n",
       "    </tr>\n",
       "    <tr>\n",
       "      <th>1</th>\n",
       "      <td>2</td>\n",
       "      <td>2013</td>\n",
       "      <td>1</td>\n",
       "      <td>1</td>\n",
       "      <td>533.0</td>\n",
       "      <td>4.0</td>\n",
       "      <td>850.0</td>\n",
       "      <td>20.0</td>\n",
       "      <td>UA</td>\n",
       "      <td>N24211</td>\n",
       "      <td>1714</td>\n",
       "      <td>LGA</td>\n",
       "      <td>IAH</td>\n",
       "      <td>227.0</td>\n",
       "      <td>1416</td>\n",
       "      <td>5.0</td>\n",
       "      <td>33.0</td>\n",
       "    </tr>\n",
       "    <tr>\n",
       "      <th>2</th>\n",
       "      <td>3</td>\n",
       "      <td>2013</td>\n",
       "      <td>1</td>\n",
       "      <td>1</td>\n",
       "      <td>542.0</td>\n",
       "      <td>2.0</td>\n",
       "      <td>923.0</td>\n",
       "      <td>33.0</td>\n",
       "      <td>AA</td>\n",
       "      <td>N619AA</td>\n",
       "      <td>1141</td>\n",
       "      <td>JFK</td>\n",
       "      <td>MIA</td>\n",
       "      <td>160.0</td>\n",
       "      <td>1089</td>\n",
       "      <td>5.0</td>\n",
       "      <td>42.0</td>\n",
       "    </tr>\n",
       "    <tr>\n",
       "      <th>3</th>\n",
       "      <td>4</td>\n",
       "      <td>2013</td>\n",
       "      <td>1</td>\n",
       "      <td>1</td>\n",
       "      <td>544.0</td>\n",
       "      <td>-1.0</td>\n",
       "      <td>1004.0</td>\n",
       "      <td>-18.0</td>\n",
       "      <td>B6</td>\n",
       "      <td>N804JB</td>\n",
       "      <td>725</td>\n",
       "      <td>JFK</td>\n",
       "      <td>BQN</td>\n",
       "      <td>183.0</td>\n",
       "      <td>1576</td>\n",
       "      <td>5.0</td>\n",
       "      <td>44.0</td>\n",
       "    </tr>\n",
       "    <tr>\n",
       "      <th>4</th>\n",
       "      <td>5</td>\n",
       "      <td>2013</td>\n",
       "      <td>1</td>\n",
       "      <td>1</td>\n",
       "      <td>554.0</td>\n",
       "      <td>-6.0</td>\n",
       "      <td>812.0</td>\n",
       "      <td>-25.0</td>\n",
       "      <td>DL</td>\n",
       "      <td>N668DN</td>\n",
       "      <td>461</td>\n",
       "      <td>LGA</td>\n",
       "      <td>ATL</td>\n",
       "      <td>116.0</td>\n",
       "      <td>762</td>\n",
       "      <td>5.0</td>\n",
       "      <td>54.0</td>\n",
       "    </tr>\n",
       "  </tbody>\n",
       "</table>\n",
       "</div>"
      ],
      "text/plain": [
       "   Unnamed: 0  year  month  day  dep_time  dep_delay  arr_time  arr_delay  \\\n",
       "0           1  2013      1    1     517.0        2.0     830.0       11.0   \n",
       "1           2  2013      1    1     533.0        4.0     850.0       20.0   \n",
       "2           3  2013      1    1     542.0        2.0     923.0       33.0   \n",
       "3           4  2013      1    1     544.0       -1.0    1004.0      -18.0   \n",
       "4           5  2013      1    1     554.0       -6.0     812.0      -25.0   \n",
       "\n",
       "  carrier tailnum  flight origin dest  air_time  distance  hour  minute  \n",
       "0      UA  N14228    1545    EWR  IAH     227.0      1400   5.0    17.0  \n",
       "1      UA  N24211    1714    LGA  IAH     227.0      1416   5.0    33.0  \n",
       "2      AA  N619AA    1141    JFK  MIA     160.0      1089   5.0    42.0  \n",
       "3      B6  N804JB     725    JFK  BQN     183.0      1576   5.0    44.0  \n",
       "4      DL  N668DN     461    LGA  ATL     116.0       762   5.0    54.0  "
      ]
     },
     "execution_count": 5,
     "metadata": {},
     "output_type": "execute_result"
    }
   ],
   "source": [
    "## print the first and last few lines of the data\n",
    "print(\"head\\n\")\n",
    "flights_df.head()"
   ]
  },
  {
   "cell_type": "code",
   "execution_count": 6,
   "metadata": {},
   "outputs": [
    {
     "name": "stdout",
     "output_type": "stream",
     "text": [
      "tail\n",
      "\n"
     ]
    },
    {
     "data": {
      "text/html": [
       "<div>\n",
       "<style scoped>\n",
       "    .dataframe tbody tr th:only-of-type {\n",
       "        vertical-align: middle;\n",
       "    }\n",
       "\n",
       "    .dataframe tbody tr th {\n",
       "        vertical-align: top;\n",
       "    }\n",
       "\n",
       "    .dataframe thead th {\n",
       "        text-align: right;\n",
       "    }\n",
       "</style>\n",
       "<table border=\"1\" class=\"dataframe\">\n",
       "  <thead>\n",
       "    <tr style=\"text-align: right;\">\n",
       "      <th></th>\n",
       "      <th>Unnamed: 0</th>\n",
       "      <th>year</th>\n",
       "      <th>month</th>\n",
       "      <th>day</th>\n",
       "      <th>dep_time</th>\n",
       "      <th>dep_delay</th>\n",
       "      <th>arr_time</th>\n",
       "      <th>arr_delay</th>\n",
       "      <th>carrier</th>\n",
       "      <th>tailnum</th>\n",
       "      <th>flight</th>\n",
       "      <th>origin</th>\n",
       "      <th>dest</th>\n",
       "      <th>air_time</th>\n",
       "      <th>distance</th>\n",
       "      <th>hour</th>\n",
       "      <th>minute</th>\n",
       "    </tr>\n",
       "  </thead>\n",
       "  <tbody>\n",
       "    <tr>\n",
       "      <th>336771</th>\n",
       "      <td>336772</td>\n",
       "      <td>2013</td>\n",
       "      <td>9</td>\n",
       "      <td>30</td>\n",
       "      <td>NaN</td>\n",
       "      <td>NaN</td>\n",
       "      <td>NaN</td>\n",
       "      <td>NaN</td>\n",
       "      <td>9E</td>\n",
       "      <td>NaN</td>\n",
       "      <td>3393</td>\n",
       "      <td>JFK</td>\n",
       "      <td>DCA</td>\n",
       "      <td>NaN</td>\n",
       "      <td>213</td>\n",
       "      <td>NaN</td>\n",
       "      <td>NaN</td>\n",
       "    </tr>\n",
       "    <tr>\n",
       "      <th>336772</th>\n",
       "      <td>336773</td>\n",
       "      <td>2013</td>\n",
       "      <td>9</td>\n",
       "      <td>30</td>\n",
       "      <td>NaN</td>\n",
       "      <td>NaN</td>\n",
       "      <td>NaN</td>\n",
       "      <td>NaN</td>\n",
       "      <td>9E</td>\n",
       "      <td>NaN</td>\n",
       "      <td>3525</td>\n",
       "      <td>LGA</td>\n",
       "      <td>SYR</td>\n",
       "      <td>NaN</td>\n",
       "      <td>198</td>\n",
       "      <td>NaN</td>\n",
       "      <td>NaN</td>\n",
       "    </tr>\n",
       "    <tr>\n",
       "      <th>336773</th>\n",
       "      <td>336774</td>\n",
       "      <td>2013</td>\n",
       "      <td>9</td>\n",
       "      <td>30</td>\n",
       "      <td>NaN</td>\n",
       "      <td>NaN</td>\n",
       "      <td>NaN</td>\n",
       "      <td>NaN</td>\n",
       "      <td>MQ</td>\n",
       "      <td>N535MQ</td>\n",
       "      <td>3461</td>\n",
       "      <td>LGA</td>\n",
       "      <td>BNA</td>\n",
       "      <td>NaN</td>\n",
       "      <td>764</td>\n",
       "      <td>NaN</td>\n",
       "      <td>NaN</td>\n",
       "    </tr>\n",
       "    <tr>\n",
       "      <th>336774</th>\n",
       "      <td>336775</td>\n",
       "      <td>2013</td>\n",
       "      <td>9</td>\n",
       "      <td>30</td>\n",
       "      <td>NaN</td>\n",
       "      <td>NaN</td>\n",
       "      <td>NaN</td>\n",
       "      <td>NaN</td>\n",
       "      <td>MQ</td>\n",
       "      <td>N511MQ</td>\n",
       "      <td>3572</td>\n",
       "      <td>LGA</td>\n",
       "      <td>CLE</td>\n",
       "      <td>NaN</td>\n",
       "      <td>419</td>\n",
       "      <td>NaN</td>\n",
       "      <td>NaN</td>\n",
       "    </tr>\n",
       "    <tr>\n",
       "      <th>336775</th>\n",
       "      <td>336776</td>\n",
       "      <td>2013</td>\n",
       "      <td>9</td>\n",
       "      <td>30</td>\n",
       "      <td>NaN</td>\n",
       "      <td>NaN</td>\n",
       "      <td>NaN</td>\n",
       "      <td>NaN</td>\n",
       "      <td>MQ</td>\n",
       "      <td>N839MQ</td>\n",
       "      <td>3531</td>\n",
       "      <td>LGA</td>\n",
       "      <td>RDU</td>\n",
       "      <td>NaN</td>\n",
       "      <td>431</td>\n",
       "      <td>NaN</td>\n",
       "      <td>NaN</td>\n",
       "    </tr>\n",
       "  </tbody>\n",
       "</table>\n",
       "</div>"
      ],
      "text/plain": [
       "        Unnamed: 0  year  month  day  dep_time  dep_delay  arr_time  \\\n",
       "336771      336772  2013      9   30       NaN        NaN       NaN   \n",
       "336772      336773  2013      9   30       NaN        NaN       NaN   \n",
       "336773      336774  2013      9   30       NaN        NaN       NaN   \n",
       "336774      336775  2013      9   30       NaN        NaN       NaN   \n",
       "336775      336776  2013      9   30       NaN        NaN       NaN   \n",
       "\n",
       "        arr_delay carrier tailnum  flight origin dest  air_time  distance  \\\n",
       "336771        NaN      9E     NaN    3393    JFK  DCA       NaN       213   \n",
       "336772        NaN      9E     NaN    3525    LGA  SYR       NaN       198   \n",
       "336773        NaN      MQ  N535MQ    3461    LGA  BNA       NaN       764   \n",
       "336774        NaN      MQ  N511MQ    3572    LGA  CLE       NaN       419   \n",
       "336775        NaN      MQ  N839MQ    3531    LGA  RDU       NaN       431   \n",
       "\n",
       "        hour  minute  \n",
       "336771   NaN     NaN  \n",
       "336772   NaN     NaN  \n",
       "336773   NaN     NaN  \n",
       "336774   NaN     NaN  \n",
       "336775   NaN     NaN  "
      ]
     },
     "execution_count": 6,
     "metadata": {},
     "output_type": "execute_result"
    }
   ],
   "source": [
    "print(\"tail\\n\")\n",
    "flights_df.tail()"
   ]
  },
  {
   "cell_type": "code",
   "execution_count": 7,
   "metadata": {},
   "outputs": [
    {
     "name": "stdout",
     "output_type": "stream",
     "text": [
      "destinations:\n",
      "\n"
     ]
    },
    {
     "data": {
      "text/plain": [
       "array(['EWR', 'LGA', 'JFK'], dtype=object)"
      ]
     },
     "execution_count": 7,
     "metadata": {},
     "output_type": "execute_result"
    }
   ],
   "source": [
    "## Find the number of unique destinations in the data ('dest')\n",
    "print(\"destinations:\\n\")\n",
    "flights_df.dest.unique()\n",
    "\n",
    "flights_df['origin'].unique()"
   ]
  },
  {
   "cell_type": "markdown",
   "metadata": {
    "ein.tags": "worksheet-0",
    "slideshow": {
     "slide_type": "-"
    }
   },
   "source": [
    "## Question 1\n",
    "\n",
    "Let’s explore flights from NYC to LA. Use the flights dataset to answer the following questions.\n",
    "\n",
    "### (a)\n",
    "\n",
    "How many flights were there from NYC airports to Los Angeles International Airport (LAX) in 2013?"
   ]
  },
  {
   "cell_type": "code",
   "execution_count": 8,
   "metadata": {
    "autoscroll": false,
    "ein.tags": "worksheet-0",
    "slideshow": {
     "slide_type": "-"
    }
   },
   "outputs": [
    {
     "data": {
      "text/plain": [
       "16174"
      ]
     },
     "execution_count": 8,
     "metadata": {},
     "output_type": "execute_result"
    }
   ],
   "source": [
    "#newdf will have all the rows from NYC to LAX\n",
    "#We will be using this data for the rest of the question\n",
    "newdf = flights_df[((flights_df['origin']=='LGA') | (flights_df['origin']=='EWR') | (flights_df['origin']=='JFK')) & (flights_df['dest']=='LAX')]\n",
    "len(newdf)\n"
   ]
  },
  {
   "cell_type": "markdown",
   "metadata": {},
   "source": [
    " _There are totally 16174 flights from NYC to LAX_"
   ]
  },
  {
   "cell_type": "markdown",
   "metadata": {
    "ein.tags": "worksheet-0",
    "slideshow": {
     "slide_type": "-"
    }
   },
   "source": [
    "### (b)\n",
    "\n",
    "Which airline ('carrier') has the most flights from NYC to LAX? Which one has the least number of flights? Report the numbers respectively. "
   ]
  },
  {
   "cell_type": "code",
   "execution_count": 9,
   "metadata": {
    "autoscroll": false,
    "ein.tags": "worksheet-0",
    "slideshow": {
     "slide_type": "-"
    }
   },
   "outputs": [
    {
     "data": {
      "text/plain": [
       "UA    5823\n",
       "AA    3582\n",
       "VX    2580\n",
       "DL    2501\n",
       "B6    1688\n",
       "Name: carrier, dtype: int64"
      ]
     },
     "execution_count": 9,
     "metadata": {},
     "output_type": "execute_result"
    }
   ],
   "source": [
    "# Check number of flights for each airline\n",
    "newdf['carrier'].value_counts()"
   ]
  },
  {
   "cell_type": "markdown",
   "metadata": {},
   "source": [
    "_The carrier that has the most number of flights from NYC to LAX is UA with a total of 5823 flights._\n",
    "_The carrier that has the least number of flights from NYC to LAX is B6 with a total of 1688 flights._"
   ]
  },
  {
   "cell_type": "markdown",
   "metadata": {
    "ein.tags": "worksheet-0",
    "slideshow": {
     "slide_type": "-"
    }
   },
   "source": [
    "### (c)\n",
    "\n",
    "How many unique air planes fly from NYC to LAX?\n",
    "(Hint: use 'tailnum', essentially the license plate of airplane)"
   ]
  },
  {
   "cell_type": "code",
   "execution_count": 10,
   "metadata": {
    "autoscroll": false,
    "ein.tags": "worksheet-0",
    "slideshow": {
     "slide_type": "-"
    }
   },
   "outputs": [
    {
     "data": {
      "text/plain": [
       "991"
      ]
     },
     "execution_count": 10,
     "metadata": {},
     "output_type": "execute_result"
    }
   ],
   "source": [
    "#Checking the unique tailnums flying from NYC to LAX\n",
    "newdf['tailnum'].nunique()"
   ]
  },
  {
   "cell_type": "markdown",
   "metadata": {},
   "source": [
    "_The number of unique air planes flying from NYC to LAX are 991_"
   ]
  },
  {
   "cell_type": "markdown",
   "metadata": {
    "ein.tags": "worksheet-0",
    "slideshow": {
     "slide_type": "-"
    }
   },
   "source": [
    "### (d)\n",
    "\n",
    "What is the average arrival delay for flights from NYC to LAX?"
   ]
  },
  {
   "cell_type": "code",
   "execution_count": 11,
   "metadata": {
    "autoscroll": false,
    "ein.tags": "worksheet-0",
    "slideshow": {
     "slide_type": "-"
    }
   },
   "outputs": [
    {
     "data": {
      "text/plain": [
       "0.5471109447148383"
      ]
     },
     "execution_count": 11,
     "metadata": {},
     "output_type": "execute_result"
    }
   ],
   "source": [
    "#Checking the mean of arrival delay\n",
    "newdf['arr_delay'].mean(skipna=True)"
   ]
  },
  {
   "cell_type": "markdown",
   "metadata": {},
   "source": [
    "_The average arrival delay for flight from NYC to LAX is 0.547_"
   ]
  },
  {
   "cell_type": "markdown",
   "metadata": {
    "ein.tags": "worksheet-0",
    "slideshow": {
     "slide_type": "-"
    }
   },
   "source": [
    "### (e)\n",
    "\n",
    "What proportion of flights to LAX come from each NYC airport?"
   ]
  },
  {
   "cell_type": "code",
   "execution_count": 19,
   "metadata": {
    "autoscroll": false,
    "ein.tags": "worksheet-0",
    "slideshow": {
     "slide_type": "-"
    }
   },
   "outputs": [
    {
     "name": "stdout",
     "output_type": "stream",
     "text": [
      "Proportion of flights from EWR:  0.304\n",
      "Proportion of flights from JFK:  0.696\n"
     ]
    }
   ],
   "source": [
    "#Grouping by origin to check the number of flights from each origin\n",
    "newdf.groupby('origin')['dest'].value_counts()\n",
    "\n",
    "print(\"Proportion of flights from EWR: \", round(4912/(4912+11262), 3) )\n",
    "print(\"Proportion of flights from JFK: \", round(11262/(4912+11262), 3) )"
   ]
  },
  {
   "cell_type": "markdown",
   "metadata": {},
   "source": [
    "_There are 11262 flights from JFK to LAX and 4912 flights from EWR to LAX_"
   ]
  },
  {
   "cell_type": "markdown",
   "metadata": {
    "ein.tags": "worksheet-0",
    "slideshow": {
     "slide_type": "-"
    }
   },
   "source": [
    "## Question 2\n",
    "\n",
    "Now let's explore the entire NYC flight dataset. Flights are often delayed. Consider the following questions exploring delay patterns.\n",
    "\n",
    "### (a)\n",
    "\n",
    "Which date has the largest average departure delay? Which date has the largest average arrival delay?"
   ]
  },
  {
   "cell_type": "code",
   "execution_count": 13,
   "metadata": {
    "autoscroll": false,
    "ein.tags": "worksheet-0",
    "slideshow": {
     "slide_type": "-"
    }
   },
   "outputs": [
    {
     "data": {
      "text/plain": [
       "336776"
      ]
     },
     "execution_count": 13,
     "metadata": {},
     "output_type": "execute_result"
    }
   ],
   "source": [
    "#Making a copy of the flights data set in order to not lose the original data \n",
    "newdf2 = flights_df\n",
    "#Making a new column date by combining year, month and day\n",
    "newdf2['date'] = pd.to_datetime(newdf2[['year','month','day']])\n",
    "#Checking the length of the data set\n",
    "len(newdf2)"
   ]
  },
  {
   "cell_type": "code",
   "execution_count": 14,
   "metadata": {},
   "outputs": [
    {
     "data": {
      "text/plain": [
       "date\n",
       "2013-03-08    85.862155\n",
       "Name: arr_delay, dtype: float64"
      ]
     },
     "execution_count": 14,
     "metadata": {},
     "output_type": "execute_result"
    }
   ],
   "source": [
    "#Average arrival delay per date and checking the highest values\n",
    "newdf2.groupby('date')['arr_delay'].mean().sort_values(ascending=False).head(1)"
   ]
  },
  {
   "cell_type": "code",
   "execution_count": 15,
   "metadata": {},
   "outputs": [
    {
     "data": {
      "text/plain": [
       "date\n",
       "2013-03-08    83.536921\n",
       "Name: dep_delay, dtype: float64"
      ]
     },
     "execution_count": 15,
     "metadata": {},
     "output_type": "execute_result"
    }
   ],
   "source": [
    "#Average arrival delay per date and checking the highest values\n",
    "newdf2.groupby('date')['dep_delay'].mean().sort_values(ascending=False).head(1)"
   ]
  },
  {
   "cell_type": "markdown",
   "metadata": {},
   "source": [
    "_Date 2013-03-08 has the highest average of arrival and departure delays of 85.86 and 83.53 mins respectively_"
   ]
  },
  {
   "cell_type": "markdown",
   "metadata": {
    "ein.tags": "worksheet-0",
    "slideshow": {
     "slide_type": "-"
    }
   },
   "source": [
    "### (b)\n",
    "\n",
    "What was the worst day and the best day to fly out of NYC in 2013\n",
    "if you dislike delayed flights?\n",
    "\n",
    "Note: we ask the largest delay given there was a (positive) delay, we\n",
    "don't care about flights that were in time or early."
   ]
  },
  {
   "cell_type": "code",
   "execution_count": 20,
   "metadata": {
    "autoscroll": false,
    "ein.tags": "worksheet-0",
    "scrolled": true,
    "slideshow": {
     "slide_type": "-"
    }
   },
   "outputs": [
    {
     "data": {
      "text/plain": [
       "date\n",
       "2013-01-09    1301.0\n",
       "Name: dep_delay, dtype: float64"
      ]
     },
     "execution_count": 20,
     "metadata": {},
     "output_type": "execute_result"
    }
   ],
   "source": [
    "#Making a data set with only positive delays\n",
    "df_positive_delay = newdf2[(newdf2['arr_delay']>0) & (newdf2['dep_delay']>0)]\n",
    "\n",
    "#Worst day\n",
    "df_positive_delay.groupby('date')['dep_delay'].max().sort_values(ascending=False).head(1)"
   ]
  },
  {
   "cell_type": "markdown",
   "metadata": {},
   "source": [
    "_The worst day to flight out of NYC was on 2013-01-09 in 2013 since that has the highest departure delay of the whole year_"
   ]
  },
  {
   "cell_type": "code",
   "execution_count": 21,
   "metadata": {},
   "outputs": [
    {
     "data": {
      "text/plain": [
       "date\n",
       "2013-01-09    1272.0\n",
       "Name: arr_delay, dtype: float64"
      ]
     },
     "execution_count": 21,
     "metadata": {},
     "output_type": "execute_result"
    }
   ],
   "source": [
    "#Worst day-arrival\n",
    "df_positive_delay.groupby('date')['arr_delay'].max().sort_values(ascending=False).head(1)"
   ]
  },
  {
   "cell_type": "markdown",
   "metadata": {},
   "source": [
    "_The worst day to flight out of NYC was on 2013-01-09 in 2013 since that has the highest arrival delay of the whole year_"
   ]
  },
  {
   "cell_type": "code",
   "execution_count": 22,
   "metadata": {},
   "outputs": [
    {
     "data": {
      "text/plain": [
       "date\n",
       "2013-01-19    3.0\n",
       "Name: dep_delay, dtype: float64"
      ]
     },
     "execution_count": 22,
     "metadata": {},
     "output_type": "execute_result"
    }
   ],
   "source": [
    "#Best day\n",
    "df_positive_delay.groupby('date')['dep_delay'].min().sort_values(ascending=False).head(1)"
   ]
  },
  {
   "cell_type": "markdown",
   "metadata": {},
   "source": [
    "_The best day to fly out of NYC was on 2013-01-19 in 2013 since that has the lowest departure delay of the whole year_"
   ]
  },
  {
   "cell_type": "code",
   "execution_count": 23,
   "metadata": {},
   "outputs": [
    {
     "data": {
      "text/plain": [
       "date\n",
       "2013-01-01    2.0\n",
       "Name: arr_delay, dtype: float64"
      ]
     },
     "execution_count": 23,
     "metadata": {},
     "output_type": "execute_result"
    }
   ],
   "source": [
    "#Best day-arrival\n",
    "df_positive_delay.groupby('date')['arr_delay'].min().sort_values(ascending=False).head(1)"
   ]
  },
  {
   "cell_type": "markdown",
   "metadata": {},
   "source": [
    "_The best day to fly out of NYC was on 2013-01-01 in 2013 since that has the lowest arrival delay of the whole year_"
   ]
  },
  {
   "cell_type": "markdown",
   "metadata": {
    "ein.tags": "worksheet-0",
    "slideshow": {
     "slide_type": "-"
    }
   },
   "source": [
    "### (c)\n",
    "\n",
    "On average which airline has the lowest departure delay for\n",
    "   their NYC flights in 2013 in this dataset? and which one has the\n",
    "   greatest departure delay?\n",
    "\n",
    "Note: here we want to include both positive and negative delays (early departures)   "
   ]
  },
  {
   "cell_type": "code",
   "execution_count": 24,
   "metadata": {
    "autoscroll": false,
    "ein.tags": "worksheet-0",
    "slideshow": {
     "slide_type": "-"
    }
   },
   "outputs": [
    {
     "data": {
      "text/plain": [
       "carrier\n",
       "US    3.782418\n",
       "Name: dep_delay, dtype: float64"
      ]
     },
     "execution_count": 24,
     "metadata": {},
     "output_type": "execute_result"
    }
   ],
   "source": [
    "#Lowest average delay by carrier\n",
    "newdf2.groupby('carrier')['dep_delay'].mean().sort_values().head(1)\n"
   ]
  },
  {
   "cell_type": "markdown",
   "metadata": {},
   "source": [
    "_US has the lowest average departure delay in 2013 of 40.09_"
   ]
  },
  {
   "cell_type": "code",
   "execution_count": 25,
   "metadata": {},
   "outputs": [
    {
     "data": {
      "text/plain": [
       "carrier\n",
       "F9    20.215543\n",
       "Name: dep_delay, dtype: float64"
      ]
     },
     "execution_count": 25,
     "metadata": {},
     "output_type": "execute_result"
    }
   ],
   "source": [
    "#greatest avg delay by carrier\n",
    "newdf2.groupby('carrier')['dep_delay'].mean().sort_values(ascending=False).head(1)"
   ]
  },
  {
   "cell_type": "markdown",
   "metadata": {},
   "source": [
    "_F9 has the highest average departure delay in 2013 of 20.21_"
   ]
  },
  {
   "cell_type": "markdown",
   "metadata": {
    "ein.tags": "worksheet-0",
    "slideshow": {
     "slide_type": "-"
    }
   },
   "source": [
    "### (d)\n",
    "\n",
    "Are there any seasonal patterns in departure delays for flights from NYC?"
   ]
  },
  {
   "cell_type": "code",
   "execution_count": 26,
   "metadata": {},
   "outputs": [
    {
     "data": {
      "text/plain": [
       "month\n",
       "1      7083\n",
       "2      6650\n",
       "3      8000\n",
       "4      8234\n",
       "5      7652\n",
       "6      9543\n",
       "7     10268\n",
       "8      8128\n",
       "9      4666\n",
       "10     5895\n",
       "11     5711\n",
       "12    10473\n",
       "Name: dep_delay, dtype: int64"
      ]
     },
     "execution_count": 26,
     "metadata": {},
     "output_type": "execute_result"
    }
   ],
   "source": [
    "#Monthly departure delay count\n",
    "df_positive_delay.groupby('month')['dep_delay'].count()"
   ]
  },
  {
   "cell_type": "code",
   "execution_count": 27,
   "metadata": {
    "autoscroll": false,
    "ein.tags": "worksheet-0",
    "slideshow": {
     "slide_type": "-"
    }
   },
   "outputs": [
    {
     "data": {
      "text/plain": [
       "<matplotlib.axes._subplots.AxesSubplot at 0x21d82f50b00>"
      ]
     },
     "execution_count": 27,
     "metadata": {},
     "output_type": "execute_result"
    },
    {
     "data": {
      "image/png": "[encoded data removed]",
      "text/plain": [
       "<Figure size 432x288 with 1 Axes>"
      ]
     },
     "metadata": {
      "needs_background": "light"
     },
     "output_type": "display_data"
    }
   ],
   "source": [
    "#Monthly departure delay count\n",
    "df_positive_delay.groupby('month')['dep_delay'].count().plot(kind='bar')\n"
   ]
  },
  {
   "cell_type": "markdown",
   "metadata": {},
   "source": [
    "_As we can see from the plot and the answer that Month 6,7 and 12 have the highest departure delays. These are usually months of holidays. December christmas and new year vacations and  June and July are summer months._"
   ]
  },
  {
   "cell_type": "markdown",
   "metadata": {
    "ein.tags": "worksheet-0",
    "slideshow": {
     "slide_type": "-"
    }
   },
   "source": [
    "### (e)\n",
    "\n",
    "On average, how do departure delays vary over the course of a day?"
   ]
  },
  {
   "cell_type": "code",
   "execution_count": 28,
   "metadata": {
    "autoscroll": false,
    "ein.tags": "worksheet-0",
    "slideshow": {
     "slide_type": "-"
    }
   },
   "outputs": [
    {
     "data": {
      "text/plain": [
       "hour\n",
       "17.0    8273\n",
       "18.0    7877\n",
       "19.0    7718\n",
       "16.0    7508\n",
       "15.0    7336\n",
       "20.0    7168\n",
       "21.0    6217\n",
       "14.0    5199\n",
       "13.0    4850\n",
       "8.0     4027\n",
       "12.0    3941\n",
       "22.0    3829\n",
       "9.0     3686\n",
       "10.0    3421\n",
       "11.0    3255\n",
       "7.0     2556\n",
       "6.0     2137\n",
       "23.0    2020\n",
       "0.0      815\n",
       "1.0      221\n",
       "5.0      158\n",
       "2.0       63\n",
       "24.0      17\n",
       "3.0       11\n",
       "Name: dep_delay, dtype: int64"
      ]
     },
     "execution_count": 28,
     "metadata": {},
     "output_type": "execute_result"
    }
   ],
   "source": [
    "#Grouping by hour and checking how many flights were delayed in that hour\n",
    "df_positive_delay.groupby('hour')['dep_delay'].count().sort_values(ascending=False)"
   ]
  },
  {
   "cell_type": "code",
   "execution_count": 29,
   "metadata": {},
   "outputs": [
    {
     "data": {
      "text/plain": [
       "<matplotlib.axes._subplots.AxesSubplot at 0x21d838ae358>"
      ]
     },
     "execution_count": 29,
     "metadata": {},
     "output_type": "execute_result"
    },
    {
     "data": {
      "image/png": "[encoded data removed]",
      "text/plain": [
       "<Figure size 432x288 with 1 Axes>"
      ]
     },
     "metadata": {
      "needs_background": "light"
     },
     "output_type": "display_data"
    }
   ],
   "source": [
    "#Visualization\n",
    "df_positive_delay.groupby('hour')['dep_delay'].count().plot(kind='bar')"
   ]
  },
  {
   "cell_type": "markdown",
   "metadata": {},
   "source": [
    "_Typically, the departure delays are the most between 3pm(15:00) - 9pm(21:00). These are rush hour times, so it makes sense that most delays happen at this time._ "
   ]
  },
  {
   "cell_type": "markdown",
   "metadata": {
    "ein.tags": "worksheet-0",
    "slideshow": {
     "slide_type": "-"
    }
   },
   "source": [
    "## Question 3\n",
    "\n",
    "Which flight departing NYC in 2013 flew the slowest?\n",
    "\n",
    "Note: compute the speed as distance/time."
   ]
  },
  {
   "cell_type": "code",
   "execution_count": 30,
   "metadata": {
    "autoscroll": false,
    "ein.tags": "worksheet-0",
    "slideshow": {
     "slide_type": "-"
    }
   },
   "outputs": [],
   "source": [
    "#Making a dummy data set to change values\n",
    "dummy = newdf2"
   ]
  },
  {
   "cell_type": "code",
   "execution_count": 31,
   "metadata": {},
   "outputs": [],
   "source": [
    "#Dropping index\n",
    "dummy.drop(['Unnamed: 0'], axis=1, inplace=True)"
   ]
  },
  {
   "cell_type": "code",
   "execution_count": 32,
   "metadata": {},
   "outputs": [
    {
     "data": {
      "text/html": [
       "<div>\n",
       "<style scoped>\n",
       "    .dataframe tbody tr th:only-of-type {\n",
       "        vertical-align: middle;\n",
       "    }\n",
       "\n",
       "    .dataframe tbody tr th {\n",
       "        vertical-align: top;\n",
       "    }\n",
       "\n",
       "    .dataframe thead th {\n",
       "        text-align: right;\n",
       "    }\n",
       "</style>\n",
       "<table border=\"1\" class=\"dataframe\">\n",
       "  <thead>\n",
       "    <tr style=\"text-align: right;\">\n",
       "      <th></th>\n",
       "      <th>year</th>\n",
       "      <th>month</th>\n",
       "      <th>day</th>\n",
       "      <th>dep_time</th>\n",
       "      <th>dep_delay</th>\n",
       "      <th>arr_time</th>\n",
       "      <th>arr_delay</th>\n",
       "      <th>carrier</th>\n",
       "      <th>tailnum</th>\n",
       "      <th>flight</th>\n",
       "      <th>origin</th>\n",
       "      <th>dest</th>\n",
       "      <th>air_time</th>\n",
       "      <th>distance</th>\n",
       "      <th>hour</th>\n",
       "      <th>minute</th>\n",
       "      <th>date</th>\n",
       "    </tr>\n",
       "  </thead>\n",
       "  <tbody>\n",
       "    <tr>\n",
       "      <th>0</th>\n",
       "      <td>2013</td>\n",
       "      <td>1</td>\n",
       "      <td>1</td>\n",
       "      <td>517.0</td>\n",
       "      <td>2.0</td>\n",
       "      <td>830.0</td>\n",
       "      <td>11.0</td>\n",
       "      <td>UA</td>\n",
       "      <td>N14228</td>\n",
       "      <td>1545</td>\n",
       "      <td>EWR</td>\n",
       "      <td>IAH</td>\n",
       "      <td>227.0</td>\n",
       "      <td>1400</td>\n",
       "      <td>5.0</td>\n",
       "      <td>17.0</td>\n",
       "      <td>2013-01-01</td>\n",
       "    </tr>\n",
       "    <tr>\n",
       "      <th>1</th>\n",
       "      <td>2013</td>\n",
       "      <td>1</td>\n",
       "      <td>1</td>\n",
       "      <td>533.0</td>\n",
       "      <td>4.0</td>\n",
       "      <td>850.0</td>\n",
       "      <td>20.0</td>\n",
       "      <td>UA</td>\n",
       "      <td>N24211</td>\n",
       "      <td>1714</td>\n",
       "      <td>LGA</td>\n",
       "      <td>IAH</td>\n",
       "      <td>227.0</td>\n",
       "      <td>1416</td>\n",
       "      <td>5.0</td>\n",
       "      <td>33.0</td>\n",
       "      <td>2013-01-01</td>\n",
       "    </tr>\n",
       "    <tr>\n",
       "      <th>2</th>\n",
       "      <td>2013</td>\n",
       "      <td>1</td>\n",
       "      <td>1</td>\n",
       "      <td>542.0</td>\n",
       "      <td>2.0</td>\n",
       "      <td>923.0</td>\n",
       "      <td>33.0</td>\n",
       "      <td>AA</td>\n",
       "      <td>N619AA</td>\n",
       "      <td>1141</td>\n",
       "      <td>JFK</td>\n",
       "      <td>MIA</td>\n",
       "      <td>160.0</td>\n",
       "      <td>1089</td>\n",
       "      <td>5.0</td>\n",
       "      <td>42.0</td>\n",
       "      <td>2013-01-01</td>\n",
       "    </tr>\n",
       "    <tr>\n",
       "      <th>3</th>\n",
       "      <td>2013</td>\n",
       "      <td>1</td>\n",
       "      <td>1</td>\n",
       "      <td>544.0</td>\n",
       "      <td>-1.0</td>\n",
       "      <td>1004.0</td>\n",
       "      <td>-18.0</td>\n",
       "      <td>B6</td>\n",
       "      <td>N804JB</td>\n",
       "      <td>725</td>\n",
       "      <td>JFK</td>\n",
       "      <td>BQN</td>\n",
       "      <td>183.0</td>\n",
       "      <td>1576</td>\n",
       "      <td>5.0</td>\n",
       "      <td>44.0</td>\n",
       "      <td>2013-01-01</td>\n",
       "    </tr>\n",
       "    <tr>\n",
       "      <th>4</th>\n",
       "      <td>2013</td>\n",
       "      <td>1</td>\n",
       "      <td>1</td>\n",
       "      <td>554.0</td>\n",
       "      <td>-6.0</td>\n",
       "      <td>812.0</td>\n",
       "      <td>-25.0</td>\n",
       "      <td>DL</td>\n",
       "      <td>N668DN</td>\n",
       "      <td>461</td>\n",
       "      <td>LGA</td>\n",
       "      <td>ATL</td>\n",
       "      <td>116.0</td>\n",
       "      <td>762</td>\n",
       "      <td>5.0</td>\n",
       "      <td>54.0</td>\n",
       "      <td>2013-01-01</td>\n",
       "    </tr>\n",
       "  </tbody>\n",
       "</table>\n",
       "</div>"
      ],
      "text/plain": [
       "   year  month  day  dep_time  dep_delay  arr_time  arr_delay carrier tailnum  \\\n",
       "0  2013      1    1     517.0        2.0     830.0       11.0      UA  N14228   \n",
       "1  2013      1    1     533.0        4.0     850.0       20.0      UA  N24211   \n",
       "2  2013      1    1     542.0        2.0     923.0       33.0      AA  N619AA   \n",
       "3  2013      1    1     544.0       -1.0    1004.0      -18.0      B6  N804JB   \n",
       "4  2013      1    1     554.0       -6.0     812.0      -25.0      DL  N668DN   \n",
       "\n",
       "   flight origin dest  air_time  distance  hour  minute       date  \n",
       "0    1545    EWR  IAH     227.0      1400   5.0    17.0 2013-01-01  \n",
       "1    1714    LGA  IAH     227.0      1416   5.0    33.0 2013-01-01  \n",
       "2    1141    JFK  MIA     160.0      1089   5.0    42.0 2013-01-01  \n",
       "3     725    JFK  BQN     183.0      1576   5.0    44.0 2013-01-01  \n",
       "4     461    LGA  ATL     116.0       762   5.0    54.0 2013-01-01  "
      ]
     },
     "execution_count": 32,
     "metadata": {},
     "output_type": "execute_result"
    }
   ],
   "source": [
    "#Dropping NAs\n",
    "dummy.dropna(subset=['distance']).head()"
   ]
  },
  {
   "cell_type": "code",
   "execution_count": 33,
   "metadata": {},
   "outputs": [
    {
     "data": {
      "text/html": [
       "<div>\n",
       "<style scoped>\n",
       "    .dataframe tbody tr th:only-of-type {\n",
       "        vertical-align: middle;\n",
       "    }\n",
       "\n",
       "    .dataframe tbody tr th {\n",
       "        vertical-align: top;\n",
       "    }\n",
       "\n",
       "    .dataframe thead th {\n",
       "        text-align: right;\n",
       "    }\n",
       "</style>\n",
       "<table border=\"1\" class=\"dataframe\">\n",
       "  <thead>\n",
       "    <tr style=\"text-align: right;\">\n",
       "      <th></th>\n",
       "      <th>year</th>\n",
       "      <th>month</th>\n",
       "      <th>day</th>\n",
       "      <th>dep_time</th>\n",
       "      <th>dep_delay</th>\n",
       "      <th>arr_time</th>\n",
       "      <th>arr_delay</th>\n",
       "      <th>carrier</th>\n",
       "      <th>tailnum</th>\n",
       "      <th>flight</th>\n",
       "      <th>origin</th>\n",
       "      <th>dest</th>\n",
       "      <th>air_time</th>\n",
       "      <th>distance</th>\n",
       "      <th>hour</th>\n",
       "      <th>minute</th>\n",
       "      <th>date</th>\n",
       "    </tr>\n",
       "  </thead>\n",
       "  <tbody>\n",
       "    <tr>\n",
       "      <th>0</th>\n",
       "      <td>2013</td>\n",
       "      <td>1</td>\n",
       "      <td>1</td>\n",
       "      <td>517.0</td>\n",
       "      <td>2.0</td>\n",
       "      <td>830.0</td>\n",
       "      <td>11.0</td>\n",
       "      <td>UA</td>\n",
       "      <td>N14228</td>\n",
       "      <td>1545</td>\n",
       "      <td>EWR</td>\n",
       "      <td>IAH</td>\n",
       "      <td>227.0</td>\n",
       "      <td>1400</td>\n",
       "      <td>5.0</td>\n",
       "      <td>17.0</td>\n",
       "      <td>2013-01-01</td>\n",
       "    </tr>\n",
       "    <tr>\n",
       "      <th>1</th>\n",
       "      <td>2013</td>\n",
       "      <td>1</td>\n",
       "      <td>1</td>\n",
       "      <td>533.0</td>\n",
       "      <td>4.0</td>\n",
       "      <td>850.0</td>\n",
       "      <td>20.0</td>\n",
       "      <td>UA</td>\n",
       "      <td>N24211</td>\n",
       "      <td>1714</td>\n",
       "      <td>LGA</td>\n",
       "      <td>IAH</td>\n",
       "      <td>227.0</td>\n",
       "      <td>1416</td>\n",
       "      <td>5.0</td>\n",
       "      <td>33.0</td>\n",
       "      <td>2013-01-01</td>\n",
       "    </tr>\n",
       "    <tr>\n",
       "      <th>2</th>\n",
       "      <td>2013</td>\n",
       "      <td>1</td>\n",
       "      <td>1</td>\n",
       "      <td>542.0</td>\n",
       "      <td>2.0</td>\n",
       "      <td>923.0</td>\n",
       "      <td>33.0</td>\n",
       "      <td>AA</td>\n",
       "      <td>N619AA</td>\n",
       "      <td>1141</td>\n",
       "      <td>JFK</td>\n",
       "      <td>MIA</td>\n",
       "      <td>160.0</td>\n",
       "      <td>1089</td>\n",
       "      <td>5.0</td>\n",
       "      <td>42.0</td>\n",
       "      <td>2013-01-01</td>\n",
       "    </tr>\n",
       "    <tr>\n",
       "      <th>3</th>\n",
       "      <td>2013</td>\n",
       "      <td>1</td>\n",
       "      <td>1</td>\n",
       "      <td>544.0</td>\n",
       "      <td>-1.0</td>\n",
       "      <td>1004.0</td>\n",
       "      <td>-18.0</td>\n",
       "      <td>B6</td>\n",
       "      <td>N804JB</td>\n",
       "      <td>725</td>\n",
       "      <td>JFK</td>\n",
       "      <td>BQN</td>\n",
       "      <td>183.0</td>\n",
       "      <td>1576</td>\n",
       "      <td>5.0</td>\n",
       "      <td>44.0</td>\n",
       "      <td>2013-01-01</td>\n",
       "    </tr>\n",
       "    <tr>\n",
       "      <th>4</th>\n",
       "      <td>2013</td>\n",
       "      <td>1</td>\n",
       "      <td>1</td>\n",
       "      <td>554.0</td>\n",
       "      <td>-6.0</td>\n",
       "      <td>812.0</td>\n",
       "      <td>-25.0</td>\n",
       "      <td>DL</td>\n",
       "      <td>N668DN</td>\n",
       "      <td>461</td>\n",
       "      <td>LGA</td>\n",
       "      <td>ATL</td>\n",
       "      <td>116.0</td>\n",
       "      <td>762</td>\n",
       "      <td>5.0</td>\n",
       "      <td>54.0</td>\n",
       "      <td>2013-01-01</td>\n",
       "    </tr>\n",
       "  </tbody>\n",
       "</table>\n",
       "</div>"
      ],
      "text/plain": [
       "   year  month  day  dep_time  dep_delay  arr_time  arr_delay carrier tailnum  \\\n",
       "0  2013      1    1     517.0        2.0     830.0       11.0      UA  N14228   \n",
       "1  2013      1    1     533.0        4.0     850.0       20.0      UA  N24211   \n",
       "2  2013      1    1     542.0        2.0     923.0       33.0      AA  N619AA   \n",
       "3  2013      1    1     544.0       -1.0    1004.0      -18.0      B6  N804JB   \n",
       "4  2013      1    1     554.0       -6.0     812.0      -25.0      DL  N668DN   \n",
       "\n",
       "   flight origin dest  air_time  distance  hour  minute       date  \n",
       "0    1545    EWR  IAH     227.0      1400   5.0    17.0 2013-01-01  \n",
       "1    1714    LGA  IAH     227.0      1416   5.0    33.0 2013-01-01  \n",
       "2    1141    JFK  MIA     160.0      1089   5.0    42.0 2013-01-01  \n",
       "3     725    JFK  BQN     183.0      1576   5.0    44.0 2013-01-01  \n",
       "4     461    LGA  ATL     116.0       762   5.0    54.0 2013-01-01  "
      ]
     },
     "execution_count": 33,
     "metadata": {},
     "output_type": "execute_result"
    }
   ],
   "source": [
    "#Dropping NAs\n",
    "dummy.dropna(subset=['air_time']).head()"
   ]
  },
  {
   "cell_type": "code",
   "execution_count": 34,
   "metadata": {},
   "outputs": [
    {
     "data": {
      "text/html": [
       "<div>\n",
       "<style scoped>\n",
       "    .dataframe tbody tr th:only-of-type {\n",
       "        vertical-align: middle;\n",
       "    }\n",
       "\n",
       "    .dataframe tbody tr th {\n",
       "        vertical-align: top;\n",
       "    }\n",
       "\n",
       "    .dataframe thead th {\n",
       "        text-align: right;\n",
       "    }\n",
       "</style>\n",
       "<table border=\"1\" class=\"dataframe\">\n",
       "  <thead>\n",
       "    <tr style=\"text-align: right;\">\n",
       "      <th></th>\n",
       "      <th>year</th>\n",
       "      <th>month</th>\n",
       "      <th>day</th>\n",
       "      <th>dep_time</th>\n",
       "      <th>dep_delay</th>\n",
       "      <th>arr_time</th>\n",
       "      <th>arr_delay</th>\n",
       "      <th>carrier</th>\n",
       "      <th>tailnum</th>\n",
       "      <th>flight</th>\n",
       "      <th>origin</th>\n",
       "      <th>dest</th>\n",
       "      <th>air_time</th>\n",
       "      <th>distance</th>\n",
       "      <th>hour</th>\n",
       "      <th>minute</th>\n",
       "      <th>date</th>\n",
       "      <th>speed</th>\n",
       "    </tr>\n",
       "  </thead>\n",
       "  <tbody>\n",
       "    <tr>\n",
       "      <th>0</th>\n",
       "      <td>2013</td>\n",
       "      <td>1</td>\n",
       "      <td>1</td>\n",
       "      <td>517.0</td>\n",
       "      <td>2.0</td>\n",
       "      <td>830.0</td>\n",
       "      <td>11.0</td>\n",
       "      <td>UA</td>\n",
       "      <td>N14228</td>\n",
       "      <td>1545</td>\n",
       "      <td>EWR</td>\n",
       "      <td>IAH</td>\n",
       "      <td>227.0</td>\n",
       "      <td>1400</td>\n",
       "      <td>5.0</td>\n",
       "      <td>17.0</td>\n",
       "      <td>2013-01-01</td>\n",
       "      <td>6.167401</td>\n",
       "    </tr>\n",
       "    <tr>\n",
       "      <th>1</th>\n",
       "      <td>2013</td>\n",
       "      <td>1</td>\n",
       "      <td>1</td>\n",
       "      <td>533.0</td>\n",
       "      <td>4.0</td>\n",
       "      <td>850.0</td>\n",
       "      <td>20.0</td>\n",
       "      <td>UA</td>\n",
       "      <td>N24211</td>\n",
       "      <td>1714</td>\n",
       "      <td>LGA</td>\n",
       "      <td>IAH</td>\n",
       "      <td>227.0</td>\n",
       "      <td>1416</td>\n",
       "      <td>5.0</td>\n",
       "      <td>33.0</td>\n",
       "      <td>2013-01-01</td>\n",
       "      <td>6.237885</td>\n",
       "    </tr>\n",
       "    <tr>\n",
       "      <th>2</th>\n",
       "      <td>2013</td>\n",
       "      <td>1</td>\n",
       "      <td>1</td>\n",
       "      <td>542.0</td>\n",
       "      <td>2.0</td>\n",
       "      <td>923.0</td>\n",
       "      <td>33.0</td>\n",
       "      <td>AA</td>\n",
       "      <td>N619AA</td>\n",
       "      <td>1141</td>\n",
       "      <td>JFK</td>\n",
       "      <td>MIA</td>\n",
       "      <td>160.0</td>\n",
       "      <td>1089</td>\n",
       "      <td>5.0</td>\n",
       "      <td>42.0</td>\n",
       "      <td>2013-01-01</td>\n",
       "      <td>6.806250</td>\n",
       "    </tr>\n",
       "    <tr>\n",
       "      <th>3</th>\n",
       "      <td>2013</td>\n",
       "      <td>1</td>\n",
       "      <td>1</td>\n",
       "      <td>544.0</td>\n",
       "      <td>-1.0</td>\n",
       "      <td>1004.0</td>\n",
       "      <td>-18.0</td>\n",
       "      <td>B6</td>\n",
       "      <td>N804JB</td>\n",
       "      <td>725</td>\n",
       "      <td>JFK</td>\n",
       "      <td>BQN</td>\n",
       "      <td>183.0</td>\n",
       "      <td>1576</td>\n",
       "      <td>5.0</td>\n",
       "      <td>44.0</td>\n",
       "      <td>2013-01-01</td>\n",
       "      <td>8.612022</td>\n",
       "    </tr>\n",
       "    <tr>\n",
       "      <th>4</th>\n",
       "      <td>2013</td>\n",
       "      <td>1</td>\n",
       "      <td>1</td>\n",
       "      <td>554.0</td>\n",
       "      <td>-6.0</td>\n",
       "      <td>812.0</td>\n",
       "      <td>-25.0</td>\n",
       "      <td>DL</td>\n",
       "      <td>N668DN</td>\n",
       "      <td>461</td>\n",
       "      <td>LGA</td>\n",
       "      <td>ATL</td>\n",
       "      <td>116.0</td>\n",
       "      <td>762</td>\n",
       "      <td>5.0</td>\n",
       "      <td>54.0</td>\n",
       "      <td>2013-01-01</td>\n",
       "      <td>6.568966</td>\n",
       "    </tr>\n",
       "  </tbody>\n",
       "</table>\n",
       "</div>"
      ],
      "text/plain": [
       "   year  month  day  dep_time  dep_delay  arr_time  arr_delay carrier tailnum  \\\n",
       "0  2013      1    1     517.0        2.0     830.0       11.0      UA  N14228   \n",
       "1  2013      1    1     533.0        4.0     850.0       20.0      UA  N24211   \n",
       "2  2013      1    1     542.0        2.0     923.0       33.0      AA  N619AA   \n",
       "3  2013      1    1     544.0       -1.0    1004.0      -18.0      B6  N804JB   \n",
       "4  2013      1    1     554.0       -6.0     812.0      -25.0      DL  N668DN   \n",
       "\n",
       "   flight origin dest  air_time  distance  hour  minute       date     speed  \n",
       "0    1545    EWR  IAH     227.0      1400   5.0    17.0 2013-01-01  6.167401  \n",
       "1    1714    LGA  IAH     227.0      1416   5.0    33.0 2013-01-01  6.237885  \n",
       "2    1141    JFK  MIA     160.0      1089   5.0    42.0 2013-01-01  6.806250  \n",
       "3     725    JFK  BQN     183.0      1576   5.0    44.0 2013-01-01  8.612022  \n",
       "4     461    LGA  ATL     116.0       762   5.0    54.0 2013-01-01  6.568966  "
      ]
     },
     "execution_count": 34,
     "metadata": {},
     "output_type": "execute_result"
    }
   ],
   "source": [
    "#Making Speed column\n",
    "dummy['speed'] = dummy['distance'] / dummy['air_time']\n",
    "dummy.head()"
   ]
  },
  {
   "cell_type": "code",
   "execution_count": 35,
   "metadata": {},
   "outputs": [
    {
     "data": {
      "text/plain": [
       "year                        2013\n",
       "month                          1\n",
       "day                           28\n",
       "dep_time                    1917\n",
       "dep_delay                     52\n",
       "arr_time                    2118\n",
       "arr_delay                    103\n",
       "carrier                       US\n",
       "tailnum                   N755US\n",
       "flight                      1860\n",
       "origin                       LGA\n",
       "dest                         PHL\n",
       "air_time                      75\n",
       "distance                      96\n",
       "hour                          19\n",
       "minute                        17\n",
       "date         2013-01-28 00:00:00\n",
       "speed                       1.28\n",
       "Name: 24098, dtype: object"
      ]
     },
     "execution_count": 35,
     "metadata": {},
     "output_type": "execute_result"
    }
   ],
   "source": [
    "#Flight details of the flight that flew the slowest.\n",
    "dummy.loc[dummy['speed'].idxmin()]"
   ]
  },
  {
   "cell_type": "markdown",
   "metadata": {},
   "source": [
    "_Although I think that flying \"slowest\" means the flight that took most time. The question has asked us with regards to speed._\n",
    "\n",
    "_With regards to speed, the flight that flew the slowest was flight 1860 from US airlines flying from LGA to PHL with a flight speed of 1.28_"
   ]
  },
  {
   "cell_type": "markdown",
   "metadata": {
    "ein.tags": "worksheet-0",
    "slideshow": {
     "slide_type": "-"
    }
   },
   "source": [
    "## Question 4\n",
    "\n",
    "Which flights (i.e. carrier + flight + dest) happen every day? Where do they fly to?"
   ]
  },
  {
   "cell_type": "code",
   "execution_count": 36,
   "metadata": {
    "autoscroll": false,
    "ein.tags": "worksheet-0",
    "slideshow": {
     "slide_type": "-"
    }
   },
   "outputs": [],
   "source": [
    "#Subsetting the data\n",
    "everyday_flight = newdf2[['dest','carrier','flight','date','day']]\n",
    "\n",
    "#Checking the group of carrier, flight, dest date wise and checking the size\n",
    "new_group = everyday_flight.groupby(['dest','carrier','flight'])['date'].size().sort_values(ascending=False).reset_index(name='counts')"
   ]
  },
  {
   "cell_type": "code",
   "execution_count": 37,
   "metadata": {},
   "outputs": [
    {
     "data": {
      "text/html": [
       "<div>\n",
       "<style scoped>\n",
       "    .dataframe tbody tr th:only-of-type {\n",
       "        vertical-align: middle;\n",
       "    }\n",
       "\n",
       "    .dataframe tbody tr th {\n",
       "        vertical-align: top;\n",
       "    }\n",
       "\n",
       "    .dataframe thead th {\n",
       "        text-align: right;\n",
       "    }\n",
       "</style>\n",
       "<table border=\"1\" class=\"dataframe\">\n",
       "  <thead>\n",
       "    <tr style=\"text-align: right;\">\n",
       "      <th></th>\n",
       "      <th>dest</th>\n",
       "      <th>carrier</th>\n",
       "      <th>flight</th>\n",
       "      <th>counts</th>\n",
       "    </tr>\n",
       "  </thead>\n",
       "  <tbody>\n",
       "    <tr>\n",
       "      <th>0</th>\n",
       "      <td>SRQ</td>\n",
       "      <td>B6</td>\n",
       "      <td>431</td>\n",
       "      <td>365</td>\n",
       "    </tr>\n",
       "    <tr>\n",
       "      <th>1</th>\n",
       "      <td>SJU</td>\n",
       "      <td>B6</td>\n",
       "      <td>703</td>\n",
       "      <td>365</td>\n",
       "    </tr>\n",
       "    <tr>\n",
       "      <th>2</th>\n",
       "      <td>LAX</td>\n",
       "      <td>AA</td>\n",
       "      <td>181</td>\n",
       "      <td>365</td>\n",
       "    </tr>\n",
       "    <tr>\n",
       "      <th>3</th>\n",
       "      <td>MIA</td>\n",
       "      <td>AA</td>\n",
       "      <td>1611</td>\n",
       "      <td>365</td>\n",
       "    </tr>\n",
       "    <tr>\n",
       "      <th>4</th>\n",
       "      <td>BUR</td>\n",
       "      <td>B6</td>\n",
       "      <td>359</td>\n",
       "      <td>365</td>\n",
       "    </tr>\n",
       "    <tr>\n",
       "      <th>5</th>\n",
       "      <td>MCO</td>\n",
       "      <td>B6</td>\n",
       "      <td>1783</td>\n",
       "      <td>365</td>\n",
       "    </tr>\n",
       "    <tr>\n",
       "      <th>6</th>\n",
       "      <td>TPA</td>\n",
       "      <td>DL</td>\n",
       "      <td>2391</td>\n",
       "      <td>365</td>\n",
       "    </tr>\n",
       "    <tr>\n",
       "      <th>7</th>\n",
       "      <td>HNL</td>\n",
       "      <td>UA</td>\n",
       "      <td>15</td>\n",
       "      <td>365</td>\n",
       "    </tr>\n",
       "    <tr>\n",
       "      <th>8</th>\n",
       "      <td>LAX</td>\n",
       "      <td>VX</td>\n",
       "      <td>413</td>\n",
       "      <td>365</td>\n",
       "    </tr>\n",
       "    <tr>\n",
       "      <th>9</th>\n",
       "      <td>SFO</td>\n",
       "      <td>AA</td>\n",
       "      <td>59</td>\n",
       "      <td>365</td>\n",
       "    </tr>\n",
       "    <tr>\n",
       "      <th>10</th>\n",
       "      <td>FLL</td>\n",
       "      <td>B6</td>\n",
       "      <td>371</td>\n",
       "      <td>365</td>\n",
       "    </tr>\n",
       "    <tr>\n",
       "      <th>11</th>\n",
       "      <td>MCO</td>\n",
       "      <td>DL</td>\n",
       "      <td>2159</td>\n",
       "      <td>365</td>\n",
       "    </tr>\n",
       "    <tr>\n",
       "      <th>12</th>\n",
       "      <td>LAS</td>\n",
       "      <td>VX</td>\n",
       "      <td>251</td>\n",
       "      <td>365</td>\n",
       "    </tr>\n",
       "    <tr>\n",
       "      <th>13</th>\n",
       "      <td>IAD</td>\n",
       "      <td>EV</td>\n",
       "      <td>5712</td>\n",
       "      <td>365</td>\n",
       "    </tr>\n",
       "    <tr>\n",
       "      <th>14</th>\n",
       "      <td>LAX</td>\n",
       "      <td>VX</td>\n",
       "      <td>407</td>\n",
       "      <td>365</td>\n",
       "    </tr>\n",
       "    <tr>\n",
       "      <th>15</th>\n",
       "      <td>LAX</td>\n",
       "      <td>AA</td>\n",
       "      <td>119</td>\n",
       "      <td>365</td>\n",
       "    </tr>\n",
       "    <tr>\n",
       "      <th>16</th>\n",
       "      <td>SJU</td>\n",
       "      <td>AA</td>\n",
       "      <td>1357</td>\n",
       "      <td>365</td>\n",
       "    </tr>\n",
       "    <tr>\n",
       "      <th>17</th>\n",
       "      <td>CLT</td>\n",
       "      <td>B6</td>\n",
       "      <td>219</td>\n",
       "      <td>365</td>\n",
       "    </tr>\n",
       "  </tbody>\n",
       "</table>\n",
       "</div>"
      ],
      "text/plain": [
       "   dest carrier  flight  counts\n",
       "0   SRQ      B6     431     365\n",
       "1   SJU      B6     703     365\n",
       "2   LAX      AA     181     365\n",
       "3   MIA      AA    1611     365\n",
       "4   BUR      B6     359     365\n",
       "5   MCO      B6    1783     365\n",
       "6   TPA      DL    2391     365\n",
       "7   HNL      UA      15     365\n",
       "8   LAX      VX     413     365\n",
       "9   SFO      AA      59     365\n",
       "10  FLL      B6     371     365\n",
       "11  MCO      DL    2159     365\n",
       "12  LAS      VX     251     365\n",
       "13  IAD      EV    5712     365\n",
       "14  LAX      VX     407     365\n",
       "15  LAX      AA     119     365\n",
       "16  SJU      AA    1357     365\n",
       "17  CLT      B6     219     365"
      ]
     },
     "execution_count": 37,
     "metadata": {},
     "output_type": "execute_result"
    }
   ],
   "source": [
    "#All the group of dest carrier and flight that flew all year round\n",
    "new_group[new_group['counts'] == 365]\n",
    "    "
   ]
  },
  {
   "cell_type": "code",
   "execution_count": 38,
   "metadata": {},
   "outputs": [
    {
     "data": {
      "text/plain": [
       "dest\n",
       "BUR    1\n",
       "CLT    1\n",
       "FLL    1\n",
       "HNL    1\n",
       "IAD    1\n",
       "LAS    1\n",
       "LAX    4\n",
       "MCO    2\n",
       "MIA    1\n",
       "SFO    1\n",
       "SJU    2\n",
       "SRQ    1\n",
       "TPA    1\n",
       "dtype: int64"
      ]
     },
     "execution_count": 38,
     "metadata": {},
     "output_type": "execute_result"
    }
   ],
   "source": [
    "#All the unique destinations to which flights flew the entire year.\n",
    "new_group[new_group['counts'] == 365].groupby('dest').size()\n"
   ]
  },
  {
   "cell_type": "markdown",
   "metadata": {},
   "source": [
    "_Above displayed are all the destinations to which the flights flew all 365 days._"
   ]
  },
  {
   "cell_type": "markdown",
   "metadata": {
    "ein.tags": "worksheet-0",
    "slideshow": {
     "slide_type": "-"
    }
   },
   "source": [
    "## Question 5\n",
    "\n",
    "Develop one research question you can address using the nycflights2013\n",
    "dataset. Provide two visualizations to support your exploration of\n",
    "this question. Discuss what you find. \n",
    "\n",
    "Note: we'll using matplotlib for plotting in this course, but you can use something else too."
   ]
  },
  {
   "cell_type": "markdown",
   "metadata": {},
   "source": [
    "_REASEARCH QUESTION: Which route has the most number of delays? Both arrival and departure. Does any carrier perform very badly in a month?\n",
    "This question is important in order to know which month to fly in and which carrier should I use for the same_"
   ]
  },
  {
   "cell_type": "code",
   "execution_count": 39,
   "metadata": {},
   "outputs": [
    {
     "data": {
      "text/plain": [
       "origin  dest\n",
       "JFK     LAX     11196\n",
       "LGA     ATL     10082\n",
       "        ORD      8548\n",
       "JFK     SFO      8138\n",
       "LGA     CLT      5969\n",
       "Name: dep_delay, dtype: int64"
      ]
     },
     "execution_count": 39,
     "metadata": {},
     "output_type": "execute_result"
    }
   ],
   "source": [
    "#Which route(origin, dest) has the highest number of departure delays\n",
    "flights_df.groupby(['origin','dest'])['dep_delay'].count().sort_values(ascending=False).head(5)"
   ]
  },
  {
   "cell_type": "markdown",
   "metadata": {},
   "source": [
    "_JFK to LAX has the highest number of delays according to this data set_"
   ]
  },
  {
   "cell_type": "code",
   "execution_count": 40,
   "metadata": {
    "autoscroll": false,
    "ein.tags": "worksheet-0",
    "slideshow": {
     "slide_type": "-"
    }
   },
   "outputs": [
    {
     "data": {
      "image/png": "[encoded data removed]",
      "text/plain": [
       "<Figure size 432x288 with 1 Axes>"
      ]
     },
     "metadata": {
      "needs_background": "light"
     },
     "output_type": "display_data"
    }
   ],
   "source": [
    "#figure\n",
    "flights_df.groupby(['origin','dest'])['dep_delay'].count().sort_values(ascending=False).head(5).unstack().plot(kind='bar',stacked=True)\n",
    "plt.show()"
   ]
  },
  {
   "cell_type": "markdown",
   "metadata": {},
   "source": [
    "_Above is a visualization to support my answer_"
   ]
  },
  {
   "cell_type": "code",
   "execution_count": 41,
   "metadata": {},
   "outputs": [
    {
     "data": {
      "text/plain": [
       "origin  dest\n",
       "JFK     LAX     11159\n",
       "LGA     ATL     10041\n",
       "        ORD      8507\n",
       "JFK     SFO      8109\n",
       "LGA     CLT      5961\n",
       "Name: arr_delay, dtype: int64"
      ]
     },
     "execution_count": 41,
     "metadata": {},
     "output_type": "execute_result"
    }
   ],
   "source": [
    "#According to arrival delay\n",
    "flights_df.groupby(['origin','dest'])['arr_delay'].count().sort_values(ascending=False).head(5)"
   ]
  },
  {
   "cell_type": "markdown",
   "metadata": {},
   "source": [
    "_Even according to the arrival delay, JFK to LAX has the highest delays_"
   ]
  },
  {
   "cell_type": "code",
   "execution_count": 42,
   "metadata": {},
   "outputs": [
    {
     "data": {
      "text/plain": [
       "<matplotlib.axes._subplots.AxesSubplot at 0x21d833450b8>"
      ]
     },
     "execution_count": 42,
     "metadata": {},
     "output_type": "execute_result"
    },
    {
     "data": {
      "image/png": "[encoded data removed]",
      "text/plain": [
       "<Figure size 432x288 with 1 Axes>"
      ]
     },
     "metadata": {
      "needs_background": "light"
     },
     "output_type": "display_data"
    }
   ],
   "source": [
    "#Visualization\n",
    "flights_df.groupby(['origin','dest'])['arr_delay'].count().sort_values(ascending=False).head(5).unstack().plot(kind='bar',stacked=True)"
   ]
  },
  {
   "cell_type": "markdown",
   "metadata": {},
   "source": [
    "_Visualization to support my answer_"
   ]
  },
  {
   "cell_type": "markdown",
   "metadata": {},
   "source": [
    "_QUESTION: Does any carrier perform badly on any particular month?_"
   ]
  },
  {
   "cell_type": "code",
   "execution_count": 43,
   "metadata": {},
   "outputs": [
    {
     "data": {
      "image/png": "[encoded data removed]",
      "text/plain": [
       "<Figure size 720x576 with 1 Axes>"
      ]
     },
     "metadata": {
      "needs_background": "light"
     },
     "output_type": "display_data"
    }
   ],
   "source": [
    "#Grouping by carrier and month and checking departure delay\n",
    "flights_df.groupby(['carrier', 'month'])['dep_delay'].count().unstack().plot(kind='bar',stacked=True, figsize=(10,8))\n",
    "plt.show()"
   ]
  },
  {
   "cell_type": "markdown",
   "metadata": {},
   "source": [
    "_UA seems to has the highest delay but it is consistent throughout the year. All the carriers seem to perform the same throughout the year._\n",
    "_Therefore, from the above analysis, I would not be taking JFK to LAX route since it has the highest departure and arrival delays. If I want to fly to LAX, I would go through EWR._\n"
   ]
  },
  {
   "cell_type": "markdown",
   "metadata": {
    "ein.tags": "worksheet-0",
    "slideshow": {
     "slide_type": "-"
    }
   },
   "source": [
    "## Question 6\n",
    "\n",
    "What weather conditions are associated with flight delays leaving NYC?  Use graphics to explore.\n",
    "\n",
    "Note: you need to use 'weather.csv' dataset"
   ]
  },
  {
   "cell_type": "code",
   "execution_count": 44,
   "metadata": {
    "autoscroll": false,
    "ein.tags": "worksheet-0",
    "slideshow": {
     "slide_type": "-"
    }
   },
   "outputs": [],
   "source": [
    "#Loading the weather data\n",
    "weather_df = pd.read_csv('weather.csv.bz2')"
   ]
  },
  {
   "cell_type": "code",
   "execution_count": 45,
   "metadata": {},
   "outputs": [],
   "source": [
    "#Grouping by year, month, day, origin\n",
    "weather_df = pd.DataFrame(weather_df.groupby(['year','month','day','origin']).mean())"
   ]
  },
  {
   "cell_type": "code",
   "execution_count": 46,
   "metadata": {},
   "outputs": [
    {
     "data": {
      "text/html": [
       "<div>\n",
       "<style scoped>\n",
       "    .dataframe tbody tr th:only-of-type {\n",
       "        vertical-align: middle;\n",
       "    }\n",
       "\n",
       "    .dataframe tbody tr th {\n",
       "        vertical-align: top;\n",
       "    }\n",
       "\n",
       "    .dataframe thead th {\n",
       "        text-align: right;\n",
       "    }\n",
       "</style>\n",
       "<table border=\"1\" class=\"dataframe\">\n",
       "  <thead>\n",
       "    <tr style=\"text-align: right;\">\n",
       "      <th></th>\n",
       "      <th></th>\n",
       "      <th></th>\n",
       "      <th></th>\n",
       "      <th>Unnamed: 0</th>\n",
       "      <th>hour</th>\n",
       "      <th>temp</th>\n",
       "      <th>dewp</th>\n",
       "      <th>humid</th>\n",
       "      <th>wind_dir</th>\n",
       "      <th>wind_speed</th>\n",
       "      <th>wind_gust</th>\n",
       "      <th>precip</th>\n",
       "      <th>pressure</th>\n",
       "      <th>visib</th>\n",
       "    </tr>\n",
       "    <tr>\n",
       "      <th>year</th>\n",
       "      <th>month</th>\n",
       "      <th>day</th>\n",
       "      <th>origin</th>\n",
       "      <th></th>\n",
       "      <th></th>\n",
       "      <th></th>\n",
       "      <th></th>\n",
       "      <th></th>\n",
       "      <th></th>\n",
       "      <th></th>\n",
       "      <th></th>\n",
       "      <th></th>\n",
       "      <th></th>\n",
       "      <th></th>\n",
       "    </tr>\n",
       "  </thead>\n",
       "  <tbody>\n",
       "    <tr>\n",
       "      <th rowspan=\"5\" valign=\"top\">2013</th>\n",
       "      <th rowspan=\"5\" valign=\"top\">1.0</th>\n",
       "      <th>1.0</th>\n",
       "      <th>EWR</th>\n",
       "      <td>12.0</td>\n",
       "      <td>11.782609</td>\n",
       "      <td>38.4800</td>\n",
       "      <td>25.050435</td>\n",
       "      <td>58.386087</td>\n",
       "      <td>263.043478</td>\n",
       "      <td>12.758648</td>\n",
       "      <td>14.682397</td>\n",
       "      <td>0.0</td>\n",
       "      <td>1012.442857</td>\n",
       "      <td>10.0</td>\n",
       "    </tr>\n",
       "    <tr>\n",
       "      <th>2.0</th>\n",
       "      <th>EWR</th>\n",
       "      <td>35.5</td>\n",
       "      <td>11.500000</td>\n",
       "      <td>28.8350</td>\n",
       "      <td>11.382500</td>\n",
       "      <td>47.786250</td>\n",
       "      <td>307.916667</td>\n",
       "      <td>12.514732</td>\n",
       "      <td>14.401704</td>\n",
       "      <td>0.0</td>\n",
       "      <td>1017.337500</td>\n",
       "      <td>10.0</td>\n",
       "    </tr>\n",
       "    <tr>\n",
       "      <th>3.0</th>\n",
       "      <th>EWR</th>\n",
       "      <td>59.5</td>\n",
       "      <td>11.500000</td>\n",
       "      <td>29.4575</td>\n",
       "      <td>14.780000</td>\n",
       "      <td>54.395833</td>\n",
       "      <td>276.956522</td>\n",
       "      <td>7.863663</td>\n",
       "      <td>9.049346</td>\n",
       "      <td>0.0</td>\n",
       "      <td>1021.058333</td>\n",
       "      <td>10.0</td>\n",
       "    </tr>\n",
       "    <tr>\n",
       "      <th>4.0</th>\n",
       "      <th>EWR</th>\n",
       "      <td>83.5</td>\n",
       "      <td>11.500000</td>\n",
       "      <td>33.4775</td>\n",
       "      <td>19.205000</td>\n",
       "      <td>55.880417</td>\n",
       "      <td>242.916667</td>\n",
       "      <td>13.857309</td>\n",
       "      <td>15.946714</td>\n",
       "      <td>0.0</td>\n",
       "      <td>1017.533333</td>\n",
       "      <td>10.0</td>\n",
       "    </tr>\n",
       "    <tr>\n",
       "      <th>5.0</th>\n",
       "      <th>EWR</th>\n",
       "      <td>107.5</td>\n",
       "      <td>11.500000</td>\n",
       "      <td>36.7325</td>\n",
       "      <td>19.242500</td>\n",
       "      <td>49.284583</td>\n",
       "      <td>271.666667</td>\n",
       "      <td>10.836512</td>\n",
       "      <td>12.470441</td>\n",
       "      <td>0.0</td>\n",
       "      <td>1021.120833</td>\n",
       "      <td>10.0</td>\n",
       "    </tr>\n",
       "  </tbody>\n",
       "</table>\n",
       "</div>"
      ],
      "text/plain": [
       "                       Unnamed: 0       hour     temp       dewp      humid  \\\n",
       "year month day origin                                                         \n",
       "2013 1.0   1.0 EWR           12.0  11.782609  38.4800  25.050435  58.386087   \n",
       "           2.0 EWR           35.5  11.500000  28.8350  11.382500  47.786250   \n",
       "           3.0 EWR           59.5  11.500000  29.4575  14.780000  54.395833   \n",
       "           4.0 EWR           83.5  11.500000  33.4775  19.205000  55.880417   \n",
       "           5.0 EWR          107.5  11.500000  36.7325  19.242500  49.284583   \n",
       "\n",
       "                         wind_dir  wind_speed  wind_gust  precip     pressure  \\\n",
       "year month day origin                                                           \n",
       "2013 1.0   1.0 EWR     263.043478   12.758648  14.682397     0.0  1012.442857   \n",
       "           2.0 EWR     307.916667   12.514732  14.401704     0.0  1017.337500   \n",
       "           3.0 EWR     276.956522    7.863663   9.049346     0.0  1021.058333   \n",
       "           4.0 EWR     242.916667   13.857309  15.946714     0.0  1017.533333   \n",
       "           5.0 EWR     271.666667   10.836512  12.470441     0.0  1021.120833   \n",
       "\n",
       "                       visib  \n",
       "year month day origin         \n",
       "2013 1.0   1.0 EWR      10.0  \n",
       "           2.0 EWR      10.0  \n",
       "           3.0 EWR      10.0  \n",
       "           4.0 EWR      10.0  \n",
       "           5.0 EWR      10.0  "
      ]
     },
     "execution_count": 46,
     "metadata": {},
     "output_type": "execute_result"
    }
   ],
   "source": [
    "weather_df.head()"
   ]
  },
  {
   "cell_type": "code",
   "execution_count": 47,
   "metadata": {},
   "outputs": [],
   "source": [
    "#Resetting the index to normalize the columns and get rid of group indexes\n",
    "weather_df.reset_index(level = 0, inplace = True)\n",
    "weather_df.reset_index(level = 0, inplace = True)\n",
    "weather_df.reset_index(level = 0, inplace = True)\n",
    "weather_df.reset_index(level = 0, inplace = True)"
   ]
  },
  {
   "cell_type": "code",
   "execution_count": 48,
   "metadata": {},
   "outputs": [
    {
     "data": {
      "text/html": [
       "<div>\n",
       "<style scoped>\n",
       "    .dataframe tbody tr th:only-of-type {\n",
       "        vertical-align: middle;\n",
       "    }\n",
       "\n",
       "    .dataframe tbody tr th {\n",
       "        vertical-align: top;\n",
       "    }\n",
       "\n",
       "    .dataframe thead th {\n",
       "        text-align: right;\n",
       "    }\n",
       "</style>\n",
       "<table border=\"1\" class=\"dataframe\">\n",
       "  <thead>\n",
       "    <tr style=\"text-align: right;\">\n",
       "      <th></th>\n",
       "      <th>origin</th>\n",
       "      <th>year</th>\n",
       "      <th>month</th>\n",
       "      <th>day</th>\n",
       "      <th>temp</th>\n",
       "      <th>dewp</th>\n",
       "      <th>humid</th>\n",
       "      <th>wind_dir</th>\n",
       "      <th>wind_speed</th>\n",
       "      <th>wind_gust</th>\n",
       "      <th>precip</th>\n",
       "      <th>pressure</th>\n",
       "      <th>visib</th>\n",
       "    </tr>\n",
       "  </thead>\n",
       "  <tbody>\n",
       "    <tr>\n",
       "      <th>0</th>\n",
       "      <td>EWR</td>\n",
       "      <td>2013</td>\n",
       "      <td>1.0</td>\n",
       "      <td>1.0</td>\n",
       "      <td>38.4800</td>\n",
       "      <td>25.050435</td>\n",
       "      <td>58.386087</td>\n",
       "      <td>263.043478</td>\n",
       "      <td>12.758648</td>\n",
       "      <td>14.682397</td>\n",
       "      <td>0.0</td>\n",
       "      <td>1012.442857</td>\n",
       "      <td>10.0</td>\n",
       "    </tr>\n",
       "    <tr>\n",
       "      <th>1</th>\n",
       "      <td>EWR</td>\n",
       "      <td>2013</td>\n",
       "      <td>1.0</td>\n",
       "      <td>2.0</td>\n",
       "      <td>28.8350</td>\n",
       "      <td>11.382500</td>\n",
       "      <td>47.786250</td>\n",
       "      <td>307.916667</td>\n",
       "      <td>12.514732</td>\n",
       "      <td>14.401704</td>\n",
       "      <td>0.0</td>\n",
       "      <td>1017.337500</td>\n",
       "      <td>10.0</td>\n",
       "    </tr>\n",
       "    <tr>\n",
       "      <th>2</th>\n",
       "      <td>EWR</td>\n",
       "      <td>2013</td>\n",
       "      <td>1.0</td>\n",
       "      <td>3.0</td>\n",
       "      <td>29.4575</td>\n",
       "      <td>14.780000</td>\n",
       "      <td>54.395833</td>\n",
       "      <td>276.956522</td>\n",
       "      <td>7.863663</td>\n",
       "      <td>9.049346</td>\n",
       "      <td>0.0</td>\n",
       "      <td>1021.058333</td>\n",
       "      <td>10.0</td>\n",
       "    </tr>\n",
       "    <tr>\n",
       "      <th>3</th>\n",
       "      <td>EWR</td>\n",
       "      <td>2013</td>\n",
       "      <td>1.0</td>\n",
       "      <td>4.0</td>\n",
       "      <td>33.4775</td>\n",
       "      <td>19.205000</td>\n",
       "      <td>55.880417</td>\n",
       "      <td>242.916667</td>\n",
       "      <td>13.857309</td>\n",
       "      <td>15.946714</td>\n",
       "      <td>0.0</td>\n",
       "      <td>1017.533333</td>\n",
       "      <td>10.0</td>\n",
       "    </tr>\n",
       "    <tr>\n",
       "      <th>4</th>\n",
       "      <td>EWR</td>\n",
       "      <td>2013</td>\n",
       "      <td>1.0</td>\n",
       "      <td>5.0</td>\n",
       "      <td>36.7325</td>\n",
       "      <td>19.242500</td>\n",
       "      <td>49.284583</td>\n",
       "      <td>271.666667</td>\n",
       "      <td>10.836512</td>\n",
       "      <td>12.470441</td>\n",
       "      <td>0.0</td>\n",
       "      <td>1021.120833</td>\n",
       "      <td>10.0</td>\n",
       "    </tr>\n",
       "  </tbody>\n",
       "</table>\n",
       "</div>"
      ],
      "text/plain": [
       "  origin  year  month  day     temp       dewp      humid    wind_dir  \\\n",
       "0    EWR  2013    1.0  1.0  38.4800  25.050435  58.386087  263.043478   \n",
       "1    EWR  2013    1.0  2.0  28.8350  11.382500  47.786250  307.916667   \n",
       "2    EWR  2013    1.0  3.0  29.4575  14.780000  54.395833  276.956522   \n",
       "3    EWR  2013    1.0  4.0  33.4775  19.205000  55.880417  242.916667   \n",
       "4    EWR  2013    1.0  5.0  36.7325  19.242500  49.284583  271.666667   \n",
       "\n",
       "   wind_speed  wind_gust  precip     pressure  visib  \n",
       "0   12.758648  14.682397     0.0  1012.442857   10.0  \n",
       "1   12.514732  14.401704     0.0  1017.337500   10.0  \n",
       "2    7.863663   9.049346     0.0  1021.058333   10.0  \n",
       "3   13.857309  15.946714     0.0  1017.533333   10.0  \n",
       "4   10.836512  12.470441     0.0  1021.120833   10.0  "
      ]
     },
     "execution_count": 48,
     "metadata": {},
     "output_type": "execute_result"
    }
   ],
   "source": [
    "#Retaining the useful columns\n",
    "weather_df =  pd.DataFrame(weather_df[['origin','year','month','day','temp','dewp','humid','wind_dir',\n",
    "                                       'wind_speed','wind_gust','precip','pressure','visib']]) \n",
    "weather_df.head()"
   ]
  },
  {
   "cell_type": "code",
   "execution_count": 49,
   "metadata": {},
   "outputs": [],
   "source": [
    "#Making flights uniform with weather data\n",
    "flights_agg = flights_df.groupby(['year','month','day','origin']).mean()\n",
    "flights_agg.reset_index(level = 0, inplace = True)\n",
    "flights_agg.reset_index(level = 0, inplace = True)\n",
    "flights_agg.reset_index(level = 0, inplace = True)\n",
    "flights_agg.reset_index(level = 0, inplace = True)"
   ]
  },
  {
   "cell_type": "code",
   "execution_count": 50,
   "metadata": {},
   "outputs": [
    {
     "data": {
      "text/html": [
       "<div>\n",
       "<style scoped>\n",
       "    .dataframe tbody tr th:only-of-type {\n",
       "        vertical-align: middle;\n",
       "    }\n",
       "\n",
       "    .dataframe tbody tr th {\n",
       "        vertical-align: top;\n",
       "    }\n",
       "\n",
       "    .dataframe thead th {\n",
       "        text-align: right;\n",
       "    }\n",
       "</style>\n",
       "<table border=\"1\" class=\"dataframe\">\n",
       "  <thead>\n",
       "    <tr style=\"text-align: right;\">\n",
       "      <th></th>\n",
       "      <th>origin</th>\n",
       "      <th>day</th>\n",
       "      <th>month</th>\n",
       "      <th>year</th>\n",
       "      <th>dep_time</th>\n",
       "      <th>dep_delay</th>\n",
       "      <th>arr_time</th>\n",
       "      <th>arr_delay</th>\n",
       "      <th>flight</th>\n",
       "      <th>air_time</th>\n",
       "      <th>distance</th>\n",
       "      <th>hour</th>\n",
       "      <th>minute</th>\n",
       "      <th>speed</th>\n",
       "    </tr>\n",
       "  </thead>\n",
       "  <tbody>\n",
       "    <tr>\n",
       "      <th>0</th>\n",
       "      <td>EWR</td>\n",
       "      <td>1</td>\n",
       "      <td>1</td>\n",
       "      <td>2013</td>\n",
       "      <td>1407.332237</td>\n",
       "      <td>17.483553</td>\n",
       "      <td>1568.815182</td>\n",
       "      <td>20.886667</td>\n",
       "      <td>2276.868852</td>\n",
       "      <td>166.886667</td>\n",
       "      <td>1043.259016</td>\n",
       "      <td>13.779605</td>\n",
       "      <td>29.371711</td>\n",
       "      <td>5.891418</td>\n",
       "    </tr>\n",
       "    <tr>\n",
       "      <th>1</th>\n",
       "      <td>JFK</td>\n",
       "      <td>1</td>\n",
       "      <td>1</td>\n",
       "      <td>2013</td>\n",
       "      <td>1448.209459</td>\n",
       "      <td>12.219595</td>\n",
       "      <td>1595.567568</td>\n",
       "      <td>8.088136</td>\n",
       "      <td>1165.316498</td>\n",
       "      <td>192.722034</td>\n",
       "      <td>1296.690236</td>\n",
       "      <td>14.165541</td>\n",
       "      <td>31.655405</td>\n",
       "      <td>6.227378</td>\n",
       "    </tr>\n",
       "    <tr>\n",
       "      <th>2</th>\n",
       "      <td>LGA</td>\n",
       "      <td>1</td>\n",
       "      <td>1</td>\n",
       "      <td>2013</td>\n",
       "      <td>1277.831933</td>\n",
       "      <td>3.134454</td>\n",
       "      <td>1512.785714</td>\n",
       "      <td>7.885593</td>\n",
       "      <td>2054.816667</td>\n",
       "      <td>144.330508</td>\n",
       "      <td>849.520833</td>\n",
       "      <td>12.449580</td>\n",
       "      <td>32.873950</td>\n",
       "      <td>5.701970</td>\n",
       "    </tr>\n",
       "    <tr>\n",
       "      <th>3</th>\n",
       "      <td>EWR</td>\n",
       "      <td>2</td>\n",
       "      <td>1</td>\n",
       "      <td>2013</td>\n",
       "      <td>1345.773256</td>\n",
       "      <td>25.322674</td>\n",
       "      <td>1514.172012</td>\n",
       "      <td>25.439883</td>\n",
       "      <td>2389.082857</td>\n",
       "      <td>159.196481</td>\n",
       "      <td>1002.974286</td>\n",
       "      <td>13.151163</td>\n",
       "      <td>30.656977</td>\n",
       "      <td>5.955132</td>\n",
       "    </tr>\n",
       "    <tr>\n",
       "      <th>4</th>\n",
       "      <td>JFK</td>\n",
       "      <td>2</td>\n",
       "      <td>1</td>\n",
       "      <td>2013</td>\n",
       "      <td>1409.968750</td>\n",
       "      <td>8.143750</td>\n",
       "      <td>1570.341693</td>\n",
       "      <td>3.268139</td>\n",
       "      <td>1270.915888</td>\n",
       "      <td>185.772871</td>\n",
       "      <td>1285.716511</td>\n",
       "      <td>13.790625</td>\n",
       "      <td>30.906250</td>\n",
       "      <td>6.331770</td>\n",
       "    </tr>\n",
       "  </tbody>\n",
       "</table>\n",
       "</div>"
      ],
      "text/plain": [
       "  origin  day  month  year     dep_time  dep_delay     arr_time  arr_delay  \\\n",
       "0    EWR    1      1  2013  1407.332237  17.483553  1568.815182  20.886667   \n",
       "1    JFK    1      1  2013  1448.209459  12.219595  1595.567568   8.088136   \n",
       "2    LGA    1      1  2013  1277.831933   3.134454  1512.785714   7.885593   \n",
       "3    EWR    2      1  2013  1345.773256  25.322674  1514.172012  25.439883   \n",
       "4    JFK    2      1  2013  1409.968750   8.143750  1570.341693   3.268139   \n",
       "\n",
       "        flight    air_time     distance       hour     minute     speed  \n",
       "0  2276.868852  166.886667  1043.259016  13.779605  29.371711  5.891418  \n",
       "1  1165.316498  192.722034  1296.690236  14.165541  31.655405  6.227378  \n",
       "2  2054.816667  144.330508   849.520833  12.449580  32.873950  5.701970  \n",
       "3  2389.082857  159.196481  1002.974286  13.151163  30.656977  5.955132  \n",
       "4  1270.915888  185.772871  1285.716511  13.790625  30.906250  6.331770  "
      ]
     },
     "execution_count": 50,
     "metadata": {},
     "output_type": "execute_result"
    }
   ],
   "source": [
    "flights_agg.head()"
   ]
  },
  {
   "cell_type": "code",
   "execution_count": 51,
   "metadata": {},
   "outputs": [],
   "source": [
    "#Taking necessary columns\n",
    "flights_agg = flights_agg[['origin','year','month','day','dep_delay','arr_delay','speed']]\n",
    "flights_agg.head()\n",
    "\n",
    "# Merging datasets\n",
    "flights_weather = pd.merge(weather_df,flights_agg, on = ['year','month','day','origin'], how = 'inner')"
   ]
  },
  {
   "cell_type": "code",
   "execution_count": 52,
   "metadata": {},
   "outputs": [
    {
     "data": {
      "text/html": [
       "<div>\n",
       "<style scoped>\n",
       "    .dataframe tbody tr th:only-of-type {\n",
       "        vertical-align: middle;\n",
       "    }\n",
       "\n",
       "    .dataframe tbody tr th {\n",
       "        vertical-align: top;\n",
       "    }\n",
       "\n",
       "    .dataframe thead th {\n",
       "        text-align: right;\n",
       "    }\n",
       "</style>\n",
       "<table border=\"1\" class=\"dataframe\">\n",
       "  <thead>\n",
       "    <tr style=\"text-align: right;\">\n",
       "      <th></th>\n",
       "      <th>origin</th>\n",
       "      <th>year</th>\n",
       "      <th>month</th>\n",
       "      <th>day</th>\n",
       "      <th>temp</th>\n",
       "      <th>dewp</th>\n",
       "      <th>humid</th>\n",
       "      <th>wind_dir</th>\n",
       "      <th>wind_speed</th>\n",
       "      <th>wind_gust</th>\n",
       "      <th>precip</th>\n",
       "      <th>pressure</th>\n",
       "      <th>visib</th>\n",
       "      <th>dep_delay</th>\n",
       "      <th>arr_delay</th>\n",
       "      <th>speed</th>\n",
       "    </tr>\n",
       "  </thead>\n",
       "  <tbody>\n",
       "    <tr>\n",
       "      <th>0</th>\n",
       "      <td>EWR</td>\n",
       "      <td>2013</td>\n",
       "      <td>1.0</td>\n",
       "      <td>1.0</td>\n",
       "      <td>38.4800</td>\n",
       "      <td>25.050435</td>\n",
       "      <td>58.386087</td>\n",
       "      <td>263.043478</td>\n",
       "      <td>12.758648</td>\n",
       "      <td>14.682397</td>\n",
       "      <td>0.0</td>\n",
       "      <td>1012.442857</td>\n",
       "      <td>10.0</td>\n",
       "      <td>17.483553</td>\n",
       "      <td>20.886667</td>\n",
       "      <td>5.891418</td>\n",
       "    </tr>\n",
       "    <tr>\n",
       "      <th>1</th>\n",
       "      <td>EWR</td>\n",
       "      <td>2013</td>\n",
       "      <td>1.0</td>\n",
       "      <td>2.0</td>\n",
       "      <td>28.8350</td>\n",
       "      <td>11.382500</td>\n",
       "      <td>47.786250</td>\n",
       "      <td>307.916667</td>\n",
       "      <td>12.514732</td>\n",
       "      <td>14.401704</td>\n",
       "      <td>0.0</td>\n",
       "      <td>1017.337500</td>\n",
       "      <td>10.0</td>\n",
       "      <td>25.322674</td>\n",
       "      <td>25.439883</td>\n",
       "      <td>5.955132</td>\n",
       "    </tr>\n",
       "    <tr>\n",
       "      <th>2</th>\n",
       "      <td>EWR</td>\n",
       "      <td>2013</td>\n",
       "      <td>1.0</td>\n",
       "      <td>3.0</td>\n",
       "      <td>29.4575</td>\n",
       "      <td>14.780000</td>\n",
       "      <td>54.395833</td>\n",
       "      <td>276.956522</td>\n",
       "      <td>7.863663</td>\n",
       "      <td>9.049346</td>\n",
       "      <td>0.0</td>\n",
       "      <td>1021.058333</td>\n",
       "      <td>10.0</td>\n",
       "      <td>8.450450</td>\n",
       "      <td>6.102719</td>\n",
       "      <td>6.083438</td>\n",
       "    </tr>\n",
       "    <tr>\n",
       "      <th>3</th>\n",
       "      <td>EWR</td>\n",
       "      <td>2013</td>\n",
       "      <td>1.0</td>\n",
       "      <td>4.0</td>\n",
       "      <td>33.4775</td>\n",
       "      <td>19.205000</td>\n",
       "      <td>55.880417</td>\n",
       "      <td>242.916667</td>\n",
       "      <td>13.857309</td>\n",
       "      <td>15.946714</td>\n",
       "      <td>0.0</td>\n",
       "      <td>1017.533333</td>\n",
       "      <td>10.0</td>\n",
       "      <td>12.103858</td>\n",
       "      <td>1.768546</td>\n",
       "      <td>6.332914</td>\n",
       "    </tr>\n",
       "    <tr>\n",
       "      <th>4</th>\n",
       "      <td>EWR</td>\n",
       "      <td>2013</td>\n",
       "      <td>1.0</td>\n",
       "      <td>5.0</td>\n",
       "      <td>36.7325</td>\n",
       "      <td>19.242500</td>\n",
       "      <td>49.284583</td>\n",
       "      <td>271.666667</td>\n",
       "      <td>10.836512</td>\n",
       "      <td>12.470441</td>\n",
       "      <td>0.0</td>\n",
       "      <td>1021.120833</td>\n",
       "      <td>10.0</td>\n",
       "      <td>5.696203</td>\n",
       "      <td>-1.367089</td>\n",
       "      <td>6.235933</td>\n",
       "    </tr>\n",
       "  </tbody>\n",
       "</table>\n",
       "</div>"
      ],
      "text/plain": [
       "  origin  year  month  day     temp       dewp      humid    wind_dir  \\\n",
       "0    EWR  2013    1.0  1.0  38.4800  25.050435  58.386087  263.043478   \n",
       "1    EWR  2013    1.0  2.0  28.8350  11.382500  47.786250  307.916667   \n",
       "2    EWR  2013    1.0  3.0  29.4575  14.780000  54.395833  276.956522   \n",
       "3    EWR  2013    1.0  4.0  33.4775  19.205000  55.880417  242.916667   \n",
       "4    EWR  2013    1.0  5.0  36.7325  19.242500  49.284583  271.666667   \n",
       "\n",
       "   wind_speed  wind_gust  precip     pressure  visib  dep_delay  arr_delay  \\\n",
       "0   12.758648  14.682397     0.0  1012.442857   10.0  17.483553  20.886667   \n",
       "1   12.514732  14.401704     0.0  1017.337500   10.0  25.322674  25.439883   \n",
       "2    7.863663   9.049346     0.0  1021.058333   10.0   8.450450   6.102719   \n",
       "3   13.857309  15.946714     0.0  1017.533333   10.0  12.103858   1.768546   \n",
       "4   10.836512  12.470441     0.0  1021.120833   10.0   5.696203  -1.367089   \n",
       "\n",
       "      speed  \n",
       "0  5.891418  \n",
       "1  5.955132  \n",
       "2  6.083438  \n",
       "3  6.332914  \n",
       "4  6.235933  "
      ]
     },
     "execution_count": 52,
     "metadata": {},
     "output_type": "execute_result"
    }
   ],
   "source": [
    "flights_weather.head()"
   ]
  },
  {
   "cell_type": "code",
   "execution_count": 53,
   "metadata": {},
   "outputs": [
    {
     "data": {
      "text/plain": [
       "Text(0.5, 1.0, 'Temp Vs. Departure Delay')"
      ]
     },
     "execution_count": 53,
     "metadata": {},
     "output_type": "execute_result"
    },
    {
     "data": {
      "image/png": "[encoded data removed]",
      "text/plain": [
       "<Figure size 864x144 with 1 Axes>"
      ]
     },
     "metadata": {
      "needs_background": "light"
     },
     "output_type": "display_data"
    }
   ],
   "source": [
    "#Temp vs Dep delay\n",
    "fig, axes = plt.subplots(nrows=1, ncols=1,figsize=(12,2))\n",
    "axes.scatter(flights_weather['temp'], flights_weather['dep_delay'], c = 'blue')\n",
    "xlabel('Avg Temp')\n",
    "ylabel('Avg departure delay')\n",
    "title('Temp Vs. Departure Delay')"
   ]
  },
  {
   "cell_type": "code",
   "execution_count": 54,
   "metadata": {},
   "outputs": [
    {
     "data": {
      "text/plain": [
       "Text(0.5, 1.0, 'Visibility Vs. Departure Delay')"
      ]
     },
     "execution_count": 54,
     "metadata": {},
     "output_type": "execute_result"
    },
    {
     "data": {
      "image/png": "[encoded data removed]",
      "text/plain": [
       "<Figure size 864x144 with 1 Axes>"
      ]
     },
     "metadata": {
      "needs_background": "light"
     },
     "output_type": "display_data"
    }
   ],
   "source": [
    "#Visib vs Dep Delay\n",
    "fig, axes = plt.subplots(nrows=1, ncols=1,figsize=(12,2))\n",
    "axes.scatter(flights_weather['visib'], flights_weather['dep_delay'], c = 'magenta')\n",
    "xlabel('Visibility')\n",
    "ylabel('Avg departure delay')\n",
    "title('Visibility Vs. Departure Delay')"
   ]
  },
  {
   "cell_type": "code",
   "execution_count": 55,
   "metadata": {},
   "outputs": [
    {
     "data": {
      "text/plain": [
       "Text(0.5, 1.0, 'Precipitation Vs. Departure Delay')"
      ]
     },
     "execution_count": 55,
     "metadata": {},
     "output_type": "execute_result"
    },
    {
     "data": {
      "image/png": "[encoded data removed]",
      "text/plain": [
       "<Figure size 864x144 with 1 Axes>"
      ]
     },
     "metadata": {
      "needs_background": "light"
     },
     "output_type": "display_data"
    }
   ],
   "source": [
    "#Precipitation vs Dep Delay\n",
    "fig, axes = plt.subplots(nrows=1, ncols=1,figsize=(12,2))\n",
    "axes.scatter(flights_weather['precip'], flights_weather['dep_delay'], c = 'cyan')\n",
    "xlabel('Precipitation')\n",
    "ylabel('Avg departure delay')\n",
    "title('Precipitation Vs. Departure Delay')"
   ]
  },
  {
   "cell_type": "code",
   "execution_count": 56,
   "metadata": {},
   "outputs": [
    {
     "data": {
      "text/plain": [
       "Text(0.5, 1.0, 'Wind speed Vs. Departure Delay')"
      ]
     },
     "execution_count": 56,
     "metadata": {},
     "output_type": "execute_result"
    },
    {
     "data": {
      "image/png": "[encoded data removed]",
      "text/plain": [
       "<Figure size 864x144 with 1 Axes>"
      ]
     },
     "metadata": {
      "needs_background": "light"
     },
     "output_type": "display_data"
    }
   ],
   "source": [
    "#Wind Speed vs Dep Delay\n",
    "fig, axes = plt.subplots(nrows=1, ncols=1,figsize=(12,2))\n",
    "axes.scatter(flights_weather['wind_speed'], flights_weather['dep_delay'], c = 'red')\n",
    "xlabel('Wind Speed')\n",
    "ylabel('Avg departure delay')\n",
    "title('Wind speed Vs. Departure Delay')"
   ]
  },
  {
   "cell_type": "code",
   "execution_count": 57,
   "metadata": {},
   "outputs": [
    {
     "data": {
      "text/plain": [
       "Text(0.5, 1.0, 'Pressure Vs. Departure Delay')"
      ]
     },
     "execution_count": 57,
     "metadata": {},
     "output_type": "execute_result"
    },
    {
     "data": {
      "image/png": "[encoded data removed]",
      "text/plain": [
       "<Figure size 864x144 with 1 Axes>"
      ]
     },
     "metadata": {
      "needs_background": "light"
     },
     "output_type": "display_data"
    }
   ],
   "source": [
    "#Pressure vs Dep Delay\n",
    "fig, axes = plt.subplots(nrows=1, ncols=1,figsize=(12,2))\n",
    "axes.scatter(flights_weather['pressure'], flights_weather['dep_delay'], c = 'cyan')\n",
    "xlabel('Pressure')\n",
    "ylabel('Avg departure delay')\n",
    "title('Pressure Vs. Departure Delay')"
   ]
  },
  {
   "cell_type": "code",
   "execution_count": 58,
   "metadata": {},
   "outputs": [
    {
     "data": {
      "text/plain": [
       "Text(0.5, 1.0, 'Humidity Vs. Departure Delay')"
      ]
     },
     "execution_count": 58,
     "metadata": {},
     "output_type": "execute_result"
    },
    {
     "data": {
      "image/png": "[encoded data removed]",
      "text/plain": [
       "<Figure size 864x144 with 1 Axes>"
      ]
     },
     "metadata": {
      "needs_background": "light"
     },
     "output_type": "display_data"
    }
   ],
   "source": [
    "#Humidity vs Dep Delay\n",
    "fig, axes = plt.subplots(nrows=1, ncols=1,figsize=(12,2))\n",
    "axes.scatter(flights_weather['humid'], flights_weather['dep_delay'], c = 'yellow')\n",
    "xlabel('Humidity')\n",
    "ylabel('Avg departure delay')\n",
    "title('Humidity Vs. Departure Delay')"
   ]
  },
  {
   "cell_type": "markdown",
   "metadata": {},
   "source": [
    "_From the above visualizations:_\n",
    "\n",
    "_Departure delay is evenly distributed for Humidity, Pressure and Temperature._\n",
    "\n",
    "_Departure delay is uneven for the rest of the parameters._\n",
    "\n",
    "_Now let's see how they are in models._"
   ]
  },
  {
   "cell_type": "code",
   "execution_count": 59,
   "metadata": {},
   "outputs": [],
   "source": [
    "#To create linear models\n",
    "import statsmodels.formula.api as sm"
   ]
  },
  {
   "cell_type": "code",
   "execution_count": 60,
   "metadata": {},
   "outputs": [],
   "source": [
    "#Dep delay and temp\n",
    "model1 = sm.ols(formula='dep_delay ~ temp', data=flights_weather).fit()"
   ]
  },
  {
   "cell_type": "code",
   "execution_count": 61,
   "metadata": {},
   "outputs": [
    {
     "name": "stdout",
     "output_type": "stream",
     "text": [
      "The regression coefficients for the dep_delay and temp model are: \n",
      " Intercept    10.720439\n",
      "temp          0.080707\n",
      "dtype: float64\n"
     ]
    }
   ],
   "source": [
    "#Parameters of the model\n",
    "print(\"The regression coefficients for the dep_delay and temp model are: \\n\", model1.params)"
   ]
  },
  {
   "cell_type": "code",
   "execution_count": 62,
   "metadata": {},
   "outputs": [],
   "source": [
    "model2 = sm.ols(formula='dep_delay ~ visib', data=flights_weather).fit()"
   ]
  },
  {
   "cell_type": "code",
   "execution_count": 63,
   "metadata": {},
   "outputs": [
    {
     "name": "stdout",
     "output_type": "stream",
     "text": [
      "The regression coefficients for the dep_delay and visib model are: \n",
      " Intercept    46.574289\n",
      "visib        -3.409740\n",
      "dtype: float64\n"
     ]
    }
   ],
   "source": [
    "print(\"The regression coefficients for the dep_delay and visib model are: \\n\", model2.params)"
   ]
  },
  {
   "cell_type": "code",
   "execution_count": 64,
   "metadata": {},
   "outputs": [],
   "source": [
    "model3 = sm.ols(formula='dep_delay ~ precip', data=flights_weather).fit()"
   ]
  },
  {
   "cell_type": "code",
   "execution_count": 65,
   "metadata": {},
   "outputs": [
    {
     "name": "stdout",
     "output_type": "stream",
     "text": [
      "The regression coefficients for the dep_delay and precip model are: \n",
      " Intercept     13.865579\n",
      "precip       447.586244\n",
      "dtype: float64\n"
     ]
    }
   ],
   "source": [
    "print(\"The regression coefficients for the dep_delay and precip model are: \\n\", model3.params)"
   ]
  },
  {
   "cell_type": "code",
   "execution_count": 66,
   "metadata": {},
   "outputs": [],
   "source": [
    "model4 = sm.ols(formula='dep_delay ~ wind_speed', data=flights_weather).fit()"
   ]
  },
  {
   "cell_type": "code",
   "execution_count": 67,
   "metadata": {},
   "outputs": [
    {
     "name": "stdout",
     "output_type": "stream",
     "text": [
      "The regression coefficients for the dep_delay and wind_speed model are: \n",
      " Intercept     14.876774\n",
      "wind_speed     0.033627\n",
      "dtype: float64\n"
     ]
    }
   ],
   "source": [
    "print(\"The regression coefficients for the dep_delay and wind_speed model are: \\n\", model4.params)"
   ]
  },
  {
   "cell_type": "code",
   "execution_count": 68,
   "metadata": {},
   "outputs": [],
   "source": [
    "model5 = sm.ols(formula='dep_delay ~ pressure', data=flights_weather).fit()"
   ]
  },
  {
   "cell_type": "code",
   "execution_count": 69,
   "metadata": {},
   "outputs": [
    {
     "name": "stdout",
     "output_type": "stream",
     "text": [
      "The regression coefficients for the dep_delay and pressure model are: \n",
      " Intercept    520.109715\n",
      "pressure      -0.496313\n",
      "dtype: float64\n"
     ]
    }
   ],
   "source": [
    "print(\"The regression coefficients for the dep_delay and pressure model are: \\n\", model5.params)"
   ]
  },
  {
   "cell_type": "code",
   "execution_count": 70,
   "metadata": {},
   "outputs": [],
   "source": [
    "model6 = sm.ols(formula='dep_delay ~ humid', data=flights_weather).fit()"
   ]
  },
  {
   "cell_type": "code",
   "execution_count": 71,
   "metadata": {},
   "outputs": [
    {
     "name": "stdout",
     "output_type": "stream",
     "text": [
      "The regression coefficients for the dep_delay and humid model are: \n",
      " Intercept   -9.157928\n",
      "humid        0.387205\n",
      "dtype: float64\n"
     ]
    }
   ],
   "source": [
    "print(\"The regression coefficients for the dep_delay and humid model are: \\n\", model6.params)"
   ]
  },
  {
   "cell_type": "markdown",
   "metadata": {},
   "source": [
    "_Regression tests with departure delay with the various parameters did not affect much except for visibility and precipitation._\n",
    "\n",
    "_With 1 unit increase in departure delay, visibility decreases by 3 units approximately_\n",
    "\n",
    "_With 1 unit increase in departure delay, precipitation increases by 447 units approximately_\n",
    "\n",
    "_Now, let's see on a multiple regression model_"
   ]
  },
  {
   "cell_type": "code",
   "execution_count": 72,
   "metadata": {},
   "outputs": [],
   "source": [
    "#Multiple model\n",
    "multi_model = sm.ols(formula='dep_delay ~ temp + visib + precip', data=flights_weather).fit()"
   ]
  },
  {
   "cell_type": "code",
   "execution_count": 73,
   "metadata": {},
   "outputs": [
    {
     "name": "stdout",
     "output_type": "stream",
     "text": [
      "\n",
      "\n",
      "The regression coefficients for the dep_delay ~ temp + visib + precip are:\n",
      "\n",
      " Intercept     36.117530\n",
      "temp           0.102051\n",
      "visib         -2.959869\n",
      "precip       222.955995\n",
      "dtype: float64\n"
     ]
    }
   ],
   "source": [
    "print(\"\\n\\nThe regression coefficients for the dep_delay ~ temp + visib + precip are:\\n\\n\", multi_model.params)"
   ]
  },
  {
   "cell_type": "markdown",
   "metadata": {},
   "source": [
    "    \n",
    "_Interpretation: dep_delay ~ temp + visib + precip_\n",
    "\n",
    "_Holding precipitation and visibility constant, for every 1 unit increase in temperature leads to an increase in departure delay decreases by 0.10 unit._\n",
    "    \n",
    "_Holding temperature and precipitation constant, for every 1 unit increase in visibility leads to a decrase in departure delays by -2.95 units._\n",
    "\n",
    "_For every 1 unit increase in precipitation, the departure delay increases drastically by 222.95 mins, holding other two parameters constant._"
   ]
  },
  {
   "cell_type": "code",
   "execution_count": null,
   "metadata": {},
   "outputs": [],
   "source": []
  }
 ],
 "metadata": {
  "kernelspec": {
   "display_name": "Python 3",
   "language": "python",
   "name": "python3"
  },
  "language_info": {
   "codemirror_mode": {
    "name": "ipython",
    "version": 3
   },
   "file_extension": ".py",
   "mimetype": "text/x-python",
   "name": "python",
   "nbconvert_exporter": "python",
   "pygments_lexer": "ipython3",
   "version": "3.7.3"
  },
  "name": "ps01-pandas.ipynb"
 },
 "nbformat": 4,
 "nbformat_minor": 2
}
