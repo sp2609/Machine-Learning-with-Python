{
 "cells": [
  {
   "cell_type": "code",
   "execution_count": 210,
   "metadata": {},
   "outputs": [],
   "source": [
    "#Loading libraries\n",
    "import pandas as pd\n",
    "import random\n",
    "from sklearn.feature_extraction.text import CountVectorizer\n",
    "from sklearn.model_selection import train_test_split\n",
    "from sklearn.naive_bayes import MultinomialNB\n",
    "from sklearn.metrics import accuracy_score, confusion_matrix, classification_report, mean_absolute_error, mean_squared_error\n",
    "from sklearn.model_selection import GridSearchCV\n",
    "from sklearn.model_selection import RandomizedSearchCV\n",
    "from sklearn.ensemble import RandomForestClassifier\n",
    "from sklearn.tree import DecisionTreeClassifier\n",
    "from sklearn.linear_model import LinearRegression\n",
    "from sklearn.svm import SVC \n",
    "import matplotlib.pyplot as plt\n",
    "from sklearn.linear_model import LogisticRegression\n",
    "import statsmodels.formula.api as smf\n",
    "import seaborn as sns\n",
    "%matplotlib inline"
   ]
  },
  {
   "cell_type": "markdown",
   "metadata": {},
   "source": [
    "# Q1: Causal effect estimation\n"
   ]
  },
  {
   "cell_type": "markdown",
   "metadata": {},
   "source": [
    "__Q 1.1: Load EITC data__"
   ]
  },
  {
   "cell_type": "code",
   "execution_count": 239,
   "metadata": {},
   "outputs": [
    {
     "name": "stdout",
     "output_type": "stream",
     "text": [
      "(13746, 9)\n"
     ]
    },
    {
     "data": {
      "text/html": [
       "<div>\n",
       "<style scoped>\n",
       "    .dataframe tbody tr th:only-of-type {\n",
       "        vertical-align: middle;\n",
       "    }\n",
       "\n",
       "    .dataframe tbody tr th {\n",
       "        vertical-align: top;\n",
       "    }\n",
       "\n",
       "    .dataframe thead th {\n",
       "        text-align: right;\n",
       "    }\n",
       "</style>\n",
       "<table border=\"1\" class=\"dataframe\">\n",
       "  <thead>\n",
       "    <tr style=\"text-align: right;\">\n",
       "      <th></th>\n",
       "      <th>year</th>\n",
       "      <th>urate</th>\n",
       "      <th>children</th>\n",
       "      <th>nonwhite</th>\n",
       "      <th>finc</th>\n",
       "      <th>earn</th>\n",
       "      <th>age</th>\n",
       "      <th>ed</th>\n",
       "      <th>work</th>\n",
       "    </tr>\n",
       "  </thead>\n",
       "  <tbody>\n",
       "    <tr>\n",
       "      <th>0</th>\n",
       "      <td>1991</td>\n",
       "      <td>7.6</td>\n",
       "      <td>0</td>\n",
       "      <td>1</td>\n",
       "      <td>18714.394273</td>\n",
       "      <td>18714.394273</td>\n",
       "      <td>26</td>\n",
       "      <td>10</td>\n",
       "      <td>1</td>\n",
       "    </tr>\n",
       "    <tr>\n",
       "      <th>1</th>\n",
       "      <td>1991</td>\n",
       "      <td>7.2</td>\n",
       "      <td>1</td>\n",
       "      <td>0</td>\n",
       "      <td>4838.568282</td>\n",
       "      <td>471.365639</td>\n",
       "      <td>22</td>\n",
       "      <td>9</td>\n",
       "      <td>1</td>\n",
       "    </tr>\n",
       "    <tr>\n",
       "      <th>2</th>\n",
       "      <td>1991</td>\n",
       "      <td>6.4</td>\n",
       "      <td>2</td>\n",
       "      <td>0</td>\n",
       "      <td>8178.193833</td>\n",
       "      <td>0.000000</td>\n",
       "      <td>33</td>\n",
       "      <td>11</td>\n",
       "      <td>0</td>\n",
       "    </tr>\n",
       "    <tr>\n",
       "      <th>3</th>\n",
       "      <td>1991</td>\n",
       "      <td>9.1</td>\n",
       "      <td>0</td>\n",
       "      <td>1</td>\n",
       "      <td>9369.570485</td>\n",
       "      <td>0.000000</td>\n",
       "      <td>43</td>\n",
       "      <td>11</td>\n",
       "      <td>0</td>\n",
       "    </tr>\n",
       "    <tr>\n",
       "      <th>4</th>\n",
       "      <td>1991</td>\n",
       "      <td>8.6</td>\n",
       "      <td>3</td>\n",
       "      <td>1</td>\n",
       "      <td>14706.607930</td>\n",
       "      <td>14706.607930</td>\n",
       "      <td>23</td>\n",
       "      <td>7</td>\n",
       "      <td>1</td>\n",
       "    </tr>\n",
       "  </tbody>\n",
       "</table>\n",
       "</div>"
      ],
      "text/plain": [
       "   year  urate  children  nonwhite          finc          earn  age  ed  work\n",
       "0  1991    7.6         0         1  18714.394273  18714.394273   26  10     1\n",
       "1  1991    7.2         1         0   4838.568282    471.365639   22   9     1\n",
       "2  1991    6.4         2         0   8178.193833      0.000000   33  11     0\n",
       "3  1991    9.1         0         1   9369.570485      0.000000   43  11     0\n",
       "4  1991    8.6         3         1  14706.607930  14706.607930   23   7     1"
      ]
     },
     "execution_count": 239,
     "metadata": {},
     "output_type": "execute_result"
    }
   ],
   "source": [
    "#Loading data Load the data\n",
    "eitc = pd.read_csv(\"eitc.csv.bz2\", sep=\"\\t\")\n",
    "\n",
    "#Validating the data\n",
    "print(eitc.shape)\n",
    "\n",
    "#Checking the head\n",
    "eitc.head()"
   ]
  },
  {
   "cell_type": "code",
   "execution_count": 240,
   "metadata": {},
   "outputs": [
    {
     "name": "stdout",
     "output_type": "stream",
     "text": [
      "year          int64\n",
      "urate       float64\n",
      "children      int64\n",
      "nonwhite      int64\n",
      "finc        float64\n",
      "earn        float64\n",
      "age           int64\n",
      "ed            int64\n",
      "work          int64\n",
      "dtype: object\n"
     ]
    },
    {
     "data": {
      "text/plain": [
       "year        0\n",
       "urate       0\n",
       "children    0\n",
       "nonwhite    0\n",
       "finc        0\n",
       "earn        0\n",
       "age         0\n",
       "ed          0\n",
       "work        0\n",
       "dtype: int64"
      ]
     },
     "execution_count": 240,
     "metadata": {},
     "output_type": "execute_result"
    }
   ],
   "source": [
    "#Checking data types\n",
    "print(eitc.dtypes)\n",
    "\n",
    "#Checking the null values of each column\n",
    "eitc.isnull().sum()"
   ]
  },
  {
   "cell_type": "markdown",
   "metadata": {},
   "source": [
    "__Q 1.2: First, let's do some graphical exploration.__"
   ]
  },
  {
   "cell_type": "code",
   "execution_count": 241,
   "metadata": {},
   "outputs": [
    {
     "data": {
      "text/html": [
       "<div>\n",
       "<style scoped>\n",
       "    .dataframe tbody tr th:only-of-type {\n",
       "        vertical-align: middle;\n",
       "    }\n",
       "\n",
       "    .dataframe tbody tr th {\n",
       "        vertical-align: top;\n",
       "    }\n",
       "\n",
       "    .dataframe thead th {\n",
       "        text-align: right;\n",
       "    }\n",
       "</style>\n",
       "<table border=\"1\" class=\"dataframe\">\n",
       "  <thead>\n",
       "    <tr style=\"text-align: right;\">\n",
       "      <th></th>\n",
       "      <th>year</th>\n",
       "      <th>children</th>\n",
       "      <th>work</th>\n",
       "    </tr>\n",
       "  </thead>\n",
       "  <tbody>\n",
       "    <tr>\n",
       "      <th>0</th>\n",
       "      <td>1991</td>\n",
       "      <td>0</td>\n",
       "      <td>1</td>\n",
       "    </tr>\n",
       "    <tr>\n",
       "      <th>1</th>\n",
       "      <td>1991</td>\n",
       "      <td>1</td>\n",
       "      <td>1</td>\n",
       "    </tr>\n",
       "    <tr>\n",
       "      <th>2</th>\n",
       "      <td>1991</td>\n",
       "      <td>2</td>\n",
       "      <td>0</td>\n",
       "    </tr>\n",
       "    <tr>\n",
       "      <th>3</th>\n",
       "      <td>1991</td>\n",
       "      <td>0</td>\n",
       "      <td>0</td>\n",
       "    </tr>\n",
       "    <tr>\n",
       "      <th>4</th>\n",
       "      <td>1991</td>\n",
       "      <td>3</td>\n",
       "      <td>1</td>\n",
       "    </tr>\n",
       "  </tbody>\n",
       "</table>\n",
       "</div>"
      ],
      "text/plain": [
       "   year  children  work\n",
       "0  1991         0     1\n",
       "1  1991         1     1\n",
       "2  1991         2     0\n",
       "3  1991         0     0\n",
       "4  1991         3     1"
      ]
     },
     "execution_count": 241,
     "metadata": {},
     "output_type": "execute_result"
    }
   ],
   "source": [
    "#Getting necessary columns \n",
    "eitc1 = pd.DataFrame(eitc[['year', 'children', 'work']])\n",
    "\n",
    "#Validating\n",
    "eitc1.head()"
   ]
  },
  {
   "cell_type": "code",
   "execution_count": 242,
   "metadata": {},
   "outputs": [
    {
     "data": {
      "text/html": [
       "<div>\n",
       "<style scoped>\n",
       "    .dataframe tbody tr th:only-of-type {\n",
       "        vertical-align: middle;\n",
       "    }\n",
       "\n",
       "    .dataframe tbody tr th {\n",
       "        vertical-align: top;\n",
       "    }\n",
       "\n",
       "    .dataframe thead th {\n",
       "        text-align: right;\n",
       "    }\n",
       "</style>\n",
       "<table border=\"1\" class=\"dataframe\">\n",
       "  <thead>\n",
       "    <tr style=\"text-align: right;\">\n",
       "      <th></th>\n",
       "      <th>year</th>\n",
       "      <th>children</th>\n",
       "      <th>work</th>\n",
       "    </tr>\n",
       "  </thead>\n",
       "  <tbody>\n",
       "    <tr>\n",
       "      <th>0</th>\n",
       "      <td>1991</td>\n",
       "      <td>0</td>\n",
       "      <td>1</td>\n",
       "    </tr>\n",
       "    <tr>\n",
       "      <th>1</th>\n",
       "      <td>1991</td>\n",
       "      <td>1</td>\n",
       "      <td>1</td>\n",
       "    </tr>\n",
       "    <tr>\n",
       "      <th>2</th>\n",
       "      <td>1991</td>\n",
       "      <td>2</td>\n",
       "      <td>0</td>\n",
       "    </tr>\n",
       "    <tr>\n",
       "      <th>3</th>\n",
       "      <td>1991</td>\n",
       "      <td>0</td>\n",
       "      <td>0</td>\n",
       "    </tr>\n",
       "    <tr>\n",
       "      <th>4</th>\n",
       "      <td>1991</td>\n",
       "      <td>2</td>\n",
       "      <td>1</td>\n",
       "    </tr>\n",
       "  </tbody>\n",
       "</table>\n",
       "</div>"
      ],
      "text/plain": [
       "   year  children  work\n",
       "0  1991         0     1\n",
       "1  1991         1     1\n",
       "2  1991         2     0\n",
       "3  1991         0     0\n",
       "4  1991         2     1"
      ]
     },
     "execution_count": 242,
     "metadata": {},
     "output_type": "execute_result"
    }
   ],
   "source": [
    "#Making three groups of children, 2, 1, 0. 0 and 1 remain as it is \n",
    "eitc1['children'] = np.where(eitc1['children'] > 1, 2, eitc1['children'])\n",
    "\n",
    "#Validating\n",
    "eitc1.head()"
   ]
  },
  {
   "cell_type": "code",
   "execution_count": 243,
   "metadata": {},
   "outputs": [
    {
     "data": {
      "text/plain": [
       "<matplotlib.axes._subplots.AxesSubplot at 0x2663339f940>"
      ]
     },
     "execution_count": 243,
     "metadata": {},
     "output_type": "execute_result"
    },
    {
     "data": {
      "image/png": "[encoded data removed]",
      "text/plain": [
       "<Figure size 720x720 with 1 Axes>"
      ]
     },
     "metadata": {
      "needs_background": "light"
     },
     "output_type": "display_data"
    }
   ],
   "source": [
    "#Grouped object\n",
    "grouped = pd.DataFrame(eitc1.groupby(['children', 'year'], as_index=False).mean())\n",
    "\n",
    "#Plotting work against year\n",
    "plt.figure(figsize=(10,10))\n",
    "sns.barplot(x=\"year\", y=\"work\", hue='children', data=grouped, color='r')"
   ]
  },
  {
   "cell_type": "markdown",
   "metadata": {},
   "source": [
    "__Q 1.3: Which families constitute a valid treatment group for the reform of 1993? Which years are\n",
    "valid before-years and which years are valid after years?__"
   ]
  },
  {
   "cell_type": "code",
   "execution_count": 244,
   "metadata": {},
   "outputs": [
    {
     "name": "stdout",
     "output_type": "stream",
     "text": [
      "[1991 1992 1993 1994 1995 1996]\n"
     ]
    },
    {
     "data": {
      "text/html": [
       "<div>\n",
       "<style scoped>\n",
       "    .dataframe tbody tr th:only-of-type {\n",
       "        vertical-align: middle;\n",
       "    }\n",
       "\n",
       "    .dataframe tbody tr th {\n",
       "        vertical-align: top;\n",
       "    }\n",
       "\n",
       "    .dataframe thead th {\n",
       "        text-align: right;\n",
       "    }\n",
       "</style>\n",
       "<table border=\"1\" class=\"dataframe\">\n",
       "  <thead>\n",
       "    <tr style=\"text-align: right;\">\n",
       "      <th></th>\n",
       "      <th>year</th>\n",
       "      <th>urate</th>\n",
       "      <th>children</th>\n",
       "      <th>nonwhite</th>\n",
       "      <th>finc</th>\n",
       "      <th>earn</th>\n",
       "      <th>age</th>\n",
       "      <th>ed</th>\n",
       "      <th>work</th>\n",
       "      <th>treatment</th>\n",
       "    </tr>\n",
       "  </thead>\n",
       "  <tbody>\n",
       "    <tr>\n",
       "      <th>0</th>\n",
       "      <td>1991</td>\n",
       "      <td>7.6</td>\n",
       "      <td>0</td>\n",
       "      <td>1</td>\n",
       "      <td>18714.394273</td>\n",
       "      <td>18714.394273</td>\n",
       "      <td>26</td>\n",
       "      <td>10</td>\n",
       "      <td>1</td>\n",
       "      <td>0</td>\n",
       "    </tr>\n",
       "    <tr>\n",
       "      <th>1</th>\n",
       "      <td>1991</td>\n",
       "      <td>7.2</td>\n",
       "      <td>1</td>\n",
       "      <td>0</td>\n",
       "      <td>4838.568282</td>\n",
       "      <td>471.365639</td>\n",
       "      <td>22</td>\n",
       "      <td>9</td>\n",
       "      <td>1</td>\n",
       "      <td>1</td>\n",
       "    </tr>\n",
       "    <tr>\n",
       "      <th>2</th>\n",
       "      <td>1991</td>\n",
       "      <td>6.4</td>\n",
       "      <td>2</td>\n",
       "      <td>0</td>\n",
       "      <td>8178.193833</td>\n",
       "      <td>0.000000</td>\n",
       "      <td>33</td>\n",
       "      <td>11</td>\n",
       "      <td>0</td>\n",
       "      <td>1</td>\n",
       "    </tr>\n",
       "    <tr>\n",
       "      <th>3</th>\n",
       "      <td>1991</td>\n",
       "      <td>9.1</td>\n",
       "      <td>0</td>\n",
       "      <td>1</td>\n",
       "      <td>9369.570485</td>\n",
       "      <td>0.000000</td>\n",
       "      <td>43</td>\n",
       "      <td>11</td>\n",
       "      <td>0</td>\n",
       "      <td>0</td>\n",
       "    </tr>\n",
       "    <tr>\n",
       "      <th>4</th>\n",
       "      <td>1991</td>\n",
       "      <td>8.6</td>\n",
       "      <td>3</td>\n",
       "      <td>1</td>\n",
       "      <td>14706.607930</td>\n",
       "      <td>14706.607930</td>\n",
       "      <td>23</td>\n",
       "      <td>7</td>\n",
       "      <td>1</td>\n",
       "      <td>1</td>\n",
       "    </tr>\n",
       "  </tbody>\n",
       "</table>\n",
       "</div>"
      ],
      "text/plain": [
       "   year  urate  children  nonwhite          finc          earn  age  ed  work  \\\n",
       "0  1991    7.6         0         1  18714.394273  18714.394273   26  10     1   \n",
       "1  1991    7.2         1         0   4838.568282    471.365639   22   9     1   \n",
       "2  1991    6.4         2         0   8178.193833      0.000000   33  11     0   \n",
       "3  1991    9.1         0         1   9369.570485      0.000000   43  11     0   \n",
       "4  1991    8.6         3         1  14706.607930  14706.607930   23   7     1   \n",
       "\n",
       "   treatment  \n",
       "0          0  \n",
       "1          1  \n",
       "2          1  \n",
       "3          0  \n",
       "4          1  "
      ]
     },
     "execution_count": 244,
     "metadata": {},
     "output_type": "execute_result"
    }
   ],
   "source": [
    "#Making treatment and control groups. 1: treatment group, 0:control group\n",
    "eitc['treatment'] = np.where(eitc['children'] > 0, 1, 0)\n",
    "\n",
    "#Unique years\n",
    "print(eitc['year'].unique())\n",
    "\n",
    "#Validating\n",
    "eitc.head()"
   ]
  },
  {
   "cell_type": "markdown",
   "metadata": {},
   "source": [
    "From the data we can see that a valid treatment group are families having children. The before years are everything before 1993 since the reform took place in 1993. \n",
    "Therefore, before years are specificallt 1991, 1992, 1993 and the rest are after years.\n",
    "\n",
    "From the table above, I can see that the families having children are considered as 'treatment' group and those not having children are considered as 'control' group."
   ]
  },
  {
   "cell_type": "markdown",
   "metadata": {},
   "source": [
    "__Q 1.4: Select the correct subsample (correct years, correct number of children).__"
   ]
  },
  {
   "cell_type": "code",
   "execution_count": 245,
   "metadata": {},
   "outputs": [
    {
     "data": {
      "text/html": [
       "<div>\n",
       "<style scoped>\n",
       "    .dataframe tbody tr th:only-of-type {\n",
       "        vertical-align: middle;\n",
       "    }\n",
       "\n",
       "    .dataframe tbody tr th {\n",
       "        vertical-align: top;\n",
       "    }\n",
       "\n",
       "    .dataframe thead th {\n",
       "        text-align: right;\n",
       "    }\n",
       "</style>\n",
       "<table border=\"1\" class=\"dataframe\">\n",
       "  <thead>\n",
       "    <tr style=\"text-align: right;\">\n",
       "      <th></th>\n",
       "      <th>year</th>\n",
       "      <th>urate</th>\n",
       "      <th>children</th>\n",
       "      <th>nonwhite</th>\n",
       "      <th>finc</th>\n",
       "      <th>earn</th>\n",
       "      <th>age</th>\n",
       "      <th>ed</th>\n",
       "      <th>work</th>\n",
       "      <th>treatment</th>\n",
       "      <th>after_years</th>\n",
       "    </tr>\n",
       "  </thead>\n",
       "  <tbody>\n",
       "    <tr>\n",
       "      <th>0</th>\n",
       "      <td>1991</td>\n",
       "      <td>7.6</td>\n",
       "      <td>0</td>\n",
       "      <td>1</td>\n",
       "      <td>18714.394273</td>\n",
       "      <td>18714.394273</td>\n",
       "      <td>26</td>\n",
       "      <td>10</td>\n",
       "      <td>1</td>\n",
       "      <td>0</td>\n",
       "      <td>0</td>\n",
       "    </tr>\n",
       "    <tr>\n",
       "      <th>1</th>\n",
       "      <td>1991</td>\n",
       "      <td>7.2</td>\n",
       "      <td>1</td>\n",
       "      <td>0</td>\n",
       "      <td>4838.568282</td>\n",
       "      <td>471.365639</td>\n",
       "      <td>22</td>\n",
       "      <td>9</td>\n",
       "      <td>1</td>\n",
       "      <td>1</td>\n",
       "      <td>0</td>\n",
       "    </tr>\n",
       "    <tr>\n",
       "      <th>2</th>\n",
       "      <td>1991</td>\n",
       "      <td>6.4</td>\n",
       "      <td>2</td>\n",
       "      <td>0</td>\n",
       "      <td>8178.193833</td>\n",
       "      <td>0.000000</td>\n",
       "      <td>33</td>\n",
       "      <td>11</td>\n",
       "      <td>0</td>\n",
       "      <td>1</td>\n",
       "      <td>0</td>\n",
       "    </tr>\n",
       "    <tr>\n",
       "      <th>3</th>\n",
       "      <td>1991</td>\n",
       "      <td>9.1</td>\n",
       "      <td>0</td>\n",
       "      <td>1</td>\n",
       "      <td>9369.570485</td>\n",
       "      <td>0.000000</td>\n",
       "      <td>43</td>\n",
       "      <td>11</td>\n",
       "      <td>0</td>\n",
       "      <td>0</td>\n",
       "      <td>0</td>\n",
       "    </tr>\n",
       "    <tr>\n",
       "      <th>4</th>\n",
       "      <td>1991</td>\n",
       "      <td>8.6</td>\n",
       "      <td>3</td>\n",
       "      <td>1</td>\n",
       "      <td>14706.607930</td>\n",
       "      <td>14706.607930</td>\n",
       "      <td>23</td>\n",
       "      <td>7</td>\n",
       "      <td>1</td>\n",
       "      <td>1</td>\n",
       "      <td>0</td>\n",
       "    </tr>\n",
       "  </tbody>\n",
       "</table>\n",
       "</div>"
      ],
      "text/plain": [
       "   year  urate  children  nonwhite          finc          earn  age  ed  work  \\\n",
       "0  1991    7.6         0         1  18714.394273  18714.394273   26  10     1   \n",
       "1  1991    7.2         1         0   4838.568282    471.365639   22   9     1   \n",
       "2  1991    6.4         2         0   8178.193833      0.000000   33  11     0   \n",
       "3  1991    9.1         0         1   9369.570485      0.000000   43  11     0   \n",
       "4  1991    8.6         3         1  14706.607930  14706.607930   23   7     1   \n",
       "\n",
       "   treatment  after_years  \n",
       "0          0            0  \n",
       "1          1            0  \n",
       "2          1            0  \n",
       "3          0            0  \n",
       "4          1            0  "
      ]
     },
     "execution_count": 245,
     "metadata": {},
     "output_type": "execute_result"
    }
   ],
   "source": [
    "#Making an after year variable\n",
    "eitc['after_years'] = np.where(eitc['year'] > 1993, 1, 0)\n",
    "\n",
    "#Validating\n",
    "eitc.head()"
   ]
  },
  {
   "cell_type": "markdown",
   "metadata": {},
   "source": [
    "__Q 1.5: Estimate the effect using DiD. Do this using linear regression.__"
   ]
  },
  {
   "cell_type": "code",
   "execution_count": 246,
   "metadata": {},
   "outputs": [
    {
     "name": "stdout",
     "output_type": "stream",
     "text": [
      "                            OLS Regression Results                            \n",
      "==============================================================================\n",
      "Dep. Variable:                   work   R-squared:                       0.013\n",
      "Model:                            OLS   Adj. R-squared:                  0.012\n",
      "Method:                 Least Squares   F-statistic:                     58.45\n",
      "Date:                Mon, 16 Mar 2020   Prob (F-statistic):           1.54e-37\n",
      "Time:                        23:39:36   Log-Likelihood:                -9884.9\n",
      "No. Observations:               13746   AIC:                         1.978e+04\n",
      "Df Residuals:                   13742   BIC:                         1.981e+04\n",
      "Df Model:                           3                                         \n",
      "Covariance Type:            nonrobust                                         \n",
      "=========================================================================================\n",
      "                            coef    std err          t      P>|t|      [0.025      0.975]\n",
      "-----------------------------------------------------------------------------------------\n",
      "Intercept                 0.5755      0.009     65.060      0.000       0.558       0.593\n",
      "treatment                -0.1295      0.012    -11.091      0.000      -0.152      -0.107\n",
      "after_years              -0.0021      0.013     -0.160      0.873      -0.027       0.023\n",
      "treatment:after_years     0.0469      0.017      2.732      0.006       0.013       0.081\n",
      "==============================================================================\n",
      "Omnibus:                    48666.260   Durbin-Watson:                   1.978\n",
      "Prob(Omnibus):                  0.000   Jarque-Bera (JB):             2175.929\n",
      "Skew:                          -0.051   Prob(JB):                         0.00\n",
      "Kurtosis:                       1.054   Cond. No.                         7.14\n",
      "==============================================================================\n",
      "\n",
      "Warnings:\n",
      "[1] Standard Errors assume that the covariance matrix of the errors is correctly specified.\n"
     ]
    }
   ],
   "source": [
    "#Linear Regression\n",
    "m = smf.ols(formula = 'work ~ treatment * after_years', data=eitc)\n",
    "print(m.fit().summary())"
   ]
  },
  {
   "cell_type": "markdown",
   "metadata": {},
   "source": [
    "__Q 1.6: Comment on your results:__"
   ]
  },
  {
   "cell_type": "markdown",
   "metadata": {},
   "source": [
    "a) From the above results we can see that the growth of EITC increased working by 0.0469 of the affected families.\n",
    "\n",
    "b) The p-value of the model is 0.006 which is lesser than 0.05, which shows that the model is statistically significant."
   ]
  },
  {
   "cell_type": "markdown",
   "metadata": {},
   "source": [
    "__Q 1.7: Comment on the counterfactual assumption here:__"
   ]
  },
  {
   "cell_type": "markdown",
   "metadata": {},
   "source": [
    "a) The counter factual assumption here is that the trends for the 'treatment' and 'control' groups would have been same in the abscence of the reform of EITC. EITC would not make a difference.\n",
    "\n",
    "b) I do not find it convincing as there could be other differences in the 'treatment' and 'control' groups which might have affected differently over time."
   ]
  },
  {
   "cell_type": "markdown",
   "metadata": {},
   "source": [
    "__Q 1.8: What do you think about this setup: should we include covariates?__"
   ]
  },
  {
   "cell_type": "markdown",
   "metadata": {},
   "source": [
    "We should add covariates to the model because we can test the effect of the working better. Including education of women will be a good variation since the research paper has mentioned that EITC also depends on the womens' education level.\n",
    "The marginal tax rates defer as per the education level of women.\n",
    "\n",
    "Let's add covariates like education, age, nonwhite and check our result."
   ]
  },
  {
   "cell_type": "markdown",
   "metadata": {},
   "source": [
    "__Q 1.9: Include all relevant covariates you have in the data and re-estimate your model. What do you find?__"
   ]
  },
  {
   "cell_type": "code",
   "execution_count": 247,
   "metadata": {},
   "outputs": [
    {
     "name": "stdout",
     "output_type": "stream",
     "text": [
      "                            OLS Regression Results                            \n",
      "==============================================================================\n",
      "Dep. Variable:                   work   R-squared:                       0.195\n",
      "Model:                            OLS   Adj. R-squared:                  0.194\n",
      "Method:                 Least Squares   F-statistic:                     369.3\n",
      "Date:                Mon, 16 Mar 2020   Prob (F-statistic):               0.00\n",
      "Time:                        23:39:40   Log-Likelihood:                -8482.8\n",
      "No. Observations:               13746   AIC:                         1.699e+04\n",
      "Df Residuals:                   13736   BIC:                         1.706e+04\n",
      "Df Model:                           9                                         \n",
      "Covariance Type:            nonrobust                                         \n",
      "=========================================================================================\n",
      "                            coef    std err          t      P>|t|      [0.025      0.975]\n",
      "-----------------------------------------------------------------------------------------\n",
      "Intercept                 0.4542      0.032     13.996      0.000       0.391       0.518\n",
      "treatment                -0.0535      0.011     -4.889      0.000      -0.075      -0.032\n",
      "after_years              -0.0253      0.012     -2.054      0.040      -0.049      -0.001\n",
      "treatment:after_years     0.0401      0.016      2.588      0.010       0.010       0.071\n",
      "ed                        0.0131      0.001      8.796      0.000       0.010       0.016\n",
      "age                       0.0027      0.000      6.878      0.000       0.002       0.004\n",
      "nonwhite                 -0.0533      0.008     -6.486      0.000      -0.069      -0.037\n",
      "urate                    -0.0144      0.003     -4.787      0.000      -0.020      -0.009\n",
      "finc                  -1.768e-05   5.42e-07    -32.594      0.000   -1.87e-05   -1.66e-05\n",
      "earn                   2.659e-05   5.79e-07     45.905      0.000    2.55e-05    2.77e-05\n",
      "==============================================================================\n",
      "Omnibus:                       49.288   Durbin-Watson:                   1.991\n",
      "Prob(Omnibus):                  0.000   Jarque-Bera (JB):               49.765\n",
      "Skew:                          -0.146   Prob(JB):                     1.56e-11\n",
      "Kurtosis:                       2.959   Cond. No.                     2.77e+05\n",
      "==============================================================================\n",
      "\n",
      "Warnings:\n",
      "[1] Standard Errors assume that the covariance matrix of the errors is correctly specified.\n",
      "[2] The condition number is large, 2.77e+05. This might indicate that there are\n",
      "strong multicollinearity or other numerical problems.\n"
     ]
    }
   ],
   "source": [
    "#Multiple Regression\n",
    "m1 = smf.ols(formula = 'work ~ treatment * after_years + ed+ age + nonwhite + urate + finc + earn', data=eitc)\n",
    "print(m1.fit().summary())"
   ]
  },
  {
   "cell_type": "markdown",
   "metadata": {},
   "source": [
    "From the above results we can see that the effect of treatment and after years has decreased after adding the covariates. It's now increasing the working by 0.0401 as compared to 0.0469 in the linear regression.\n",
    "\n",
    "The effect of working has:\n",
    "Decreased by 0.0535 for treatment\n",
    "\n",
    "Decreased by 0.0253 for after_years\n",
    "\n",
    "Increased by 0.0401 for treatment and after years\n",
    "\n",
    "Increased by 0.0131 for ed\n",
    "\n",
    "Increased by 0.0027 for age\n",
    "\n",
    "Decreased by 0.0533 for nonwhite\n",
    "\n",
    "Decreased by 0.0144 for urate\n",
    "\n",
    "Very small decrease for finc\n",
    "\n",
    "Quite large increase for earn\n",
    "\n",
    "The p-value is still less 0.05, therefore this model is significant as well.\n"
   ]
  },
  {
   "cell_type": "markdown",
   "metadata": {},
   "source": [
    "__Q 1.10: Based on the two estimates, give your final word about the efficacy of EITC reform. Feel free to comment the methodology too.__"
   ]
  },
  {
   "cell_type": "markdown",
   "metadata": {},
   "source": [
    "After evaluating both the estimates, I would like to conclude that the EITC reform in 1993 led to increase in working by the affected families. Therefore, the EITC had a positive effect.\n"
   ]
  },
  {
   "cell_type": "markdown",
   "metadata": {},
   "source": [
    "## Q2: Text Classification"
   ]
  },
  {
   "cell_type": "markdown",
   "metadata": {},
   "source": [
    "__Q 2.1: Load the data__"
   ]
  },
  {
   "cell_type": "code",
   "execution_count": 124,
   "metadata": {},
   "outputs": [],
   "source": [
    "#Loading data\n",
    "amazon = pd.read_csv(\"amazon-reviews.csv.bz2\", sep=\"\\t\")"
   ]
  },
  {
   "cell_type": "code",
   "execution_count": 125,
   "metadata": {},
   "outputs": [
    {
     "data": {
      "text/plain": [
       "(205331, 4)"
      ]
     },
     "execution_count": 125,
     "metadata": {},
     "output_type": "execute_result"
    }
   ],
   "source": [
    "#Validating the data\n",
    "amazon.shape"
   ]
  },
  {
   "cell_type": "code",
   "execution_count": 126,
   "metadata": {},
   "outputs": [
    {
     "data": {
      "text/html": [
       "<div>\n",
       "<style scoped>\n",
       "    .dataframe tbody tr th:only-of-type {\n",
       "        vertical-align: middle;\n",
       "    }\n",
       "\n",
       "    .dataframe tbody tr th {\n",
       "        vertical-align: top;\n",
       "    }\n",
       "\n",
       "    .dataframe thead th {\n",
       "        text-align: right;\n",
       "    }\n",
       "</style>\n",
       "<table border=\"1\" class=\"dataframe\">\n",
       "  <thead>\n",
       "    <tr style=\"text-align: right;\">\n",
       "      <th></th>\n",
       "      <th>date</th>\n",
       "      <th>summary</th>\n",
       "      <th>review</th>\n",
       "      <th>rating</th>\n",
       "    </tr>\n",
       "  </thead>\n",
       "  <tbody>\n",
       "    <tr>\n",
       "      <th>0</th>\n",
       "      <td>2013-07-16</td>\n",
       "      <td>Awesine</td>\n",
       "      <td>Perfect for new parents. We were able to keep ...</td>\n",
       "      <td>5</td>\n",
       "    </tr>\n",
       "    <tr>\n",
       "      <th>1</th>\n",
       "      <td>2013-06-29</td>\n",
       "      <td>Should be required for all new parents!</td>\n",
       "      <td>This book is such a life saver.  It has been s...</td>\n",
       "      <td>5</td>\n",
       "    </tr>\n",
       "    <tr>\n",
       "      <th>2</th>\n",
       "      <td>2014-03-19</td>\n",
       "      <td>Grandmother watching baby</td>\n",
       "      <td>Helps me know exactly how my babies day has go...</td>\n",
       "      <td>5</td>\n",
       "    </tr>\n",
       "    <tr>\n",
       "      <th>3</th>\n",
       "      <td>2013-08-17</td>\n",
       "      <td>repeat buyer</td>\n",
       "      <td>I bought this a few times for my older son and...</td>\n",
       "      <td>5</td>\n",
       "    </tr>\n",
       "    <tr>\n",
       "      <th>4</th>\n",
       "      <td>2014-04-01</td>\n",
       "      <td>Great</td>\n",
       "      <td>I wanted an alternative to printing out daily ...</td>\n",
       "      <td>4</td>\n",
       "    </tr>\n",
       "  </tbody>\n",
       "</table>\n",
       "</div>"
      ],
      "text/plain": [
       "         date                                  summary  \\\n",
       "0  2013-07-16                                  Awesine   \n",
       "1  2013-06-29  Should be required for all new parents!   \n",
       "2  2014-03-19                Grandmother watching baby   \n",
       "3  2013-08-17                             repeat buyer   \n",
       "4  2014-04-01                                    Great   \n",
       "\n",
       "                                              review  rating  \n",
       "0  Perfect for new parents. We were able to keep ...       5  \n",
       "1  This book is such a life saver.  It has been s...       5  \n",
       "2  Helps me know exactly how my babies day has go...       5  \n",
       "3  I bought this a few times for my older son and...       5  \n",
       "4  I wanted an alternative to printing out daily ...       4  "
      ]
     },
     "execution_count": 126,
     "metadata": {},
     "output_type": "execute_result"
    }
   ],
   "source": [
    "#Checking the head\n",
    "amazon.head()"
   ]
  },
  {
   "cell_type": "code",
   "execution_count": 127,
   "metadata": {},
   "outputs": [
    {
     "data": {
      "text/plain": [
       "array([5, 4, 3, 1, 2], dtype=int64)"
      ]
     },
     "execution_count": 127,
     "metadata": {},
     "output_type": "execute_result"
    }
   ],
   "source": [
    "#Unique values of rating\n",
    "amazon['rating'].unique()"
   ]
  },
  {
   "cell_type": "code",
   "execution_count": 128,
   "metadata": {},
   "outputs": [
    {
     "data": {
      "text/plain": [
       "False    205251\n",
       "True         80\n",
       "Name: review, dtype: int64"
      ]
     },
     "execution_count": 128,
     "metadata": {},
     "output_type": "execute_result"
    }
   ],
   "source": [
    "#Value counts of review\n",
    "amazon['review'].isna().value_counts()"
   ]
  },
  {
   "cell_type": "markdown",
   "metadata": {},
   "source": [
    "__Q 2.2: Remove all the missing and empty observations of review and rating.__"
   ]
  },
  {
   "cell_type": "code",
   "execution_count": 129,
   "metadata": {},
   "outputs": [],
   "source": [
    "#Removing duplicates from the original data\n",
    "amazon.drop_duplicates(subset = None, keep = 'first', inplace = True)\n",
    "amazon.drop(data[data['review'].isna()].index, inplace=True)\n",
    "amazon.drop(list(data['review'].filter(regex = '\\\\s+')), axis = 1, inplace = True)\n",
    "amazon.drop(data[data['review'].str.len() == 0].index, axis = 1, inplace = True)"
   ]
  },
  {
   "cell_type": "code",
   "execution_count": 130,
   "metadata": {},
   "outputs": [
    {
     "data": {
      "text/plain": [
       "(195831, 4)"
      ]
     },
     "execution_count": 130,
     "metadata": {},
     "output_type": "execute_result"
    }
   ],
   "source": [
    "#Validating the data\n",
    "amazon.shape"
   ]
  },
  {
   "cell_type": "code",
   "execution_count": 131,
   "metadata": {},
   "outputs": [
    {
     "data": {
      "text/plain": [
       "(1000, 4)"
      ]
     },
     "execution_count": 131,
     "metadata": {},
     "output_type": "execute_result"
    }
   ],
   "source": [
    "#Taking random sample\n",
    "random.seed(100)\n",
    "reviews = amazon.sample(n = 1000) \n",
    "reviews.shape"
   ]
  },
  {
   "cell_type": "markdown",
   "metadata": {},
   "source": [
    "Now our sample data does not have missings as well."
   ]
  },
  {
   "cell_type": "markdown",
   "metadata": {},
   "source": [
    "__Q 2.3: Create your outcome variable: is rating less than 5-stars?__"
   ]
  },
  {
   "cell_type": "code",
   "execution_count": 132,
   "metadata": {},
   "outputs": [
    {
     "name": "stdout",
     "output_type": "stream",
     "text": [
      "(1000,)\n"
     ]
    }
   ],
   "source": [
    "#Creating an outcome varible: 1 if rating is 5 else 0\n",
    "Y = np.where(reviews['rating'] ==5 , 1, 0)\n",
    "print(Y.shape)"
   ]
  },
  {
   "cell_type": "markdown",
   "metadata": {},
   "source": [
    "__Q 2.4: Take a look at some of the reviews__"
   ]
  },
  {
   "cell_type": "code",
   "execution_count": 133,
   "metadata": {},
   "outputs": [
    {
     "data": {
      "text/html": [
       "<div>\n",
       "<style scoped>\n",
       "    .dataframe tbody tr th:only-of-type {\n",
       "        vertical-align: middle;\n",
       "    }\n",
       "\n",
       "    .dataframe tbody tr th {\n",
       "        vertical-align: top;\n",
       "    }\n",
       "\n",
       "    .dataframe thead th {\n",
       "        text-align: right;\n",
       "    }\n",
       "</style>\n",
       "<table border=\"1\" class=\"dataframe\">\n",
       "  <thead>\n",
       "    <tr style=\"text-align: right;\">\n",
       "      <th></th>\n",
       "      <th>date</th>\n",
       "      <th>summary</th>\n",
       "      <th>review</th>\n",
       "      <th>rating</th>\n",
       "    </tr>\n",
       "  </thead>\n",
       "  <tbody>\n",
       "    <tr>\n",
       "      <th>128806</th>\n",
       "      <td>2013-04-09</td>\n",
       "      <td>Makes potty training a little easier.</td>\n",
       "      <td>It must be super comfy because my daughter wil...</td>\n",
       "      <td>5</td>\n",
       "    </tr>\n",
       "    <tr>\n",
       "      <th>72192</th>\n",
       "      <td>2013-01-31</td>\n",
       "      <td>Caddy</td>\n",
       "      <td>Great product, really makes diaper changes for...</td>\n",
       "      <td>5</td>\n",
       "    </tr>\n",
       "    <tr>\n",
       "      <th>106717</th>\n",
       "      <td>2012-08-02</td>\n",
       "      <td>Perfect</td>\n",
       "      <td>I get so many compliments on this item. It's a...</td>\n",
       "      <td>5</td>\n",
       "    </tr>\n",
       "    <tr>\n",
       "      <th>802</th>\n",
       "      <td>2013-11-20</td>\n",
       "      <td>Great little potty seat</td>\n",
       "      <td>I bought this seat because I (bad mommy) forgo...</td>\n",
       "      <td>5</td>\n",
       "    </tr>\n",
       "    <tr>\n",
       "      <th>38260</th>\n",
       "      <td>2011-06-29</td>\n",
       "      <td>Great for on the changing table</td>\n",
       "      <td>For awhile this was hard to find.  Amazon had ...</td>\n",
       "      <td>5</td>\n",
       "    </tr>\n",
       "  </tbody>\n",
       "</table>\n",
       "</div>"
      ],
      "text/plain": [
       "              date                                summary  \\\n",
       "128806  2013-04-09  Makes potty training a little easier.   \n",
       "72192   2013-01-31                                  Caddy   \n",
       "106717  2012-08-02                                Perfect   \n",
       "802     2013-11-20                Great little potty seat   \n",
       "38260   2011-06-29        Great for on the changing table   \n",
       "\n",
       "                                                   review  rating  \n",
       "128806  It must be super comfy because my daughter wil...       5  \n",
       "72192   Great product, really makes diaper changes for...       5  \n",
       "106717  I get so many compliments on this item. It's a...       5  \n",
       "802     I bought this seat because I (bad mommy) forgo...       5  \n",
       "38260   For awhile this was hard to find.  Amazon had ...       5  "
      ]
     },
     "execution_count": 133,
     "metadata": {},
     "output_type": "execute_result"
    }
   ],
   "source": [
    "#Looking at reviews with rating = 5\n",
    "reviews[reviews['rating']==5].head()"
   ]
  },
  {
   "cell_type": "code",
   "execution_count": 134,
   "metadata": {},
   "outputs": [
    {
     "data": {
      "text/html": [
       "<div>\n",
       "<style scoped>\n",
       "    .dataframe tbody tr th:only-of-type {\n",
       "        vertical-align: middle;\n",
       "    }\n",
       "\n",
       "    .dataframe tbody tr th {\n",
       "        vertical-align: top;\n",
       "    }\n",
       "\n",
       "    .dataframe thead th {\n",
       "        text-align: right;\n",
       "    }\n",
       "</style>\n",
       "<table border=\"1\" class=\"dataframe\">\n",
       "  <thead>\n",
       "    <tr style=\"text-align: right;\">\n",
       "      <th></th>\n",
       "      <th>date</th>\n",
       "      <th>summary</th>\n",
       "      <th>review</th>\n",
       "      <th>rating</th>\n",
       "    </tr>\n",
       "  </thead>\n",
       "  <tbody>\n",
       "    <tr>\n",
       "      <th>92028</th>\n",
       "      <td>2012-01-02</td>\n",
       "      <td>Great product design - but there is off-gassing</td>\n",
       "      <td>I really like that this cuts out all wind / ra...</td>\n",
       "      <td>3</td>\n",
       "    </tr>\n",
       "    <tr>\n",
       "      <th>186041</th>\n",
       "      <td>2016-06-21</td>\n",
       "      <td>A lemony powdery fragrance.</td>\n",
       "      <td>Everyone's nose smells scents differently on t...</td>\n",
       "      <td>4</td>\n",
       "    </tr>\n",
       "    <tr>\n",
       "      <th>119200</th>\n",
       "      <td>2013-09-04</td>\n",
       "      <td>It just breaks....</td>\n",
       "      <td>I have owned two sets of this product and both...</td>\n",
       "      <td>1</td>\n",
       "    </tr>\n",
       "    <tr>\n",
       "      <th>456</th>\n",
       "      <td>2014-04-27</td>\n",
       "      <td>ok cover</td>\n",
       "      <td>This cover was alright, the hole does seem a b...</td>\n",
       "      <td>4</td>\n",
       "    </tr>\n",
       "    <tr>\n",
       "      <th>59128</th>\n",
       "      <td>2011-10-08</td>\n",
       "      <td>Functional &amp; Cute</td>\n",
       "      <td>We bought this activity center for my daughter...</td>\n",
       "      <td>4</td>\n",
       "    </tr>\n",
       "  </tbody>\n",
       "</table>\n",
       "</div>"
      ],
      "text/plain": [
       "              date                                          summary  \\\n",
       "92028   2012-01-02  Great product design - but there is off-gassing   \n",
       "186041  2016-06-21                      A lemony powdery fragrance.   \n",
       "119200  2013-09-04                               It just breaks....   \n",
       "456     2014-04-27                                         ok cover   \n",
       "59128   2011-10-08                                Functional & Cute   \n",
       "\n",
       "                                                   review  rating  \n",
       "92028   I really like that this cuts out all wind / ra...       3  \n",
       "186041  Everyone's nose smells scents differently on t...       4  \n",
       "119200  I have owned two sets of this product and both...       1  \n",
       "456     This cover was alright, the hole does seem a b...       4  \n",
       "59128   We bought this activity center for my daughter...       4  "
      ]
     },
     "execution_count": 134,
     "metadata": {},
     "output_type": "execute_result"
    }
   ],
   "source": [
    "#Looking at reviews with rating is not 5\n",
    "reviews[reviews['rating']!=5].head()"
   ]
  },
  {
   "cell_type": "markdown",
   "metadata": {},
   "source": [
    "According to me, it is easy to judge the reviews with rating 5 because these reviews contain positive words like great, loves, easy, sturdy etc. \n",
    "\n",
    "However, as we can see from the above data, I printed out a few rows that do not have the rating 5. Even in some of these reviews, we can see words like gread, worked well etc.\n",
    "\n",
    "Hence, by just looking at these, if it not so easy to tell which reviews are 5 star and which are not. We need to further investigate these reviews using our models."
   ]
  },
  {
   "cell_type": "markdown",
   "metadata": {},
   "source": [
    "__Q 2.5 Convert your reviews into bag-of-words (BOW)__"
   ]
  },
  {
   "cell_type": "code",
   "execution_count": 135,
   "metadata": {},
   "outputs": [
    {
     "name": "stdout",
     "output_type": "stream",
     "text": [
      "Shape of sparse matrix (1000, 6965)\n",
      "6965\n"
     ]
    }
   ],
   "source": [
    "#Vectorizing reviews, using binary\n",
    "vectorizer = CountVectorizer(binary=True, stop_words='english')\n",
    "bow_transformer = vectorizer.fit(reviews['review'])\n",
    "X = bow_transformer.transform(reviews['review'])\n",
    "#Sparse matrix\n",
    "print('Shape of sparse matrix', X.shape)\n",
    "#Vocabulary \n",
    "print(len(bow_transformer.vocabulary_))"
   ]
  },
  {
   "cell_type": "markdown",
   "metadata": {},
   "source": [
    "__Q 2.6 Create a model to predict the outcome__\n",
    "\n",
    "__Here I am going to work with Logistic Regression, Naive Bayes with various alphas, Decision tree, Random forest, Random Forest with Randomized CV, SVM model and predict which one of these fits the best on our data__"
   ]
  },
  {
   "cell_type": "markdown",
   "metadata": {},
   "source": [
    "_Making Training and testing set:_"
   ]
  },
  {
   "cell_type": "code",
   "execution_count": 173,
   "metadata": {},
   "outputs": [],
   "source": [
    "random.seed(200)\n",
    "#Making train and test\n",
    "X_train, X_test, y_train, y_test = train_test_split(X,Y,test_size = 0.20)"
   ]
  },
  {
   "cell_type": "markdown",
   "metadata": {},
   "source": [
    "_Logistic regression model:_"
   ]
  },
  {
   "cell_type": "code",
   "execution_count": 174,
   "metadata": {},
   "outputs": [
    {
     "name": "stdout",
     "output_type": "stream",
     "text": [
      "              precision    recall  f1-score   support\n",
      "\n",
      "           0       0.64      0.57      0.60        77\n",
      "           1       0.75      0.80      0.77       123\n",
      "\n",
      "   micro avg       0.71      0.71      0.71       200\n",
      "   macro avg       0.69      0.68      0.69       200\n",
      "weighted avg       0.71      0.71      0.71       200\n",
      "\n",
      "[[44 33]\n",
      " [25 98]]\n",
      "0.71\n"
     ]
    }
   ],
   "source": [
    "#Decision tree classifier\n",
    "logmodel = LogisticRegression()\n",
    "#Fitting the model\n",
    "logmodel.fit(X_train,y_train)\n",
    "#Predictions\n",
    "predictions = logmodel.predict(X_test)\n",
    "#Classification report\n",
    "print(classification_report(y_test,predictions))\n",
    "#Confusion matrix\n",
    "print(confusion_matrix(y_test,predictions))\n",
    "#Accuracy score\n",
    "print(accuracy_score(y_test,predictions))"
   ]
  },
  {
   "cell_type": "markdown",
   "metadata": {},
   "source": [
    "_Naive bayes with various alphas:_"
   ]
  },
  {
   "cell_type": "code",
   "execution_count": 175,
   "metadata": {},
   "outputs": [
    {
     "name": "stdout",
     "output_type": "stream",
     "text": [
      "Accuracy score: 0.665\n"
     ]
    }
   ],
   "source": [
    "#NB with alpha 0.05\n",
    "nb = MultinomialNB(alpha=0.05) \n",
    "#Fitting the model\n",
    "nb.fit(X_train,y_train)\n",
    "#Predictions\n",
    "pred = nb.predict(X_test)\n",
    "#Accuracy\n",
    "print(\"Accuracy score:\", accuracy_score(pred,y_test))"
   ]
  },
  {
   "cell_type": "code",
   "execution_count": 176,
   "metadata": {},
   "outputs": [
    {
     "name": "stdout",
     "output_type": "stream",
     "text": [
      "Accuracy score: 0.73\n"
     ]
    }
   ],
   "source": [
    "#NB with alpha 1\n",
    "nb = MultinomialNB(alpha=1) \n",
    "#Fitting the model\n",
    "nb.fit(X_train,y_train)\n",
    "#Predictions\n",
    "pred = nb.predict(X_test)\n",
    "#Accuracy\n",
    "print(\"Accuracy score:\", accuracy_score(pred,y_test))"
   ]
  },
  {
   "cell_type": "code",
   "execution_count": 177,
   "metadata": {},
   "outputs": [
    {
     "name": "stdout",
     "output_type": "stream",
     "text": [
      "Accuracy score: 0.735\n"
     ]
    }
   ],
   "source": [
    "#NB with alpha 1.2\n",
    "nb = MultinomialNB(alpha=1.2) \n",
    "#Fitting the model\n",
    "nb.fit(X_train,y_train)\n",
    "#Predictions\n",
    "pred = nb.predict(X_test)\n",
    "#Accuracy\n",
    "print(\"Accuracy score:\", accuracy_score(pred,y_test))"
   ]
  },
  {
   "cell_type": "code",
   "execution_count": 178,
   "metadata": {},
   "outputs": [
    {
     "name": "stdout",
     "output_type": "stream",
     "text": [
      "Accuracy score: 0.735\n"
     ]
    }
   ],
   "source": [
    "#NB with alpha 1.5\n",
    "nb = MultinomialNB(alpha=1.5) \n",
    "#Fitting the model\n",
    "nb.fit(X_train,y_train)\n",
    "#Predictions\n",
    "pred = nb.predict(X_test)\n",
    "#Accuracy\n",
    "print(\"Accuracy score:\", accuracy_score(pred,y_test))"
   ]
  },
  {
   "cell_type": "markdown",
   "metadata": {},
   "source": [
    "From the above models we can see that the model with the best accuracy is the one with alpha = 1.5"
   ]
  },
  {
   "cell_type": "markdown",
   "metadata": {},
   "source": [
    "_Decision tree classifier:_"
   ]
  },
  {
   "cell_type": "code",
   "execution_count": 179,
   "metadata": {},
   "outputs": [
    {
     "name": "stdout",
     "output_type": "stream",
     "text": [
      "              precision    recall  f1-score   support\n",
      "\n",
      "           0       0.48      0.49      0.49        77\n",
      "           1       0.68      0.67      0.67       123\n",
      "\n",
      "   micro avg       0.60      0.60      0.60       200\n",
      "   macro avg       0.58      0.58      0.58       200\n",
      "weighted avg       0.60      0.60      0.60       200\n",
      "\n",
      "[[38 39]\n",
      " [41 82]]\n",
      "Accuracy for decision tree classifier:  0.6\n"
     ]
    }
   ],
   "source": [
    "#Decision tree classifier\n",
    "dtree = DecisionTreeClassifier()\n",
    "#Fitting the model\n",
    "dtree.fit(X_train,y_train)\n",
    "#Predictions\n",
    "predictions = dtree.predict(X_test)\n",
    "#Classification report\n",
    "print(classification_report(y_test,predictions))\n",
    "#Confusion matrix\n",
    "print(confusion_matrix(y_test,predictions))\n",
    "#Accuracy score\n",
    "print(\"Accuracy for decision tree classifier: \", accuracy_score(y_test,predictions))"
   ]
  },
  {
   "cell_type": "markdown",
   "metadata": {},
   "source": [
    "_Random forest classifier:_"
   ]
  },
  {
   "cell_type": "code",
   "execution_count": 180,
   "metadata": {},
   "outputs": [
    {
     "name": "stdout",
     "output_type": "stream",
     "text": [
      "              precision    recall  f1-score   support\n",
      "\n",
      "           0       0.67      0.48      0.56        77\n",
      "           1       0.72      0.85      0.78       123\n",
      "\n",
      "   micro avg       0.71      0.71      0.71       200\n",
      "   macro avg       0.70      0.67      0.67       200\n",
      "weighted avg       0.70      0.71      0.70       200\n",
      "\n",
      "[[ 37  40]\n",
      " [ 18 105]]\n",
      "Accuracy score for Random forest Classifier 0.71\n"
     ]
    }
   ],
   "source": [
    "#RFC model without hyper parameters and estimators 600\n",
    "rfc = RandomForestClassifier(n_estimators=1000)\n",
    "#Fitting the model\n",
    "rfc.fit(X_train,y_train)\n",
    "#Prediction\n",
    "predictions = rfc.predict(X_test)\n",
    "#Classification report\n",
    "print(classification_report(y_test,predictions))\n",
    "#Confusion matrix\n",
    "print(confusion_matrix(y_test,predictions))\n",
    "#Accuracy score\n",
    "print(\"Accuracy score for Random forest Classifier\", accuracy_score(y_test,predictions))"
   ]
  },
  {
   "cell_type": "markdown",
   "metadata": {},
   "source": [
    "_Random forest classifier with Randomized Search CV:_"
   ]
  },
  {
   "cell_type": "code",
   "execution_count": 181,
   "metadata": {},
   "outputs": [
    {
     "name": "stdout",
     "output_type": "stream",
     "text": [
      "Fitting 3 folds for each of 80 candidates, totalling 240 fits\n"
     ]
    },
    {
     "name": "stderr",
     "output_type": "stream",
     "text": [
      "[Parallel(n_jobs=-1)]: Using backend LokyBackend with 4 concurrent workers.\n",
      "[Parallel(n_jobs=-1)]: Done  33 tasks      | elapsed:   27.9s\n",
      "[Parallel(n_jobs=-1)]: Done 154 tasks      | elapsed:  1.8min\n",
      "[Parallel(n_jobs=-1)]: Done 240 out of 240 | elapsed:  3.1min finished\n"
     ]
    },
    {
     "data": {
      "text/plain": [
       "{'n_estimators': 200,\n",
       " 'min_samples_split': 2,\n",
       " 'min_samples_leaf': 1,\n",
       " 'max_features': 'auto',\n",
       " 'max_depth': 90,\n",
       " 'bootstrap': False}"
      ]
     },
     "execution_count": 181,
     "metadata": {},
     "output_type": "execute_result"
    }
   ],
   "source": [
    "#First creating a random grid with all the necessary parameters\n",
    "#Number of trees\n",
    "n = [int(x) for x in np.linspace(start = 100, stop = 1000, num = 10)]\n",
    "\n",
    "#Bootstrap\n",
    "bs = [True, False]\n",
    "\n",
    "#Min. number of samples to split a node\n",
    "minimum_split = [2, 5, 10]\n",
    "\n",
    "#Min. number of samples required at each leaf node\n",
    "minimum_sample = [1, 2, 4]\n",
    "\n",
    "#Max features at each split\n",
    "max_features = ['sqrt','auto']\n",
    "\n",
    "#Max level of the tree\n",
    "depth = [int(x) for x in np.linspace(10, 100, num = 10)]\n",
    "depth.append(None)\n",
    "\n",
    "#Random grid\n",
    "grid = {'n_estimators': n,\n",
    "               'max_features': max_features,\n",
    "               'max_depth': depth,\n",
    "               'min_samples_split': minimum_split,\n",
    "               'min_samples_leaf': minimum_sample,\n",
    "               'bootstrap': bs}\n",
    "\n",
    "#RandomizedSearch object\n",
    "rfc = RandomizedSearchCV(estimator = RandomForestClassifier(), \n",
    "                         param_distributions = grid, \n",
    "                         #Number of iterations 80 with 3 folds\n",
    "                         n_iter = 80, cv = 3, \n",
    "                         verbose=2, \n",
    "                         random_state=42, \n",
    "                         n_jobs = -1)\n",
    "\n",
    "#Fitting the training model\n",
    "rfc.fit(X_train, y_train)\n",
    "\n",
    "#Checking the best parameters of the model\n",
    "rfc.best_params_"
   ]
  },
  {
   "cell_type": "code",
   "execution_count": 182,
   "metadata": {},
   "outputs": [
    {
     "name": "stdout",
     "output_type": "stream",
     "text": [
      "Accuracy for Random Forest Classifier with hyper-parameter tuning: 0.725\n"
     ]
    }
   ],
   "source": [
    "#Predicting on the test data\n",
    "pred = rfc.predict(X_test) \n",
    "#Accuracy\n",
    "print(\"Accuracy for Random Forest Classifier with hyper-parameter tuning:\", accuracy_score(pred, y_test))"
   ]
  },
  {
   "cell_type": "markdown",
   "metadata": {},
   "source": [
    "_SVM:_\n"
   ]
  },
  {
   "cell_type": "code",
   "execution_count": 183,
   "metadata": {},
   "outputs": [
    {
     "name": "stderr",
     "output_type": "stream",
     "text": [
      "C:\\Users\\SP\\Anaconda3\\lib\\site-packages\\sklearn\\svm\\base.py:196: FutureWarning: The default value of gamma will change from 'auto' to 'scale' in version 0.22 to account better for unscaled features. Set gamma explicitly to 'auto' or 'scale' to avoid this warning.\n",
      "  \"avoid this warning.\", FutureWarning)\n"
     ]
    },
    {
     "name": "stdout",
     "output_type": "stream",
     "text": [
      "[[  0  77]\n",
      " [  0 123]]\n",
      "              precision    recall  f1-score   support\n",
      "\n",
      "           0       0.00      0.00      0.00        77\n",
      "           1       0.61      1.00      0.76       123\n",
      "\n",
      "   micro avg       0.61      0.61      0.61       200\n",
      "   macro avg       0.31      0.50      0.38       200\n",
      "weighted avg       0.38      0.61      0.47       200\n",
      "\n",
      "Accuracy for SVM: 0.615\n"
     ]
    },
    {
     "name": "stderr",
     "output_type": "stream",
     "text": [
      "C:\\Users\\SP\\Anaconda3\\lib\\site-packages\\sklearn\\metrics\\classification.py:1143: UndefinedMetricWarning: Precision and F-score are ill-defined and being set to 0.0 in labels with no predicted samples.\n",
      "  'precision', 'predicted', average, warn_for)\n"
     ]
    }
   ],
   "source": [
    "#SVM without hyper parameters\n",
    "svc_model = SVC()\n",
    "#Fitting values\n",
    "svc_model.fit(X_train,y_train)  \n",
    "# Predict values on test data\n",
    "predictions = svc_model.predict(X_test)\n",
    "#Confusion matrix\n",
    "print(confusion_matrix(y_test,predictions))\n",
    "#Classification report\n",
    "print(classification_report(y_test,predictions))\n",
    "#Accuracy\n",
    "print(\"Accuracy for SVM:\", accuracy_score(predictions,y_test))"
   ]
  },
  {
   "cell_type": "markdown",
   "metadata": {},
   "source": [
    "__Q 2.7 Which model(s) is the best and how well does it perform?__"
   ]
  },
  {
   "cell_type": "markdown",
   "metadata": {},
   "source": [
    "The accuracy of the different models are as follows:\n",
    "\n",
    "Logistic regression: 71%\n",
    "\n",
    "Naive Bayes with alpha=0.05: 66.5%\n",
    "\n",
    "Naive Bayes with alpha=1: 73%\n",
    "\n",
    "Naive Bayes with alpha=1.2: 73.5%\n",
    "\n",
    "Naive Bayes with alpha=1.5: 73.5%\n",
    "\n",
    "Decision tree classifier:60%\n",
    "\n",
    "Random forest classifier:71%\n",
    "\n",
    "Random forest with Random Search CV: 72.5%\n",
    "\n",
    "SVM: 62.5%\n",
    "\n",
    "From all the above coefficients we can see that Naive Bayes with alpha 1.5 and Random Forest with Random Search CV have the higest accuracy values.\n"
   ]
  },
  {
   "cell_type": "markdown",
   "metadata": {},
   "source": [
    "__Q 2.8 Do your results broadly correspond to what you guessed based on reading the reviews?__"
   ]
  },
  {
   "cell_type": "markdown",
   "metadata": {},
   "source": [
    "The best accuracy for this model is about 73.5% which means that it can predict only 73.5% of the times whether a review is rating =5.\n",
    "My intial assumption holds true as it is very difficult to understand which if reviews have rating=5. The reviews have words like 'great' in both rating = 5 and rating=4, therefore, it's very difficult to differentiate between them."
   ]
  },
  {
   "cell_type": "markdown",
   "metadata": {},
   "source": [
    "__The final exam took 12+ hrs.__"
   ]
  },
  {
   "cell_type": "markdown",
   "metadata": {},
   "source": [
    "Statement of Compliance\n",
    "\n",
    "Please copy and sign the following statement. You may do it on paper (and include the image file or drop\n",
    "the sheet in Ott's mailbox in MGH 370), or add the following text with your name and date in your final\n",
    "document.\n",
    "I affirm that I have had no conversation regarding this exam with any persons other than the instruc-\n",
    "tor or the teaching assistant. Further, I certify that the attached work represents my own thinking. Any\n",
    "information, concepts, or words that originate from other sources are cited in accordance with University\n",
    "of Washington guidelines as published in the Academic Code (available on the course website). I am\n",
    "aware of the serious consequences that result from improper discussions with others or from the improper\n",
    "citation of work that is not my own.\n",
    "\n",
    "SHREE PRIYA\n",
    "\n",
    "3/16/2020\n"
   ]
  },
  {
   "cell_type": "code",
   "execution_count": null,
   "metadata": {},
   "outputs": [],
   "source": []
  }
 ],
 "metadata": {
  "kernelspec": {
   "display_name": "Python 3",
   "language": "python",
   "name": "python3"
  },
  "language_info": {
   "codemirror_mode": {
    "name": "ipython",
    "version": 3
   },
   "file_extension": ".py",
   "mimetype": "text/x-python",
   "name": "python",
   "nbconvert_exporter": "python",
   "pygments_lexer": "ipython3",
   "version": "3.7.3"
  }
 },
 "nbformat": 4,
 "nbformat_minor": 2
}
