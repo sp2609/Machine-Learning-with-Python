{
 "cells": [
  {
   "cell_type": "code",
   "execution_count": 38,
   "metadata": {},
   "outputs": [],
   "source": [
    "import pandas as pd\n",
    "import numpy as np\n",
    "import matplotlib.pyplot as plt\n",
    "%matplotlib inline\n",
    "from sklearn.linear_model import LinearRegression, Ridge, Lasso\n",
    "from sklearn.model_selection import train_test_split\n",
    "from scipy.stats import pearsonr\n",
    "import statsmodels.formula.api as smf\n",
    "from sklearn.metrics import mean_absolute_error, accuracy_score, mean_squared_error\n",
    "from sklearn.linear_model import LinearRegression\n",
    "import os"
   ]
  },
  {
   "cell_type": "markdown",
   "metadata": {},
   "source": [
    "# 1 Explore and clean the data"
   ]
  },
  {
   "cell_type": "markdown",
   "metadata": {},
   "source": [
    "_Load the data. Remove all the missing observations of V23. Now make a table (or a plot) of different answers. What is the mean satisfaction level on this planet? How large a proportion of people are at 6 or more satisfied?_"
   ]
  },
  {
   "cell_type": "code",
   "execution_count": 39,
   "metadata": {},
   "outputs": [
    {
     "data": {
      "text/html": [
       "<div>\n",
       "<style scoped>\n",
       "    .dataframe tbody tr th:only-of-type {\n",
       "        vertical-align: middle;\n",
       "    }\n",
       "\n",
       "    .dataframe tbody tr th {\n",
       "        vertical-align: top;\n",
       "    }\n",
       "\n",
       "    .dataframe thead th {\n",
       "        text-align: right;\n",
       "    }\n",
       "</style>\n",
       "<table border=\"1\" class=\"dataframe\">\n",
       "  <thead>\n",
       "    <tr style=\"text-align: right;\">\n",
       "      <th></th>\n",
       "      <th>V2</th>\n",
       "      <th>V4</th>\n",
       "      <th>V5</th>\n",
       "      <th>V6</th>\n",
       "      <th>V7</th>\n",
       "      <th>V8</th>\n",
       "      <th>V9</th>\n",
       "      <th>V10</th>\n",
       "      <th>V11</th>\n",
       "      <th>V12</th>\n",
       "      <th>...</th>\n",
       "      <th>MN_228S8</th>\n",
       "      <th>MN_229A</th>\n",
       "      <th>MN_230A</th>\n",
       "      <th>MN_233A</th>\n",
       "      <th>MN_237B1</th>\n",
       "      <th>MN_249A1</th>\n",
       "      <th>MN_249A3</th>\n",
       "      <th>I_RELIGBEL</th>\n",
       "      <th>I_NORM1</th>\n",
       "      <th>I_VOICE1</th>\n",
       "    </tr>\n",
       "  </thead>\n",
       "  <tbody>\n",
       "    <tr>\n",
       "      <th>0</th>\n",
       "      <td>12</td>\n",
       "      <td>1</td>\n",
       "      <td>1</td>\n",
       "      <td>1</td>\n",
       "      <td>-2</td>\n",
       "      <td>1</td>\n",
       "      <td>1</td>\n",
       "      <td>2</td>\n",
       "      <td>1</td>\n",
       "      <td>1</td>\n",
       "      <td>...</td>\n",
       "      <td>3</td>\n",
       "      <td>-3</td>\n",
       "      <td>-3</td>\n",
       "      <td>-3</td>\n",
       "      <td>-3</td>\n",
       "      <td>1</td>\n",
       "      <td>1</td>\n",
       "      <td>0.0</td>\n",
       "      <td>1.0</td>\n",
       "      <td>0.00</td>\n",
       "    </tr>\n",
       "    <tr>\n",
       "      <th>1</th>\n",
       "      <td>12</td>\n",
       "      <td>1</td>\n",
       "      <td>2</td>\n",
       "      <td>3</td>\n",
       "      <td>4</td>\n",
       "      <td>2</td>\n",
       "      <td>2</td>\n",
       "      <td>2</td>\n",
       "      <td>2</td>\n",
       "      <td>2</td>\n",
       "      <td>...</td>\n",
       "      <td>3</td>\n",
       "      <td>-3</td>\n",
       "      <td>-3</td>\n",
       "      <td>-3</td>\n",
       "      <td>-3</td>\n",
       "      <td>2</td>\n",
       "      <td>-1</td>\n",
       "      <td>0.0</td>\n",
       "      <td>1.0</td>\n",
       "      <td>0.66</td>\n",
       "    </tr>\n",
       "    <tr>\n",
       "      <th>2</th>\n",
       "      <td>12</td>\n",
       "      <td>1</td>\n",
       "      <td>3</td>\n",
       "      <td>2</td>\n",
       "      <td>4</td>\n",
       "      <td>2</td>\n",
       "      <td>1</td>\n",
       "      <td>2</td>\n",
       "      <td>2</td>\n",
       "      <td>2</td>\n",
       "      <td>...</td>\n",
       "      <td>4</td>\n",
       "      <td>1</td>\n",
       "      <td>1</td>\n",
       "      <td>2</td>\n",
       "      <td>-3</td>\n",
       "      <td>1</td>\n",
       "      <td>1</td>\n",
       "      <td>0.0</td>\n",
       "      <td>1.0</td>\n",
       "      <td>0.33</td>\n",
       "    </tr>\n",
       "    <tr>\n",
       "      <th>3</th>\n",
       "      <td>12</td>\n",
       "      <td>1</td>\n",
       "      <td>1</td>\n",
       "      <td>3</td>\n",
       "      <td>4</td>\n",
       "      <td>3</td>\n",
       "      <td>1</td>\n",
       "      <td>2</td>\n",
       "      <td>1</td>\n",
       "      <td>2</td>\n",
       "      <td>...</td>\n",
       "      <td>2</td>\n",
       "      <td>2</td>\n",
       "      <td>1</td>\n",
       "      <td>2</td>\n",
       "      <td>-3</td>\n",
       "      <td>1</td>\n",
       "      <td>2</td>\n",
       "      <td>0.0</td>\n",
       "      <td>1.0</td>\n",
       "      <td>0.00</td>\n",
       "    </tr>\n",
       "    <tr>\n",
       "      <th>4</th>\n",
       "      <td>12</td>\n",
       "      <td>1</td>\n",
       "      <td>1</td>\n",
       "      <td>1</td>\n",
       "      <td>2</td>\n",
       "      <td>1</td>\n",
       "      <td>1</td>\n",
       "      <td>1</td>\n",
       "      <td>3</td>\n",
       "      <td>2</td>\n",
       "      <td>...</td>\n",
       "      <td>2</td>\n",
       "      <td>2</td>\n",
       "      <td>1</td>\n",
       "      <td>2</td>\n",
       "      <td>-3</td>\n",
       "      <td>1</td>\n",
       "      <td>2</td>\n",
       "      <td>0.0</td>\n",
       "      <td>1.0</td>\n",
       "      <td>0.66</td>\n",
       "    </tr>\n",
       "  </tbody>\n",
       "</table>\n",
       "<p>5 rows × 328 columns</p>\n",
       "</div>"
      ],
      "text/plain": [
       "   V2  V4  V5  V6  V7  V8  V9  V10  V11  V12  ...  MN_228S8  MN_229A  MN_230A  \\\n",
       "0  12   1   1   1  -2   1   1    2    1    1  ...         3       -3       -3   \n",
       "1  12   1   2   3   4   2   2    2    2    2  ...         3       -3       -3   \n",
       "2  12   1   3   2   4   2   1    2    2    2  ...         4        1        1   \n",
       "3  12   1   1   3   4   3   1    2    1    2  ...         2        2        1   \n",
       "4  12   1   1   1   2   1   1    1    3    2  ...         2        2        1   \n",
       "\n",
       "   MN_233A  MN_237B1  MN_249A1  MN_249A3  I_RELIGBEL  I_NORM1  I_VOICE1  \n",
       "0       -3        -3         1         1         0.0      1.0      0.00  \n",
       "1       -3        -3         2        -1         0.0      1.0      0.66  \n",
       "2        2        -3         1         1         0.0      1.0      0.33  \n",
       "3        2        -3         1         2         0.0      1.0      0.00  \n",
       "4        2        -3         1         2         0.0      1.0      0.66  \n",
       "\n",
       "[5 rows x 328 columns]"
      ]
     },
     "execution_count": 39,
     "metadata": {},
     "output_type": "execute_result"
    }
   ],
   "source": [
    "#Reading the data\n",
    "wvs = pd.read_csv('wvs.csv.bz2', sep='\\t')\n",
    "#Validating the data\n",
    "wvs.head()"
   ]
  },
  {
   "cell_type": "code",
   "execution_count": 40,
   "metadata": {},
   "outputs": [
    {
     "name": "stdout",
     "output_type": "stream",
     "text": [
      "(89771, 328)\n",
      "(90350, 328)\n",
      "Mean satisfaction level 6.8290316471911865\n"
     ]
    },
    {
     "name": "stderr",
     "output_type": "stream",
     "text": [
      "C:\\Users\\SP\\Anaconda3\\lib\\site-packages\\ipykernel_launcher.py:11: SettingWithCopyWarning: \n",
      "A value is trying to be set on a copy of a slice from a DataFrame.\n",
      "Try using .loc[row_indexer,col_indexer] = value instead\n",
      "\n",
      "See the caveats in the documentation: http://pandas.pydata.org/pandas-docs/stable/indexing.html#indexing-view-versus-copy\n",
      "  # This is added back by InteractiveShellApp.init_path()\n"
     ]
    },
    {
     "data": {
      "image/png": "[encoded data removed]",
      "text/plain": [
       "<Figure size 432x288 with 1 Axes>"
      ]
     },
     "metadata": {
      "needs_background": "light"
     },
     "output_type": "display_data"
    }
   ],
   "source": [
    "#Only selecting the positive outcomes on V23\n",
    "valid_wvs = wvs[wvs['V23']>0]\n",
    "\n",
    "#Validating the data\n",
    "print(valid_wvs.shape)\n",
    "\n",
    "#Checking the difference\n",
    "print(wvs.shape)\n",
    "\n",
    "#Checking the propotion of people 6 or more satisfied\n",
    "valid_wvs['Above6'] = np.where(valid_wvs['V23']>=6, 1, 0)\n",
    "\n",
    "\n",
    "#Creating this histogram\n",
    "valid_wvs['Above6'].value_counts().plot(kind='bar')\n",
    "\n",
    "#Mean satisfaction level\n",
    "print(\"Mean satisfaction level\", valid_wvs['V23'].mean())"
   ]
  },
  {
   "cell_type": "markdown",
   "metadata": {},
   "source": [
    "__The mean satisfaction level on this planet for this dataset is 6.89__\n",
    "\n",
    "__The number of people having above 6 satisfaction level is 3 times more than people having above 6 satisfaction level.__"
   ]
  },
  {
   "cell_type": "markdown",
   "metadata": {},
   "source": [
    "# 2. Create the Design Matrix"
   ]
  },
  {
   "cell_type": "markdown",
   "metadata": {},
   "source": [
    "_1. Create your outcome variable y out of life satisfaction V23_"
   ]
  },
  {
   "cell_type": "code",
   "execution_count": 41,
   "metadata": {},
   "outputs": [],
   "source": [
    "#outcome variable\n",
    "y = valid_wvs['V23']"
   ]
  },
  {
   "cell_type": "markdown",
   "metadata": {},
   "source": [
    "_2. Create a design matrix that contains at least 100 variables from the WVS data._"
   ]
  },
  {
   "cell_type": "code",
   "execution_count": 42,
   "metadata": {},
   "outputs": [
    {
     "name": "stdout",
     "output_type": "stream",
     "text": [
      "(89771, 101)\n"
     ]
    }
   ],
   "source": [
    "#Creating X\n",
    "X = valid_wvs.iloc[:, 0:111]\n",
    "\n",
    "#Removing all these roles because they have a lot of values less than 0\n",
    "X = X.drop('V44_ES', axis=1)\n",
    "X = X.drop('V56_NZ', axis=1)\n",
    "X = X.drop('V90', axis=1)\n",
    "X = X.drop('V91', axis=1)\n",
    "X = X.drop('V92', axis=1)\n",
    "X = X.drop('V74B', axis=1)\n",
    "X = X.drop('V93', axis=1)\n",
    "X = X.drop('V94', axis=1)\n",
    "X = X.drop('V95', axis=1)\n",
    "X = X.drop('V96', axis=1)\n",
    "\n",
    "#Validating the data\n",
    "print(X.shape)"
   ]
  },
  {
   "cell_type": "code",
   "execution_count": 43,
   "metadata": {},
   "outputs": [
    {
     "name": "stdout",
     "output_type": "stream",
     "text": [
      "(35063, 101)\n"
     ]
    }
   ],
   "source": [
    "#Removing missing and ensuring valid data\n",
    "for i, column in enumerate(list(X.columns)):\n",
    "    X.drop(X[X[column]<0].index, inplace=True)\n",
    "\n",
    "#Creating dummy columns\n",
    "X_final = pd.get_dummies(X, columns = ['V2', 'V80', 'V57', 'V60', 'V61', 'V62', 'V63', 'V64', 'V65', 'V66', 'V81', 'V82',\n",
    "                                      'V83', 'V12', 'V13', 'V14', 'V15', 'V16','V17', 'V18', 'V19', 'V20', 'V21',\n",
    "                                      'V22', 'V24', 'V25'], drop_first=True)\n",
    "#Validating the data\n",
    "print(X.shape)"
   ]
  },
  {
   "cell_type": "code",
   "execution_count": 44,
   "metadata": {},
   "outputs": [
    {
     "name": "stdout",
     "output_type": "stream",
     "text": [
      "(35063, 159)\n"
     ]
    },
    {
     "data": {
      "text/html": [
       "<div>\n",
       "<style scoped>\n",
       "    .dataframe tbody tr th:only-of-type {\n",
       "        vertical-align: middle;\n",
       "    }\n",
       "\n",
       "    .dataframe tbody tr th {\n",
       "        vertical-align: top;\n",
       "    }\n",
       "\n",
       "    .dataframe thead th {\n",
       "        text-align: right;\n",
       "    }\n",
       "</style>\n",
       "<table border=\"1\" class=\"dataframe\">\n",
       "  <thead>\n",
       "    <tr style=\"text-align: right;\">\n",
       "      <th></th>\n",
       "      <th>V4</th>\n",
       "      <th>V5</th>\n",
       "      <th>V6</th>\n",
       "      <th>V7</th>\n",
       "      <th>V8</th>\n",
       "      <th>V9</th>\n",
       "      <th>V10</th>\n",
       "      <th>V11</th>\n",
       "      <th>V23</th>\n",
       "      <th>V26</th>\n",
       "      <th>...</th>\n",
       "      <th>V16_2</th>\n",
       "      <th>V17_2</th>\n",
       "      <th>V18_2</th>\n",
       "      <th>V19_2</th>\n",
       "      <th>V20_2</th>\n",
       "      <th>V21_2</th>\n",
       "      <th>V22_2</th>\n",
       "      <th>V24_2</th>\n",
       "      <th>V25_1</th>\n",
       "      <th>V25_2</th>\n",
       "    </tr>\n",
       "  </thead>\n",
       "  <tbody>\n",
       "    <tr>\n",
       "      <th>2230</th>\n",
       "      <td>1</td>\n",
       "      <td>2</td>\n",
       "      <td>2</td>\n",
       "      <td>3</td>\n",
       "      <td>2</td>\n",
       "      <td>2</td>\n",
       "      <td>1</td>\n",
       "      <td>4</td>\n",
       "      <td>5</td>\n",
       "      <td>0</td>\n",
       "      <td>...</td>\n",
       "      <td>0</td>\n",
       "      <td>1</td>\n",
       "      <td>0</td>\n",
       "      <td>1</td>\n",
       "      <td>1</td>\n",
       "      <td>0</td>\n",
       "      <td>1</td>\n",
       "      <td>1</td>\n",
       "      <td>0</td>\n",
       "      <td>0</td>\n",
       "    </tr>\n",
       "    <tr>\n",
       "      <th>2231</th>\n",
       "      <td>1</td>\n",
       "      <td>2</td>\n",
       "      <td>2</td>\n",
       "      <td>2</td>\n",
       "      <td>1</td>\n",
       "      <td>1</td>\n",
       "      <td>2</td>\n",
       "      <td>4</td>\n",
       "      <td>5</td>\n",
       "      <td>1</td>\n",
       "      <td>...</td>\n",
       "      <td>0</td>\n",
       "      <td>1</td>\n",
       "      <td>0</td>\n",
       "      <td>1</td>\n",
       "      <td>1</td>\n",
       "      <td>0</td>\n",
       "      <td>1</td>\n",
       "      <td>1</td>\n",
       "      <td>1</td>\n",
       "      <td>0</td>\n",
       "    </tr>\n",
       "    <tr>\n",
       "      <th>2232</th>\n",
       "      <td>1</td>\n",
       "      <td>2</td>\n",
       "      <td>2</td>\n",
       "      <td>3</td>\n",
       "      <td>2</td>\n",
       "      <td>2</td>\n",
       "      <td>2</td>\n",
       "      <td>2</td>\n",
       "      <td>5</td>\n",
       "      <td>0</td>\n",
       "      <td>...</td>\n",
       "      <td>0</td>\n",
       "      <td>1</td>\n",
       "      <td>0</td>\n",
       "      <td>1</td>\n",
       "      <td>1</td>\n",
       "      <td>0</td>\n",
       "      <td>1</td>\n",
       "      <td>1</td>\n",
       "      <td>0</td>\n",
       "      <td>0</td>\n",
       "    </tr>\n",
       "    <tr>\n",
       "      <th>2233</th>\n",
       "      <td>1</td>\n",
       "      <td>2</td>\n",
       "      <td>2</td>\n",
       "      <td>3</td>\n",
       "      <td>2</td>\n",
       "      <td>1</td>\n",
       "      <td>1</td>\n",
       "      <td>2</td>\n",
       "      <td>7</td>\n",
       "      <td>0</td>\n",
       "      <td>...</td>\n",
       "      <td>0</td>\n",
       "      <td>1</td>\n",
       "      <td>1</td>\n",
       "      <td>0</td>\n",
       "      <td>1</td>\n",
       "      <td>0</td>\n",
       "      <td>1</td>\n",
       "      <td>1</td>\n",
       "      <td>0</td>\n",
       "      <td>0</td>\n",
       "    </tr>\n",
       "    <tr>\n",
       "      <th>2234</th>\n",
       "      <td>1</td>\n",
       "      <td>2</td>\n",
       "      <td>2</td>\n",
       "      <td>2</td>\n",
       "      <td>2</td>\n",
       "      <td>2</td>\n",
       "      <td>2</td>\n",
       "      <td>4</td>\n",
       "      <td>5</td>\n",
       "      <td>0</td>\n",
       "      <td>...</td>\n",
       "      <td>0</td>\n",
       "      <td>1</td>\n",
       "      <td>0</td>\n",
       "      <td>1</td>\n",
       "      <td>1</td>\n",
       "      <td>0</td>\n",
       "      <td>1</td>\n",
       "      <td>1</td>\n",
       "      <td>0</td>\n",
       "      <td>0</td>\n",
       "    </tr>\n",
       "  </tbody>\n",
       "</table>\n",
       "<p>5 rows × 159 columns</p>\n",
       "</div>"
      ],
      "text/plain": [
       "      V4  V5  V6  V7  V8  V9  V10  V11  V23  V26  ...  V16_2  V17_2  V18_2  \\\n",
       "2230   1   2   2   3   2   2    1    4    5    0  ...      0      1      0   \n",
       "2231   1   2   2   2   1   1    2    4    5    1  ...      0      1      0   \n",
       "2232   1   2   2   3   2   2    2    2    5    0  ...      0      1      0   \n",
       "2233   1   2   2   3   2   1    1    2    7    0  ...      0      1      1   \n",
       "2234   1   2   2   2   2   2    2    4    5    0  ...      0      1      0   \n",
       "\n",
       "      V19_2  V20_2  V21_2  V22_2  V24_2  V25_1  V25_2  \n",
       "2230      1      1      0      1      1      0      0  \n",
       "2231      1      1      0      1      1      1      0  \n",
       "2232      1      1      0      1      1      0      0  \n",
       "2233      0      1      0      1      1      0      0  \n",
       "2234      1      1      0      1      1      0      0  \n",
       "\n",
       "[5 rows x 159 columns]"
      ]
     },
     "execution_count": 44,
     "metadata": {},
     "output_type": "execute_result"
    }
   ],
   "source": [
    "#Checking the shape\n",
    "print(X_final.shape)\n",
    "\n",
    "#Validating the data\n",
    "X_final.head()"
   ]
  },
  {
   "cell_type": "markdown",
   "metadata": {},
   "source": [
    "__After removing the missing and creating the dummy columns, there are finally 35063 rows and 159 columns.__"
   ]
  },
  {
   "cell_type": "markdown",
   "metadata": {},
   "source": [
    "# 3 Condition numbers"
   ]
  },
  {
   "cell_type": "code",
   "execution_count": 45,
   "metadata": {},
   "outputs": [
    {
     "name": "stdout",
     "output_type": "stream",
     "text": [
      "1067.499902845009\n"
     ]
    }
   ],
   "source": [
    "#Calculating the condition number after every row and checking if it goes above 10000\n",
    "for i in range(1,len(list(X_final.columns))):\n",
    "    k = np.linalg.cond(X_final.to_numpy()[:,0:i])\n",
    "    if(k>10000):\n",
    "        print(i)\n",
    "        break\n",
    "print(k)"
   ]
  },
  {
   "cell_type": "markdown",
   "metadata": {},
   "source": [
    "__The condition did not go up unpredictably. The condition number for the matrix is 1067.499.__"
   ]
  },
  {
   "cell_type": "markdown",
   "metadata": {},
   "source": [
    "# 4 Do Some Social Science "
   ]
  },
  {
   "cell_type": "markdown",
   "metadata": {},
   "source": [
    "_Run a linear regression models explaining satisfaction with these three variables._"
   ]
  },
  {
   "cell_type": "code",
   "execution_count": 46,
   "metadata": {},
   "outputs": [
    {
     "name": "stdout",
     "output_type": "stream",
     "text": [
      "Statsmodel.Formula.Api Method\n",
      "Intercept    4.274996\n",
      "V11         -0.418695\n",
      "V55          0.210888\n",
      "V59          0.331759\n",
      "dtype: float64\n",
      "1.9112975277027897\n"
     ]
    }
   ],
   "source": [
    "#Making the stats model api of linear model\n",
    "print(\"Statsmodel.Formula.Api Method\")\n",
    "model1 = smf.ols(formula='V23 ~ V11 + V55 + V59', data=valid_wvs).fit()\n",
    "\n",
    "#Parameters\n",
    "print(model1.params)\n",
    "\n",
    "#RMSE of the training data\n",
    "print(np.sqrt(mean_squared_error(y, model1.fittedvalues)))"
   ]
  },
  {
   "cell_type": "markdown",
   "metadata": {},
   "source": [
    "__RMSE as 1.9 will serve as the benchmark for the rest of the results.__"
   ]
  },
  {
   "cell_type": "markdown",
   "metadata": {},
   "source": [
    "# 5 Back to ML: Model"
   ]
  },
  {
   "cell_type": "code",
   "execution_count": 47,
   "metadata": {},
   "outputs": [
    {
     "data": {
      "text/plain": [
       "1071.4631581702029"
      ]
     },
     "execution_count": 47,
     "metadata": {},
     "output_type": "execute_result"
    }
   ],
   "source": [
    "#The condition number of the model\n",
    "np.linalg.cond(X_final.to_numpy())"
   ]
  },
  {
   "cell_type": "code",
   "execution_count": 48,
   "metadata": {},
   "outputs": [],
   "source": [
    "#Creating the dataframe\n",
    "X_final = pd.DataFrame(X_final)"
   ]
  },
  {
   "cell_type": "code",
   "execution_count": 57,
   "metadata": {},
   "outputs": [],
   "source": [
    "#Making training and validation set\n",
    "X_train, X_valid, y_train, y_valid = train_test_split(X_final.drop('V23', axis=1), X_final.V23, test_size=0.2, random_state=324)\n"
   ]
  },
  {
   "cell_type": "code",
   "execution_count": 58,
   "metadata": {},
   "outputs": [
    {
     "data": {
      "text/plain": [
       "1025.0507349845302"
      ]
     },
     "execution_count": 58,
     "metadata": {},
     "output_type": "execute_result"
    }
   ],
   "source": [
    "#Calculating the condition number of the training data\n",
    "np.linalg.cond(X_train)"
   ]
  },
  {
   "cell_type": "code",
   "execution_count": 50,
   "metadata": {},
   "outputs": [
    {
     "name": "stdout",
     "output_type": "stream",
     "text": [
      "RMSE training data: 1.7457448361097134\n",
      "RMSE testing data: 1.731744576955622\n"
     ]
    }
   ],
   "source": [
    "#Making linear regression model\n",
    "m = LinearRegression()\n",
    "m.fit(X_train, y_train)\n",
    "pred = m.predict(X_valid)\n",
    "pred2 = m.predict(X_train)\n",
    "\n",
    "print('RMSE training data:', np.sqrt(mean_squared_error(y_train, pred2 )))\n",
    "print('RMSE testing data:', np.sqrt(mean_squared_error(y_valid, pred)))"
   ]
  },
  {
   "cell_type": "code",
   "execution_count": 51,
   "metadata": {},
   "outputs": [
    {
     "name": "stdout",
     "output_type": "stream",
     "text": [
      "RMSE training data: 1.7457452030519622\n",
      "RMSE testing data: 1.7317418656722223\n"
     ]
    }
   ],
   "source": [
    "#Making a ridge model\n",
    "m = Ridge()\n",
    "m.fit(X_train, y_train)\n",
    "pred = m.predict(X_valid)\n",
    "pred2 = m.predict(X_train)\n",
    "\n",
    "print('RMSE training data:', np.sqrt(mean_squared_error(y_train, pred2 )))\n",
    "print('RMSE testing data:', np.sqrt(mean_squared_error(y_valid, pred)))"
   ]
  },
  {
   "cell_type": "code",
   "execution_count": 52,
   "metadata": {},
   "outputs": [
    {
     "name": "stdout",
     "output_type": "stream",
     "text": [
      "RMSE training data: 1.990114974220637\n",
      "RMSE testing data: 1.9793159557535667\n"
     ]
    }
   ],
   "source": [
    "#Making a lasso model\n",
    "m = Lasso()\n",
    "m.fit(X_train, y_train)\n",
    "pred = m.predict(X_valid)\n",
    "pred2 = m.predict(X_train)\n",
    "\n",
    "print('RMSE training data:', np.sqrt(mean_squared_error(y_train, pred2 )))\n",
    "print('RMSE testing data:', np.sqrt(mean_squared_error(y_valid, pred)))"
   ]
  },
  {
   "cell_type": "markdown",
   "metadata": {},
   "source": [
    "\n",
    "            Training RMSE    Testing RMSE\n",
    "    Linear        1.74             1.73\n",
    "\n",
    "    Ridge         1.74             1.73\n",
    "\n",
    "    Lasso         1.99             1.97\n",
    "\n",
    "    OLS           1.9\n",
    "\n",
    "__From the above results, we can see that there is NO significant difference between the training and testing RMSE in Linear and Ridge models. Lasso Model and OLS have slightly higher RMSE but the difference is not significant enough to conclude anything.__"
   ]
  },
  {
   "cell_type": "markdown",
   "metadata": {},
   "source": [
    "# 6 Let's Overfit!"
   ]
  },
  {
   "cell_type": "code",
   "execution_count": 53,
   "metadata": {},
   "outputs": [
    {
     "name": "stdout",
     "output_type": "stream",
     "text": [
      "(1000, 159)\n",
      "Condition number:  7.757716390572246e+18\n"
     ]
    }
   ],
   "source": [
    "#Making a subset of the data\n",
    "subset1 = X_final.sample(n=1000)\n",
    "print(subset1.shape)\n",
    "print(\"Condition number: \", np.linalg.cond(subset1.to_numpy()))"
   ]
  },
  {
   "cell_type": "markdown",
   "metadata": {},
   "source": [
    "__The condition number has slightly increased from the original data but the increase is not significant enough for a conclusion.__"
   ]
  },
  {
   "cell_type": "code",
   "execution_count": 54,
   "metadata": {},
   "outputs": [
    {
     "name": "stdout",
     "output_type": "stream",
     "text": [
      "Linear model: \n",
      "RMSE training data: 1.6262874924064126\n",
      "RMSE testing data: 2.0517457474157452\n",
      "\n",
      " Ridge: \n",
      "RMSE training data: 1.6274090856018006\n",
      "RMSE testing data: 2.0381983249464257\n",
      "\n",
      " Lasso: \n",
      "RMSE training data: 2.061911428945449\n",
      "RMSE testing data: 2.159199942548107\n"
     ]
    }
   ],
   "source": [
    "X_train, X_valid, y_train, y_valid = train_test_split(subset1.drop('V23', axis=1), subset1.V23, test_size=0.2, random_state=324)\n",
    "\n",
    "print(\"Linear model: \")\n",
    "m = LinearRegression()\n",
    "mod = m.fit(X_train, y_train)\n",
    "pred = m.predict(X_valid)\n",
    "pred2 = m.predict(X_train)\n",
    "print('RMSE training data:', np.sqrt(mean_squared_error(y_train, pred2 )))\n",
    "print('RMSE testing data:', np.sqrt(mean_squared_error(y_valid, pred)))\n",
    "\n",
    "print(\"\\n Ridge: \")\n",
    "\n",
    "m = Ridge()\n",
    "m.fit(X_train, y_train)\n",
    "pred = m.predict(X_valid)\n",
    "pred2 = m.predict(X_train)\n",
    "print('RMSE training data:', np.sqrt(mean_squared_error(y_train, pred2 )))\n",
    "print('RMSE testing data:', np.sqrt(mean_squared_error(y_valid, pred)))\n",
    "\n",
    "print(\"\\n Lasso: \")\n",
    "\n",
    "m = Lasso()\n",
    "m.fit(X_train, y_train)\n",
    "pred = m.predict(X_valid)\n",
    "pred2 = m.predict(X_train)\n",
    "print('RMSE training data:', np.sqrt(mean_squared_error(y_train, pred2 )))\n",
    "print('RMSE testing data:', np.sqrt(mean_squared_error(y_valid, pred)))"
   ]
  },
  {
   "cell_type": "markdown",
   "metadata": {},
   "source": [
    "__From the above RMSE results, we can see that there is no significant difference in the models even after overfitting.__\n"
   ]
  },
  {
   "cell_type": "code",
   "execution_count": 55,
   "metadata": {},
   "outputs": [
    {
     "name": "stdout",
     "output_type": "stream",
     "text": [
      "(2000, 159)\n",
      "Condition number:  1171.0414463449472\n"
     ]
    }
   ],
   "source": [
    "#Testing with another subset\n",
    "subset2 = X_final.sample(2000)\n",
    "print(subset2.shape)\n",
    "print(\"Condition number: \", np.linalg.cond(subset2.to_numpy()))"
   ]
  },
  {
   "cell_type": "markdown",
   "metadata": {},
   "source": [
    "__The condition number has slightly increased from the original data and is comparable to the 1000 sample data but the increase is not significant enough for a conclusion.__"
   ]
  },
  {
   "cell_type": "code",
   "execution_count": 56,
   "metadata": {},
   "outputs": [
    {
     "name": "stdout",
     "output_type": "stream",
     "text": [
      "Linear model: \n",
      "RMSE training data: 1.646367267355582\n",
      "RMSE testing data: 1.820967166716831\n",
      "\n",
      " Ridge: \n",
      "RMSE training data: 1.6465838337325616\n",
      "RMSE testing data: 1.819327220483044\n",
      "\n",
      " Lasso: \n",
      "RMSE training data: 1.9680123401558813\n",
      "RMSE testing data: 2.0326111967039457\n"
     ]
    }
   ],
   "source": [
    "X_train, X_valid, y_train, y_valid = train_test_split(subset2.drop('V23', axis=1), subset2.V23, test_size=0.2, random_state=324)\n",
    "\n",
    "print(\"Linear model: \")\n",
    "m = LinearRegression()\n",
    "mod = m.fit(X_train, y_train)\n",
    "pred = m.predict(X_valid)\n",
    "pred2 = m.predict(X_train)\n",
    "print('RMSE training data:', np.sqrt(mean_squared_error(y_train, pred2 )))\n",
    "print('RMSE testing data:', np.sqrt(mean_squared_error(y_valid, pred)))\n",
    "\n",
    "print(\"\\n Ridge: \")\n",
    "\n",
    "m = Ridge()\n",
    "m.fit(X_train, y_train)\n",
    "pred = m.predict(X_valid)\n",
    "pred2 = m.predict(X_train)\n",
    "print('RMSE training data:', np.sqrt(mean_squared_error(y_train, pred2 )))\n",
    "print('RMSE testing data:', np.sqrt(mean_squared_error(y_valid, pred)))\n",
    "\n",
    "print(\"\\n Lasso: \")\n",
    "\n",
    "m = Lasso()\n",
    "m.fit(X_train, y_train)\n",
    "pred = m.predict(X_valid)\n",
    "pred2 = m.predict(X_train)\n",
    "print('RMSE training data:', np.sqrt(mean_squared_error(y_train, pred2 )))\n",
    "print('RMSE testing data:', np.sqrt(mean_squared_error(y_valid, pred)))"
   ]
  },
  {
   "cell_type": "markdown",
   "metadata": {},
   "source": [
    "__From the above RMSE results, we can see that there is no significant difference in the models even after overfitting with 2000 rows of sample data.__"
   ]
  },
  {
   "cell_type": "code",
   "execution_count": null,
   "metadata": {},
   "outputs": [],
   "source": []
  }
 ],
 "metadata": {
  "kernelspec": {
   "display_name": "Python 3",
   "language": "python",
   "name": "python3"
  },
  "language_info": {
   "codemirror_mode": {
    "name": "ipython",
    "version": 3
   },
   "file_extension": ".py",
   "mimetype": "text/x-python",
   "name": "python",
   "nbconvert_exporter": "python",
   "pygments_lexer": "ipython3",
   "version": "3.7.3"
  }
 },
 "nbformat": 4,
 "nbformat_minor": 2
}
